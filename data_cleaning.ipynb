{
 "cells": [
  {
   "cell_type": "code",
   "execution_count": 1,
   "metadata": {},
   "outputs": [],
   "source": [
    "import pandas as pd\n",
    "import numpy as np\n",
    "import matplotlib.pyplot as plt\n",
    "\n",
    "import re\n",
    "\n",
    "\n",
    "from PIL import Image\n",
    "from sklearn import svm\n",
    "from sklearn.feature_extraction.text import TfidfTransformer\n",
    "from sklearn.feature_extraction.text import TfidfVectorizer\n",
    "from sklearn.metrics import accuracy_score\n",
    "from sklearn.metrics import plot_roc_curve\n",
    "from sklearn.naive_bayes import MultinomialNB\n",
    "from sklearn.neighbors import KNeighborsClassifier\n",
    "from wordcloud import WordCloud, STOPWORDS, ImageColorGenerator\n",
    "from nltk import pos_tag\n",
    "import collections\n",
    "import matplotlib as mpl\n",
    "import matplotlib.pyplot as plt\n",
    "import numpy as np\n",
    "import operator\n",
    "import pandas as pd\n",
    "from nltk.stem import WordNetLemmatizer\n",
    "from nltk.corpus import stopwords, wordnet\n",
    "\n",
    "import string\n",
    "from sklearn.model_selection import train_test_split, cross_val_score\n",
    "from sklearn.dummy import DummyClassifier"
   ]
  },
  {
   "cell_type": "code",
   "execution_count": 2,
   "metadata": {
    "scrolled": true
   },
   "outputs": [],
   "source": [
    "# pip install emoji --upgrade"
   ]
  },
  {
   "cell_type": "code",
   "execution_count": 3,
   "metadata": {},
   "outputs": [],
   "source": [
    "import emoji"
   ]
  },
  {
   "cell_type": "code",
   "execution_count": 4,
   "metadata": {},
   "outputs": [],
   "source": [
    "sw = list(stopwords.words('english'))"
   ]
  },
  {
   "cell_type": "code",
   "execution_count": 5,
   "metadata": {},
   "outputs": [],
   "source": [
    "tweets = pd.read_csv('Data/Tweets.csv')"
   ]
  },
  {
   "cell_type": "code",
   "execution_count": 6,
   "metadata": {},
   "outputs": [
    {
     "data": {
      "text/plain": [
       "tweet_id                            0\n",
       "airline_sentiment                   0\n",
       "airline_sentiment_confidence        0\n",
       "negativereason                   5462\n",
       "negativereason_confidence        4118\n",
       "airline                             0\n",
       "airline_sentiment_gold          14600\n",
       "name                                0\n",
       "negativereason_gold             14608\n",
       "retweet_count                       0\n",
       "text                                0\n",
       "tweet_coord                     13621\n",
       "tweet_created                       0\n",
       "tweet_location                   4733\n",
       "user_timezone                    4820\n",
       "dtype: int64"
      ]
     },
     "execution_count": 6,
     "metadata": {},
     "output_type": "execute_result"
    }
   ],
   "source": [
    "tweets.isna().sum()"
   ]
  },
  {
   "cell_type": "code",
   "execution_count": 7,
   "metadata": {
    "scrolled": true
   },
   "outputs": [
    {
     "data": {
      "text/plain": [
       "Customer Service Issue                      12\n",
       "Late Flight                                  4\n",
       "Can't Tell                                   3\n",
       "Cancelled Flight                             3\n",
       "Cancelled Flight\\nCustomer Service Issue     2\n",
       "Late Flight\\nLost Luggage                    1\n",
       "Customer Service Issue\\nLost Luggage         1\n",
       "Late Flight\\nFlight Attendant Complaints     1\n",
       "Flight Attendant Complaints                  1\n",
       "Lost Luggage\\nDamaged Luggage                1\n",
       "Customer Service Issue\\nCan't Tell           1\n",
       "Bad Flight                                   1\n",
       "Late Flight\\nCancelled Flight                1\n",
       "Name: negativereason_gold, dtype: int64"
      ]
     },
     "execution_count": 7,
     "metadata": {},
     "output_type": "execute_result"
    }
   ],
   "source": [
    "tweets['negativereason_gold'].value_counts()"
   ]
  },
  {
   "cell_type": "code",
   "execution_count": 8,
   "metadata": {},
   "outputs": [
    {
     "data": {
      "text/plain": [
       "negative    32\n",
       "positive     5\n",
       "neutral      3\n",
       "Name: airline_sentiment_gold, dtype: int64"
      ]
     },
     "execution_count": 8,
     "metadata": {},
     "output_type": "execute_result"
    }
   ],
   "source": [
    "tweets['airline_sentiment_gold'].value_counts()"
   ]
  },
  {
   "cell_type": "code",
   "execution_count": 9,
   "metadata": {},
   "outputs": [
    {
     "data": {
      "text/plain": [
       "0     13873\n",
       "1       640\n",
       "2        66\n",
       "3        22\n",
       "4        17\n",
       "5         5\n",
       "7         3\n",
       "6         3\n",
       "22        2\n",
       "8         1\n",
       "32        1\n",
       "9         1\n",
       "31        1\n",
       "18        1\n",
       "15        1\n",
       "28        1\n",
       "44        1\n",
       "11        1\n",
       "Name: retweet_count, dtype: int64"
      ]
     },
     "execution_count": 9,
     "metadata": {},
     "output_type": "execute_result"
    }
   ],
   "source": [
    "tweets['retweet_count'].value_counts()"
   ]
  },
  {
   "cell_type": "code",
   "execution_count": 10,
   "metadata": {},
   "outputs": [
    {
     "data": {
      "text/plain": [
       "2015-02-24 09:54:34 -0800    5\n",
       "2015-02-24 11:43:05 -0800    4\n",
       "2015-02-24 09:14:01 -0800    3\n",
       "2015-02-24 11:32:49 -0800    3\n",
       "2015-02-23 06:57:24 -0800    3\n",
       "                            ..\n",
       "2015-02-22 17:45:23 -0800    1\n",
       "2015-02-18 11:15:40 -0800    1\n",
       "2015-02-18 00:49:34 -0800    1\n",
       "2015-02-23 04:42:51 -0800    1\n",
       "2015-02-23 13:10:14 -0800    1\n",
       "Name: tweet_created, Length: 14247, dtype: int64"
      ]
     },
     "execution_count": 10,
     "metadata": {},
     "output_type": "execute_result"
    }
   ],
   "source": [
    "tweets['tweet_created'].value_counts()"
   ]
  },
  {
   "cell_type": "code",
   "execution_count": 11,
   "metadata": {},
   "outputs": [
    {
     "data": {
      "text/plain": [
       "Eastern Time (US & Canada)    3744\n",
       "Central Time (US & Canada)    1931\n",
       "Pacific Time (US & Canada)    1208\n",
       "Quito                          738\n",
       "Atlantic Time (Canada)         497\n",
       "                              ... \n",
       "Monterrey                        1\n",
       "Newfoundland                     1\n",
       "Saskatchewan                     1\n",
       "Wellington                       1\n",
       "Midway Island                    1\n",
       "Name: user_timezone, Length: 85, dtype: int64"
      ]
     },
     "execution_count": 11,
     "metadata": {},
     "output_type": "execute_result"
    }
   ],
   "source": [
    "tweets['user_timezone'].value_counts()"
   ]
  },
  {
   "cell_type": "code",
   "execution_count": 12,
   "metadata": {},
   "outputs": [
    {
     "data": {
      "text/plain": [
       "JetBlueNews       63\n",
       "kbosspotter       32\n",
       "_mhertz           29\n",
       "otisday           28\n",
       "throthra          27\n",
       "                  ..\n",
       "MarriedMariner     1\n",
       "mikejmarsh         1\n",
       "Clking_sf          1\n",
       "MsGeekyTeach       1\n",
       "CoralReefer420     1\n",
       "Name: name, Length: 7701, dtype: int64"
      ]
     },
     "execution_count": 12,
     "metadata": {},
     "output_type": "execute_result"
    }
   ],
   "source": [
    "tweets['name'].value_counts()"
   ]
  },
  {
   "cell_type": "code",
   "execution_count": 13,
   "metadata": {},
   "outputs": [
    {
     "data": {
      "text/plain": [
       "['tweet_id',\n",
       " 'airline_sentiment',\n",
       " 'airline_sentiment_confidence',\n",
       " 'negativereason',\n",
       " 'negativereason_confidence',\n",
       " 'airline',\n",
       " 'text',\n",
       " 'tweet_coord',\n",
       " 'tweet_location']"
      ]
     },
     "execution_count": 13,
     "metadata": {},
     "output_type": "execute_result"
    }
   ],
   "source": [
    "tweets.drop('negativereason_gold', axis=1, inplace=True)\n",
    "tweets.drop('airline_sentiment_gold', axis=1, inplace=True)\n",
    "tweets.drop('retweet_count', axis=1, inplace=True)\n",
    "tweets.drop('tweet_created', axis=1, inplace=True)\n",
    "tweets.drop('user_timezone', axis=1, inplace=True)\n",
    "tweets.drop('name', axis=1, inplace=True)\n",
    "\n",
    "#current list of columns\n",
    "list(tweets.columns)"
   ]
  },
  {
   "cell_type": "code",
   "execution_count": 14,
   "metadata": {
    "scrolled": true
   },
   "outputs": [
    {
     "data": {
      "text/plain": [
       "1.0000    10445\n",
       "0.6667       71\n",
       "0.6632       35\n",
       "0.6559       30\n",
       "0.6596       30\n",
       "          ...  \n",
       "0.3913        1\n",
       "0.7273        1\n",
       "0.6353        1\n",
       "0.6260        1\n",
       "0.3544        1\n",
       "Name: airline_sentiment_confidence, Length: 1023, dtype: int64"
      ]
     },
     "execution_count": 14,
     "metadata": {},
     "output_type": "execute_result"
    }
   ],
   "source": [
    "tweets['airline_sentiment_confidence'].value_counts()"
   ]
  },
  {
   "cell_type": "code",
   "execution_count": 15,
   "metadata": {
    "scrolled": true
   },
   "outputs": [
    {
     "data": {
      "text/plain": [
       "Customer Service Issue         2910\n",
       "Late Flight                    1665\n",
       "Can't Tell                     1190\n",
       "Cancelled Flight                847\n",
       "Lost Luggage                    724\n",
       "Bad Flight                      580\n",
       "Flight Booking Problems         529\n",
       "Flight Attendant Complaints     481\n",
       "longlines                       178\n",
       "Damaged Luggage                  74\n",
       "Name: negativereason, dtype: int64"
      ]
     },
     "execution_count": 15,
     "metadata": {},
     "output_type": "execute_result"
    }
   ],
   "source": [
    "tweets['negativereason'].value_counts()"
   ]
  },
  {
   "cell_type": "code",
   "execution_count": 16,
   "metadata": {},
   "outputs": [
    {
     "data": {
      "text/plain": [
       "1.0000    3436\n",
       "0.0000    1344\n",
       "0.6667      62\n",
       "0.6632      33\n",
       "0.6596      29\n",
       "          ... \n",
       "0.3386       1\n",
       "0.3577       1\n",
       "0.3249       1\n",
       "0.3290       1\n",
       "0.3255       1\n",
       "Name: negativereason_confidence, Length: 1410, dtype: int64"
      ]
     },
     "execution_count": 16,
     "metadata": {},
     "output_type": "execute_result"
    }
   ],
   "source": [
    "tweets['negativereason_confidence'].value_counts()"
   ]
  },
  {
   "cell_type": "code",
   "execution_count": 17,
   "metadata": {},
   "outputs": [
    {
     "data": {
      "text/plain": [
       "United            3822\n",
       "US Airways        2913\n",
       "American          2759\n",
       "Southwest         2420\n",
       "Delta             2222\n",
       "Virgin America     504\n",
       "Name: airline, dtype: int64"
      ]
     },
     "execution_count": 17,
     "metadata": {},
     "output_type": "execute_result"
    }
   ],
   "source": [
    "tweets['airline'].value_counts()"
   ]
  },
  {
   "cell_type": "code",
   "execution_count": 18,
   "metadata": {},
   "outputs": [
    {
     "data": {
      "text/plain": [
       "[0.0, 0.0]                     164\n",
       "[40.64656067, -73.78334045]      6\n",
       "[32.91792297, -97.00367737]      3\n",
       "[40.64646912, -73.79133606]      3\n",
       "[40.68994668, -73.91637642]      2\n",
       "                              ... \n",
       "[39.60813937, -105.9548521]      1\n",
       "[39.1780768, -76.670155]         1\n",
       "[41.71826065, -72.68689133]      1\n",
       "[35.99558298, -78.89974547]      1\n",
       "[29.98521945, -90.25215941]      1\n",
       "Name: tweet_coord, Length: 832, dtype: int64"
      ]
     },
     "execution_count": 18,
     "metadata": {},
     "output_type": "execute_result"
    }
   ],
   "source": [
    "tweets['tweet_coord'].value_counts()"
   ]
  },
  {
   "cell_type": "code",
   "execution_count": 19,
   "metadata": {},
   "outputs": [
    {
     "data": {
      "text/plain": [
       "Boston, MA                   157\n",
       "New York, NY                 156\n",
       "Washington, DC               150\n",
       "New York                     127\n",
       "USA                          126\n",
       "                            ... \n",
       "Roseville, California          1\n",
       "Dirty South Jerz               1\n",
       "Hershey, PA                    1\n",
       "Born in NY, living in PA       1\n",
       "Missouri State University      1\n",
       "Name: tweet_location, Length: 3081, dtype: int64"
      ]
     },
     "execution_count": 19,
     "metadata": {},
     "output_type": "execute_result"
    }
   ],
   "source": [
    "tweets['tweet_location'].value_counts()"
   ]
  },
  {
   "cell_type": "code",
   "execution_count": 20,
   "metadata": {},
   "outputs": [],
   "source": [
    "# tweets.drop('tweet_id', axis=1, inplace=True)\n",
    "# tweets['name'].value_counts()\n",
    "# tweets['name'].value_counts()\n",
    "# tweets['name'].value_counts()"
   ]
  },
  {
   "cell_type": "code",
   "execution_count": 21,
   "metadata": {
    "scrolled": true
   },
   "outputs": [],
   "source": [
    "tweets = tweets[tweets['airline_sentiment_confidence'] > 0.80]"
   ]
  },
  {
   "cell_type": "code",
   "execution_count": 22,
   "metadata": {},
   "outputs": [
    {
     "data": {
      "text/plain": [
       "(10459, 9)"
      ]
     },
     "execution_count": 22,
     "metadata": {},
     "output_type": "execute_result"
    }
   ],
   "source": [
    "tweets.shape"
   ]
  },
  {
   "cell_type": "code",
   "execution_count": 23,
   "metadata": {},
   "outputs": [
    {
     "name": "stdout",
     "output_type": "stream",
     "text": [
      "<class 'pandas.core.frame.DataFrame'>\n",
      "Int64Index: 10459 entries, 0 to 14638\n",
      "Data columns (total 9 columns):\n",
      " #   Column                        Non-Null Count  Dtype  \n",
      "---  ------                        --------------  -----  \n",
      " 0   tweet_id                      10459 non-null  int64  \n",
      " 1   airline_sentiment             10459 non-null  object \n",
      " 2   airline_sentiment_confidence  10459 non-null  float64\n",
      " 3   negativereason                7392 non-null   object \n",
      " 4   negativereason_confidence     7396 non-null   float64\n",
      " 5   airline                       10459 non-null  object \n",
      " 6   text                          10459 non-null  object \n",
      " 7   tweet_coord                   746 non-null    object \n",
      " 8   tweet_location                7007 non-null   object \n",
      "dtypes: float64(2), int64(1), object(6)\n",
      "memory usage: 817.1+ KB\n"
     ]
    }
   ],
   "source": [
    "tweets.info()"
   ]
  },
  {
   "cell_type": "code",
   "execution_count": 24,
   "metadata": {},
   "outputs": [],
   "source": [
    "#just in case\n",
    "def labels_to_num(label):\n",
    "    if label == 'negative':\n",
    "        label = 0\n",
    "    elif label == 'positive':\n",
    "        label = 1\n",
    "    else:\n",
    "        label = 2\n",
    "    return label"
   ]
  },
  {
   "cell_type": "code",
   "execution_count": 25,
   "metadata": {},
   "outputs": [],
   "source": [
    "tweets['airline_sentiment_num'] = tweets['airline_sentiment'].map(labels_to_num)"
   ]
  },
  {
   "cell_type": "code",
   "execution_count": 26,
   "metadata": {},
   "outputs": [
    {
     "data": {
      "text/plain": [
       "0    7392\n",
       "2    1550\n",
       "1    1517\n",
       "Name: airline_sentiment_num, dtype: int64"
      ]
     },
     "execution_count": 26,
     "metadata": {},
     "output_type": "execute_result"
    }
   ],
   "source": [
    "tweets['airline_sentiment_num'].value_counts()"
   ]
  },
  {
   "cell_type": "code",
   "execution_count": 27,
   "metadata": {},
   "outputs": [],
   "source": [
    "##Translate nltk POS to wordnet tags for lemmatizer\n",
    "def get_wordnet_pos(treebank_tag):\n",
    "    '''\n",
    "    Translate nltk POS to wordnet tags\n",
    "    '''\n",
    "    if treebank_tag.startswith('J'):\n",
    "        return wordnet.ADJ\n",
    "    elif treebank_tag.startswith('V'):\n",
    "        return wordnet.VERB\n",
    "    elif treebank_tag.startswith('N'):\n",
    "        return wordnet.NOUN\n",
    "    elif treebank_tag.startswith('R'):\n",
    "        return wordnet.ADV\n",
    "    else:\n",
    "        return wordnet.NOUN"
   ]
  },
  {
   "cell_type": "code",
   "execution_count": 28,
   "metadata": {},
   "outputs": [],
   "source": [
    "# from nltk.stem import PorterStemmer"
   ]
  },
  {
   "cell_type": "code",
   "execution_count": 29,
   "metadata": {},
   "outputs": [],
   "source": [
    "from nltk.tokenize import word_tokenize"
   ]
  },
  {
   "cell_type": "code",
   "execution_count": 30,
   "metadata": {},
   "outputs": [],
   "source": [
    "lemmatizer = WordNetLemmatizer() #lemmatizing\n",
    "#STOPWORDS\n",
    "\n",
    "def process_text(text):\n",
    "    doc = text.lower()\n",
    "    doc = re.sub(r'@\\w+', '', doc) # Remove @s\n",
    "    doc = re.sub(r'#', '', doc) # Remove hashtags\n",
    "    doc = re.sub(r':', ' ', emoji.demojize(doc)) # Turn emojis into words\n",
    "    doc = re.sub(r'http\\S+', '',doc) # Remove URLs\n",
    "    doc = re.sub(r'\\$\\S+', 'dollar', doc) # Change dollar amounts to dollar\n",
    "    doc = re.sub(r'[^a-z0-9\\s]', '', doc) # Remove punctuation\n",
    "    doc = re.sub(r'[0-9]+', 'number', doc) # Change number values to number\n",
    "    \n",
    "    doc = word_tokenize(doc)\n",
    "#     doc = [word for word in doc if word not in sw]\n",
    "   \n",
    "    \n",
    "    doc = pos_tag(doc)\n",
    "\n",
    "    doc = [(word[0], get_wordnet_pos(word[1])) for word in doc]\n",
    "\n",
    "    doc = [lemmatizer.lemmatize(word[0], word[1]) for word in doc] \n",
    "\n",
    "    return ' '.join(doc)"
   ]
  },
  {
   "cell_type": "code",
   "execution_count": 31,
   "metadata": {},
   "outputs": [],
   "source": [
    "tweets['processed_text'] = tweets['text'].map(process_text)"
   ]
  },
  {
   "cell_type": "code",
   "execution_count": 32,
   "metadata": {},
   "outputs": [
    {
     "data": {
      "text/plain": [
       "'@VirginAmerica What @dhepburn said.'"
      ]
     },
     "execution_count": 32,
     "metadata": {},
     "output_type": "execute_result"
    }
   ],
   "source": [
    "tweets['text'][0]"
   ]
  },
  {
   "cell_type": "code",
   "execution_count": 33,
   "metadata": {
    "scrolled": false
   },
   "outputs": [
    {
     "data": {
      "text/plain": [
       "'what say'"
      ]
     },
     "execution_count": 33,
     "metadata": {},
     "output_type": "execute_result"
    }
   ],
   "source": [
    "tweets['processed_text'][0]"
   ]
  },
  {
   "cell_type": "code",
   "execution_count": 34,
   "metadata": {},
   "outputs": [],
   "source": [
    "dummied_airlines = pd.get_dummies(tweets['airline'])"
   ]
  },
  {
   "cell_type": "code",
   "execution_count": 35,
   "metadata": {
    "scrolled": true
   },
   "outputs": [],
   "source": [
    "tweets = tweets.join(dummied_airlines)"
   ]
  },
  {
   "cell_type": "code",
   "execution_count": 36,
   "metadata": {
    "scrolled": true
   },
   "outputs": [
    {
     "data": {
      "text/plain": [
       "Index(['tweet_id', 'airline_sentiment', 'airline_sentiment_confidence',\n",
       "       'negativereason', 'negativereason_confidence', 'airline', 'text',\n",
       "       'tweet_coord', 'tweet_location', 'airline_sentiment_num',\n",
       "       'processed_text', 'American', 'Delta', 'Southwest', 'US Airways',\n",
       "       'United', 'Virgin America'],\n",
       "      dtype='object')"
      ]
     },
     "execution_count": 36,
     "metadata": {},
     "output_type": "execute_result"
    }
   ],
   "source": [
    "tweets.columns"
   ]
  },
  {
   "cell_type": "markdown",
   "metadata": {},
   "source": [
    "## Vectorizing"
   ]
  },
  {
   "cell_type": "code",
   "execution_count": 87,
   "metadata": {},
   "outputs": [],
   "source": [
    "X = tweets.drop(columns=['tweet_id', 'airline_sentiment_confidence', 'airline',\n",
    "       'negativereason', 'negativereason_confidence', 'text', 'tweet_coord', 'tweet_location', 'airline_sentiment_num', 'airline_sentiment'], axis =1)\n",
    "y = tweets['airline_sentiment']"
   ]
  },
  {
   "cell_type": "code",
   "execution_count": 92,
   "metadata": {},
   "outputs": [],
   "source": [
    "##running our train test split\n",
    "X_train, X_test, y_train, y_test = train_test_split(X,\n",
    "                                                    y,\n",
    "                                                    random_state=42,\n",
    "                                                    test_size=0.20)"
   ]
  },
  {
   "cell_type": "code",
   "execution_count": 89,
   "metadata": {},
   "outputs": [],
   "source": [
    "#try different parameters\n",
    "vectorizer = TfidfVectorizer(input='content')"
   ]
  },
  {
   "cell_type": "code",
   "execution_count": 93,
   "metadata": {},
   "outputs": [],
   "source": [
    "sparse_out = vectorizer.fit_transform(X_train['processed_text'])\n",
    "tfidf_df_train = pd.DataFrame(data = sparse_out.toarray(),\n",
    "                        columns = vectorizer.get_feature_names(), index = X_train.index)\n",
    "\n",
    "X_train_vec = X_train.drop(['processed_text'], axis=1,).join(tfidf_df_train)"
   ]
  },
  {
   "cell_type": "code",
   "execution_count": 94,
   "metadata": {},
   "outputs": [],
   "source": [
    "sparse_out1 = vectorizer.transform(X_test['processed_text'])\n",
    "tfidf_df_test = pd.DataFrame(data = sparse_out1.toarray(),\n",
    "                        columns = vectorizer.get_feature_names(), index = X_test.index)\n",
    "\n",
    "X_test_vec = X_test.drop(['processed_text'], axis=1).join(tfidf_df_test)\n",
    "X_test_vec = X_test_vec.fillna(value=0)"
   ]
  },
  {
   "cell_type": "code",
   "execution_count": 42,
   "metadata": {},
   "outputs": [],
   "source": [
    "#smoteN"
   ]
  },
  {
   "cell_type": "code",
   "execution_count": 43,
   "metadata": {
    "scrolled": true
   },
   "outputs": [
    {
     "data": {
      "text/plain": [
       "negative    7392\n",
       "neutral     1550\n",
       "positive    1517\n",
       "Name: airline_sentiment, dtype: int64"
      ]
     },
     "execution_count": 43,
     "metadata": {},
     "output_type": "execute_result"
    }
   ],
   "source": [
    "tweets.airline_sentiment.value_counts()"
   ]
  },
  {
   "cell_type": "code",
   "execution_count": 95,
   "metadata": {
    "scrolled": true
   },
   "outputs": [
    {
     "data": {
      "text/plain": [
       "(8367, 8782)"
      ]
     },
     "execution_count": 95,
     "metadata": {},
     "output_type": "execute_result"
    }
   ],
   "source": [
    "X_train_vec.shape"
   ]
  },
  {
   "cell_type": "code",
   "execution_count": 96,
   "metadata": {},
   "outputs": [
    {
     "data": {
      "text/plain": [
       "(2092, 8782)"
      ]
     },
     "execution_count": 96,
     "metadata": {},
     "output_type": "execute_result"
    }
   ],
   "source": [
    "X_test_vec.shape"
   ]
  },
  {
   "cell_type": "markdown",
   "metadata": {},
   "source": [
    "### Dummy classifier"
   ]
  },
  {
   "cell_type": "code",
   "execution_count": 46,
   "metadata": {},
   "outputs": [
    {
     "name": "stdout",
     "output_type": "stream",
     "text": [
      "0.5326885433917422\n"
     ]
    }
   ],
   "source": [
    "##checking our dummy/base model score\n",
    "dc = DummyClassifier(strategy='stratified')\n",
    "dc.fit(X_train_vec, y_train)\n",
    "\n",
    "print(cross_val_score(dc, X_train_vec, y_train).mean())"
   ]
  },
  {
   "cell_type": "markdown",
   "metadata": {},
   "source": [
    "### Support Vector Classifier"
   ]
  },
  {
   "cell_type": "code",
   "execution_count": 47,
   "metadata": {
    "scrolled": false
   },
   "outputs": [
    {
     "name": "stderr",
     "output_type": "stream",
     "text": [
      "[Parallel(n_jobs=-4)]: Using backend LokyBackend with 5 concurrent workers.\n",
      "[Parallel(n_jobs=-4)]: Done   2 out of   5 | elapsed:  9.8min remaining: 14.6min\n",
      "[Parallel(n_jobs=-4)]: Done   5 out of   5 | elapsed:  9.8min finished\n"
     ]
    },
    {
     "name": "stdout",
     "output_type": "stream",
     "text": [
      "0.8355443579630378\n"
     ]
    }
   ],
   "source": [
    "svc = svm.SVC() #Grid search ()\n",
    "svc.fit(X_train_vec, y_train)\n",
    "\n",
    "print(cross_val_score(svc, X_train_vec, y_train, n_jobs=-4, verbose=3).mean())"
   ]
  },
  {
   "cell_type": "code",
   "execution_count": 50,
   "metadata": {},
   "outputs": [],
   "source": [
    "from sklearn.metrics import confusion_matrix"
   ]
  },
  {
   "cell_type": "code",
   "execution_count": 52,
   "metadata": {},
   "outputs": [],
   "source": [
    "svc_pred_train= svc.predict(X_train_vec)"
   ]
  },
  {
   "cell_type": "code",
   "execution_count": 53,
   "metadata": {},
   "outputs": [
    {
     "data": {
      "text/plain": [
       "0.9500418310027489"
      ]
     },
     "execution_count": 53,
     "metadata": {},
     "output_type": "execute_result"
    }
   ],
   "source": [
    "accuracy_score(y_train, svc_pred_train)"
   ]
  },
  {
   "cell_type": "markdown",
   "metadata": {},
   "source": [
    "### Logistic Regression|"
   ]
  },
  {
   "cell_type": "code",
   "execution_count": 54,
   "metadata": {},
   "outputs": [],
   "source": [
    "from sklearn.linear_model import LogisticRegression"
   ]
  },
  {
   "cell_type": "code",
   "execution_count": 97,
   "metadata": {
    "scrolled": false
   },
   "outputs": [
    {
     "name": "stderr",
     "output_type": "stream",
     "text": [
      "[Parallel(n_jobs=-4)]: Using backend LokyBackend with 5 concurrent workers.\n",
      "[Parallel(n_jobs=-4)]: Done   2 out of   5 | elapsed:   38.7s remaining:   58.1s\n",
      "[Parallel(n_jobs=-4)]: Done   5 out of   5 | elapsed:   40.4s finished\n"
     ]
    },
    {
     "name": "stdout",
     "output_type": "stream",
     "text": [
      "0.865543408167244\n"
     ]
    }
   ],
   "source": [
    "lr = LogisticRegression(max_iter=150) #max iterations-change; l2 or l1 - Grid search (l1, l2, C=[.1, 1, 10])  # Suppose .1 is best, then for Round #2 C=[.03, .1, .3\n",
    "lr.fit(X_train_vec, y_train)\n",
    "print(cross_val_score(lr, X_train_vec, y_train, n_jobs=-4, verbose=3).mean())"
   ]
  },
  {
   "cell_type": "code",
   "execution_count": 99,
   "metadata": {},
   "outputs": [],
   "source": [
    "lr_pred_train= lr.predict(X_train_vec)"
   ]
  },
  {
   "cell_type": "code",
   "execution_count": 101,
   "metadata": {},
   "outputs": [
    {
     "data": {
      "text/plain": [
       "0.9254212979562567"
      ]
     },
     "execution_count": 101,
     "metadata": {},
     "output_type": "execute_result"
    }
   ],
   "source": [
    "accuracy_score(y_train, lr_pred_train)"
   ]
  },
  {
   "cell_type": "markdown",
   "metadata": {},
   "source": [
    "### Naive Bayes"
   ]
  },
  {
   "cell_type": "code",
   "execution_count": 59,
   "metadata": {
    "scrolled": true
   },
   "outputs": [
    {
     "name": "stderr",
     "output_type": "stream",
     "text": [
      "[Parallel(n_jobs=-4)]: Using backend LokyBackend with 5 concurrent workers.\n",
      "[Parallel(n_jobs=-4)]: Done   2 out of   5 | elapsed:    1.8s remaining:    2.8s\n",
      "[Parallel(n_jobs=-4)]: Done   5 out of   5 | elapsed:    1.9s finished\n"
     ]
    },
    {
     "name": "stdout",
     "output_type": "stream",
     "text": [
      "0.7422002126685621\n"
     ]
    }
   ],
   "source": [
    "nb = MultinomialNB()\n",
    "nb.fit(X_train_vec, y_train)\n",
    "print(cross_val_score(nb, X_train_vec, y_train, n_jobs=-4, verbose=3).mean())"
   ]
  },
  {
   "cell_type": "markdown",
   "metadata": {},
   "source": [
    "### Vectorizing parameters change"
   ]
  },
  {
   "cell_type": "code",
   "execution_count": 103,
   "metadata": {},
   "outputs": [],
   "source": [
    "#trying different parameters\n",
    "vectorizer = TfidfVectorizer(input='content', stop_words=sw)\n",
    "sparse_out = vectorizer.fit_transform(X_train['processed_text'])\n",
    "tfidf_df_train = pd.DataFrame(data = sparse_out.toarray(),\n",
    "                        columns = vectorizer.get_feature_names(), index = X_train.index)\n",
    "\n",
    "X_train_vec = X_train.drop(['processed_text'], axis=1,).join(tfidf_df_train)"
   ]
  },
  {
   "cell_type": "code",
   "execution_count": 104,
   "metadata": {},
   "outputs": [
    {
     "name": "stderr",
     "output_type": "stream",
     "text": [
      "[Parallel(n_jobs=-4)]: Using backend LokyBackend with 5 concurrent workers.\n",
      "[Parallel(n_jobs=-4)]: Done   2 out of   5 | elapsed:   39.2s remaining:   58.8s\n",
      "[Parallel(n_jobs=-4)]: Done   5 out of   5 | elapsed:   40.4s finished\n"
     ]
    },
    {
     "name": "stdout",
     "output_type": "stream",
     "text": [
      "0.8479746140294122\n"
     ]
    }
   ],
   "source": [
    "lr1 = LogisticRegression(max_iter=150) #max iterations-change; l2 or l1 - Grid search (l1, l2, C=[.1, 1, 10])  # Suppose .1 is best, then for Round #2 C=[.03, .1, .3\n",
    "lr1.fit(X_train_vec, y_train)\n",
    "print(cross_val_score(lr1, X_train_vec, y_train, n_jobs=-4, verbose=3).mean())"
   ]
  },
  {
   "cell_type": "code",
   "execution_count": 105,
   "metadata": {},
   "outputs": [],
   "source": [
    "lr1_pred_train= lr1.predict(X_train_vec)"
   ]
  },
  {
   "cell_type": "code",
   "execution_count": 106,
   "metadata": {},
   "outputs": [
    {
     "data": {
      "text/plain": [
       "0.9163379945022111"
      ]
     },
     "execution_count": 106,
     "metadata": {},
     "output_type": "execute_result"
    }
   ],
   "source": [
    "accuracy_score(y_train, lr1_pred_train)"
   ]
  },
  {
   "cell_type": "code",
   "execution_count": 238,
   "metadata": {},
   "outputs": [],
   "source": [
    "vectorizer = TfidfVectorizer(input='content', max_df=2000, min_df=10)\n",
    "sparse_out = vectorizer.fit_transform(X_train['processed_text'])\n",
    "tfidf_df_train = pd.DataFrame(data = sparse_out.toarray(),\n",
    "                        columns = vectorizer.get_feature_names(), index = X_train.index)\n",
    "\n",
    "X_train_vec = X_train.drop(['processed_text'], axis=1,).join(tfidf_df_train)"
   ]
  },
  {
   "cell_type": "code",
   "execution_count": 239,
   "metadata": {
    "scrolled": true
   },
   "outputs": [
    {
     "name": "stderr",
     "output_type": "stream",
     "text": [
      "[Parallel(n_jobs=-4)]: Using backend LokyBackend with 5 concurrent workers.\n",
      "[Parallel(n_jobs=-4)]: Done   2 out of   5 | elapsed:    4.2s remaining:    6.3s\n",
      "[Parallel(n_jobs=-4)]: Done   5 out of   5 | elapsed:    4.5s finished\n"
     ]
    },
    {
     "name": "stdout",
     "output_type": "stream",
     "text": [
      "0.8725949635114164\n"
     ]
    }
   ],
   "source": [
    "lr2 = LogisticRegression(max_iter=150) #max iterations-change; l2 or l1 - Grid search (l1, l2, C=[.1, 1, 10])  # Suppose .1 is best, then for Round #2 C=[.03, .1, .3\n",
    "lr2.fit(X_train_vec, y_train)\n",
    "print(cross_val_score(lr2, X_train_vec, y_train, n_jobs=-4, verbose=3).mean())"
   ]
  },
  {
   "cell_type": "code",
   "execution_count": 240,
   "metadata": {},
   "outputs": [],
   "source": [
    "lr2_pred_train= lr2.predict(X_train_vec)"
   ]
  },
  {
   "cell_type": "code",
   "execution_count": 241,
   "metadata": {
    "scrolled": true
   },
   "outputs": [
    {
     "data": {
      "text/plain": [
       "0.9071351738974542"
      ]
     },
     "execution_count": 241,
     "metadata": {},
     "output_type": "execute_result"
    }
   ],
   "source": [
    "accuracy_score(y_train, lr2_pred_train) #less overfit and more accurate now"
   ]
  },
  {
   "cell_type": "code",
   "execution_count": 204,
   "metadata": {},
   "outputs": [],
   "source": [
    "vectorizer = TfidfVectorizer(input='content', max_df=2000, min_df=10, ngram_range=(1, 3))\n",
    "sparse_out = vectorizer.fit_transform(X_train['processed_text'])\n",
    "tfidf_df_train = pd.DataFrame(data = sparse_out.toarray(),\n",
    "                        columns = vectorizer.get_feature_names(), index = X_train.index)\n",
    "\n",
    "X_train_vec = X_train.drop(['processed_text'], axis=1,).join(tfidf_df_train)"
   ]
  },
  {
   "cell_type": "code",
   "execution_count": 211,
   "metadata": {},
   "outputs": [
    {
     "name": "stderr",
     "output_type": "stream",
     "text": [
      "[Parallel(n_jobs=-4)]: Using backend LokyBackend with 5 concurrent workers.\n"
     ]
    },
    {
     "name": "stdout",
     "output_type": "stream",
     "text": [
      "0.8206051413231868\n"
     ]
    },
    {
     "name": "stderr",
     "output_type": "stream",
     "text": [
      "[Parallel(n_jobs=-4)]: Done   2 out of   5 | elapsed:    0.4s remaining:    0.7s\n",
      "[Parallel(n_jobs=-4)]: Done   5 out of   5 | elapsed:    0.5s finished\n"
     ]
    }
   ],
   "source": [
    "lr3 = LogisticRegression(max_iter=150) #max iterations-change; l2 or l1 - Grid search (l1, l2, C=[.1, 1, 10])  # Suppose .1 is best, then for Round #2 C=[.03, .1, .3\n",
    "lr3.fit(X_train_vec, y_train)\n",
    "print(cross_val_score(lr3, X_train_vec, y_train, n_jobs=-4, verbose=3).mean())"
   ]
  },
  {
   "cell_type": "code",
   "execution_count": 212,
   "metadata": {},
   "outputs": [],
   "source": [
    "lr3_pred_train= lr3.predict(X_train_vec)"
   ]
  },
  {
   "cell_type": "code",
   "execution_count": 213,
   "metadata": {
    "scrolled": true
   },
   "outputs": [
    {
     "data": {
      "text/plain": [
       "0.8265806143181547"
      ]
     },
     "execution_count": 213,
     "metadata": {},
     "output_type": "execute_result"
    }
   ],
   "source": [
    "accuracy_score(y_train, lr3_pred_train) #no positive change"
   ]
  },
  {
   "cell_type": "markdown",
   "metadata": {},
   "source": [
    "### Logistic regression gridsearch"
   ]
  },
  {
   "cell_type": "code",
   "execution_count": 243,
   "metadata": {},
   "outputs": [],
   "source": [
    "from sklearn.model_selection import GridSearchCV"
   ]
  },
  {
   "cell_type": "code",
   "execution_count": 284,
   "metadata": {},
   "outputs": [],
   "source": [
    "vectorizer = TfidfVectorizer(input='content', max_df=2000, min_df=10)\n",
    "sparse_out = vectorizer.fit_transform(X_train['processed_text'])\n",
    "tfidf_df_train = pd.DataFrame(data = sparse_out.toarray(),\n",
    "                        columns = vectorizer.get_feature_names(), index = X_train.index)\n",
    "\n",
    "X_train_vec = X_train.drop(['processed_text'], axis=1,).join(tfidf_df_train)"
   ]
  },
  {
   "cell_type": "code",
   "execution_count": 285,
   "metadata": {
    "scrolled": true
   },
   "outputs": [
    {
     "name": "stderr",
     "output_type": "stream",
     "text": [
      "[Parallel(n_jobs=-4)]: Using backend LokyBackend with 5 concurrent workers.\n",
      "[Parallel(n_jobs=-4)]: Done   2 out of   5 | elapsed:    4.2s remaining:    6.3s\n",
      "[Parallel(n_jobs=-4)]: Done   5 out of   5 | elapsed:    4.3s finished\n"
     ]
    },
    {
     "name": "stdout",
     "output_type": "stream",
     "text": [
      "0.8725949635114164\n"
     ]
    }
   ],
   "source": [
    "lr2 = LogisticRegression(max_iter=150) #max iterations-change; l2 or l1 - Grid search (l1, l2, C=[.1, 1, 10])  # Suppose .1 is best, then for Round #2 C=[.03, .1, .3\n",
    "lr2.fit(X_train_vec, y_train)\n",
    "print(cross_val_score(lr2, X_train_vec, y_train, n_jobs=-4, verbose=3).mean())"
   ]
  },
  {
   "cell_type": "code",
   "execution_count": 286,
   "metadata": {},
   "outputs": [],
   "source": [
    "lr2_pred_train= lr2.predict(X_train_vec)"
   ]
  },
  {
   "cell_type": "code",
   "execution_count": 287,
   "metadata": {
    "scrolled": true
   },
   "outputs": [
    {
     "data": {
      "text/plain": [
       "0.9071351738974542"
      ]
     },
     "execution_count": 287,
     "metadata": {},
     "output_type": "execute_result"
    }
   ],
   "source": [
    "accuracy_score(y_train, lr2_pred_train) #less overfit and more accurate now"
   ]
  },
  {
   "cell_type": "code",
   "execution_count": 288,
   "metadata": {},
   "outputs": [
    {
     "name": "stdout",
     "output_type": "stream",
     "text": [
      "Fitting 5 folds for each of 45 candidates, totalling 225 fits\n"
     ]
    },
    {
     "name": "stderr",
     "output_type": "stream",
     "text": [
      "[Parallel(n_jobs=-4)]: Using backend LokyBackend with 5 concurrent workers.\n",
      "[Parallel(n_jobs=-4)]: Done  34 tasks      | elapsed:   10.9s\n",
      "[Parallel(n_jobs=-4)]: Done 138 tasks      | elapsed:  1.0min\n",
      "[Parallel(n_jobs=-4)]: Done 225 out of 225 | elapsed:  2.7min finished\n"
     ]
    },
    {
     "data": {
      "text/plain": [
       "GridSearchCV(cv=5, estimator=LogisticRegression(max_iter=150), n_jobs=-4,\n",
       "             param_grid={'C': [0.1, 1, 10],\n",
       "                         'penalty': ['l1', 'l2', 'elasticnet'],\n",
       "                         'solver': ['newton-cg', 'lbfgs', 'liblinear', 'sag',\n",
       "                                    'saga']},\n",
       "             verbose=3)"
      ]
     },
     "execution_count": 288,
     "metadata": {},
     "output_type": "execute_result"
    }
   ],
   "source": [
    "#max iterations-change; l2 or l1 - Grid search (l1, l2, C=[.1, 1, 10])  # Suppose .1 is best, then for Round #2 C=[.03, .1, .3\n",
    "\n",
    "parameters = {'penalty':['l1', 'l2', 'elasticnet'], 'C': [.1, 1, 10], 'solver': ['newton-cg', 'lbfgs', 'liblinear', 'sag', 'saga']}\n",
    "\n",
    "lrgrid1 = GridSearchCV(estimator=lr2, param_grid=parameters, cv=5, n_jobs=-4, verbose=3)\n",
    "lrgrid1.fit(X_train_vec, y_train)"
   ]
  },
  {
   "cell_type": "code",
   "execution_count": 289,
   "metadata": {},
   "outputs": [
    {
     "data": {
      "text/plain": [
       "{'C': 10, 'penalty': 'l2', 'solver': 'liblinear'}"
      ]
     },
     "execution_count": 289,
     "metadata": {},
     "output_type": "execute_result"
    }
   ],
   "source": [
    "lrgrid.best_params_"
   ]
  },
  {
   "cell_type": "code",
   "execution_count": 290,
   "metadata": {},
   "outputs": [
    {
     "data": {
      "text/plain": [
       "0.8740287980941239"
      ]
     },
     "execution_count": 290,
     "metadata": {},
     "output_type": "execute_result"
    }
   ],
   "source": [
    "lrgrid.best_score_"
   ]
  },
  {
   "cell_type": "code",
   "execution_count": 291,
   "metadata": {},
   "outputs": [],
   "source": [
    "lr2grid1_pred_train= lrgrid.best_estimator_.predict(X_train_vec)"
   ]
  },
  {
   "cell_type": "code",
   "execution_count": 292,
   "metadata": {},
   "outputs": [
    {
     "data": {
      "text/plain": [
       "0.9364168758216804"
      ]
     },
     "execution_count": 292,
     "metadata": {},
     "output_type": "execute_result"
    }
   ],
   "source": [
    "accuracy_score(y_train, lr2grid1_pred_train) "
   ]
  },
  {
   "cell_type": "code",
   "execution_count": 293,
   "metadata": {},
   "outputs": [
    {
     "name": "stdout",
     "output_type": "stream",
     "text": [
      "Fitting 5 folds for each of 45 candidates, totalling 225 fits\n"
     ]
    },
    {
     "name": "stderr",
     "output_type": "stream",
     "text": [
      "[Parallel(n_jobs=-4)]: Using backend LokyBackend with 5 concurrent workers.\n",
      "[Parallel(n_jobs=-4)]: Done  34 tasks      | elapsed:   26.3s\n",
      "[Parallel(n_jobs=-4)]: Done 133 tasks      | elapsed:  3.0min\n",
      "[Parallel(n_jobs=-4)]: Done 225 out of 225 | elapsed:  4.9min finished\n"
     ]
    },
    {
     "data": {
      "text/plain": [
       "GridSearchCV(cv=5, estimator=LogisticRegression(max_iter=150), n_jobs=-4,\n",
       "             param_grid={'C': [5, 10, 15],\n",
       "                         'penalty': ['l1', 'l2', 'elasticnet'],\n",
       "                         'solver': ['newton-cg', 'lbfgs', 'liblinear', 'sag',\n",
       "                                    'saga']},\n",
       "             verbose=3)"
      ]
     },
     "execution_count": 293,
     "metadata": {},
     "output_type": "execute_result"
    }
   ],
   "source": [
    "parameters = {'penalty':['l1', 'l2', 'elasticnet'], 'C': [5, 10, 15], 'solver': ['newton-cg', 'lbfgs', 'liblinear', 'sag', 'saga']}\n",
    "\n",
    "lrgrid2 = GridSearchCV(estimator=lr2, param_grid=parameters, cv=5, n_jobs=-4, verbose=3)\n",
    "lrgrid2.fit(X_train_vec, y_train)"
   ]
  },
  {
   "cell_type": "code",
   "execution_count": 294,
   "metadata": {},
   "outputs": [
    {
     "data": {
      "text/plain": [
       "{'C': 5, 'penalty': 'l2', 'solver': 'liblinear'}"
      ]
     },
     "execution_count": 294,
     "metadata": {},
     "output_type": "execute_result"
    }
   ],
   "source": [
    "lrgrid2.best_params_"
   ]
  },
  {
   "cell_type": "code",
   "execution_count": 295,
   "metadata": {},
   "outputs": [
    {
     "data": {
      "text/plain": [
       "0.8783315872801634"
      ]
     },
     "execution_count": 295,
     "metadata": {},
     "output_type": "execute_result"
    }
   ],
   "source": [
    "lrgrid2.best_score_"
   ]
  },
  {
   "cell_type": "code",
   "execution_count": 296,
   "metadata": {},
   "outputs": [],
   "source": [
    "lr2grid2_pred_train= lrgrid2.best_estimator_.predict(X_train_vec)"
   ]
  },
  {
   "cell_type": "code",
   "execution_count": 297,
   "metadata": {},
   "outputs": [
    {
     "data": {
      "text/plain": [
       "0.9269750209155013"
      ]
     },
     "execution_count": 297,
     "metadata": {},
     "output_type": "execute_result"
    }
   ],
   "source": [
    "accuracy_score(y_train, lr2grid2_pred_train) #less overfit and more accurate now"
   ]
  },
  {
   "cell_type": "code",
   "execution_count": 298,
   "metadata": {},
   "outputs": [
    {
     "name": "stdout",
     "output_type": "stream",
     "text": [
      "Fitting 5 folds for each of 8 candidates, totalling 40 fits\n"
     ]
    },
    {
     "name": "stderr",
     "output_type": "stream",
     "text": [
      "[Parallel(n_jobs=-4)]: Using backend LokyBackend with 5 concurrent workers.\n",
      "[Parallel(n_jobs=-4)]: Done  22 tasks      | elapsed:    1.8s\n",
      "[Parallel(n_jobs=-4)]: Done  40 out of  40 | elapsed:    3.0s finished\n"
     ]
    },
    {
     "data": {
      "text/plain": [
       "GridSearchCV(cv=5, estimator=LogisticRegression(max_iter=150), n_jobs=-4,\n",
       "             param_grid={'C': [3, 4, 4.5, 5, 5.5, 7, 10, 12], 'penalty': ['l2'],\n",
       "                         'solver': ['liblinear']},\n",
       "             verbose=3)"
      ]
     },
     "execution_count": 298,
     "metadata": {},
     "output_type": "execute_result"
    }
   ],
   "source": [
    "parameters = {'penalty':['l2'], 'C': [3, 4, 4.5, 5, 5.5, 7, 10, 12], 'solver': ['liblinear']}\n",
    "\n",
    "lrgrid3 = GridSearchCV(estimator=lr2, param_grid=parameters, cv=5, n_jobs=-4, verbose=3)\n",
    "lrgrid3.fit(X_train_vec, y_train)"
   ]
  },
  {
   "cell_type": "code",
   "execution_count": 299,
   "metadata": {
    "scrolled": true
   },
   "outputs": [
    {
     "data": {
      "text/plain": [
       "{'C': 5.5, 'penalty': 'l2', 'solver': 'liblinear'}"
      ]
     },
     "execution_count": 299,
     "metadata": {},
     "output_type": "execute_result"
    }
   ],
   "source": [
    "lrgrid3.best_params_"
   ]
  },
  {
   "cell_type": "code",
   "execution_count": 300,
   "metadata": {},
   "outputs": [
    {
     "data": {
      "text/plain": [
       "0.8784509901799684"
      ]
     },
     "execution_count": 300,
     "metadata": {},
     "output_type": "execute_result"
    }
   ],
   "source": [
    "lrgrid3.best_score_"
   ]
  },
  {
   "cell_type": "code",
   "execution_count": 301,
   "metadata": {},
   "outputs": [],
   "source": [
    "lr2grid3_pred_train = lrgrid3.predict(X_train_vec)"
   ]
  },
  {
   "cell_type": "code",
   "execution_count": 302,
   "metadata": {},
   "outputs": [
    {
     "data": {
      "text/plain": [
       "0.9287677781761683"
      ]
     },
     "execution_count": 302,
     "metadata": {},
     "output_type": "execute_result"
    }
   ],
   "source": [
    "accuracy_score(y_train, lr2grid3_pred_train) #less overfit and more accurate now"
   ]
  },
  {
   "cell_type": "markdown",
   "metadata": {},
   "source": [
    "### Required Configurations and Python Libraries"
   ]
  },
  {
   "cell_type": "code",
   "execution_count": 46,
   "metadata": {
    "scrolled": true
   },
   "outputs": [],
   "source": [
    "# pip install tweepy"
   ]
  },
  {
   "cell_type": "code",
   "execution_count": 370,
   "metadata": {
    "scrolled": false
   },
   "outputs": [],
   "source": [
    "# import tweepy as tw\n",
    "# import json\n",
    "# import time\n",
    "# import datetime\n",
    "# import os\n",
    "# import csv\n",
    "# import pickle"
   ]
  },
  {
   "cell_type": "code",
   "execution_count": 371,
   "metadata": {},
   "outputs": [],
   "source": [
    "Twitter={}\n",
    "Twitter['Consumer Key'] = 'iAimqbAdWiBrUfXe0Xmuhlyps'\n",
    "Twitter['Consumer Secret'] = 'YWUyAsX8sA2VuJCwQv4x3MUhAGmm48VlV0ZTx2yWNWqlGCP9Kj'\n",
    "Twitter['Access Token'] = '54188780-kRmlqKRHleSb1WBBTfrj4CR57wLxJYuU5qH9piYlq'\n",
    "Twitter['Access Token Secret'] = 'JXzf6VKWIFhVhAuIYWWQX04jCaHgfgjia77ARpK7v1Z3p'"
   ]
  },
  {
   "cell_type": "code",
   "execution_count": 318,
   "metadata": {},
   "outputs": [
    {
     "name": "stdout",
     "output_type": "stream",
     "text": [
      "Requirement already satisfied: twitter in c:\\users\\admin\\anaconda3\\envs\\learn-env\\lib\\site-packages (1.19.3)\n"
     ]
    }
   ],
   "source": [
    "!pip install twitter"
   ]
  },
  {
   "cell_type": "code",
   "execution_count": 372,
   "metadata": {},
   "outputs": [
    {
     "name": "stdout",
     "output_type": "stream",
     "text": [
      "<twitter.api.Twitter object at 0x0000018B00E6B4C0>\n"
     ]
    }
   ],
   "source": [
    "import twitter\n",
    "\n",
    "auth = twitter.oauth.OAuth(Twitter['Access Token'],\n",
    "                           Twitter['Access Token Secret'],\n",
    "                           Twitter['Consumer Key'],\n",
    "                           Twitter['Consumer Secret'])\n",
    "\n",
    "twitter_api = twitter.Twitter(auth=auth)\n",
    "\n",
    "# Nothing to see by displaying twitter_api except that it's now a\n",
    "# defined variable\n",
    "\n",
    "print(twitter_api)"
   ]
  },
  {
   "cell_type": "code",
   "execution_count": 374,
   "metadata": {},
   "outputs": [],
   "source": [
    "airlines_list = tweets.columns[-6:].tolist()\n",
    "airlines_dict = {i: '#'+i.replace(' ', '') for i in airlines_list }"
   ]
  },
  {
   "cell_type": "code",
   "execution_count": 377,
   "metadata": {
    "scrolled": false
   },
   "outputs": [
    {
     "data": {
      "text/plain": [
       "{'American': '#AmericanAirlines',\n",
       " 'Delta': '#DeltaAirlines',\n",
       " 'Southwest': '#SouthwestAirlines',\n",
       " 'US Airways': '#USAirways',\n",
       " 'United': '#UnitedAirlines',\n",
       " 'Virgin America': '#VirginAmerica'}"
      ]
     },
     "execution_count": 377,
     "metadata": {},
     "output_type": "execute_result"
    }
   ],
   "source": [
    "airlines_dict"
   ]
  },
  {
   "cell_type": "code",
   "execution_count": 376,
   "metadata": {},
   "outputs": [],
   "source": [
    "airlines_dict['American'] = '#AmericanAirlines'\n",
    "airlines_dict['United'] = '#UnitedAirlines'\n",
    "airlines_dict['Southwest'] = '#SouthwestAirlines'\n",
    "airlines_dict['Delta'] = '#DeltaAirlines'"
   ]
  },
  {
   "cell_type": "code",
   "execution_count": 446,
   "metadata": {
    "scrolled": false
   },
   "outputs": [],
   "source": [
    "def get_tweets(hashtag, number):\n",
    "    list_of_tweets =[]\n",
    "    list_of_dirty_tweets =[]\n",
    "    times = []\n",
    "    search_results = twitter_api.search.tweets(q=hashtag, count=number)\n",
    "#     print(hashtag + ':' + str(len(search_results['statuses'])) + \"\\n\")\n",
    "    for num in range(len(search_results['statuses'])):\n",
    "        list_of_tweets.append(process_text(search_results['statuses'][num]['text']))\n",
    "        list_of_dirty_tweets.append(search_results['statuses'][num]['text'])\n",
    "        times.append(search_results['statuses'][num]['user']['created_at'])\n",
    "    return list_of_tweets, list_of_dirty_tweets, times"
   ]
  },
  {
   "cell_type": "code",
   "execution_count": null,
   "metadata": {},
   "outputs": [],
   "source": []
  },
  {
   "cell_type": "code",
   "execution_count": 447,
   "metadata": {},
   "outputs": [],
   "source": [
    "X_real_by_airline = {}\n",
    "for column_name, hashtag  in airlines_dict.items():\n",
    "    X_real_one_airline = pd.DataFrame(get_tweets(hashtag, 1000)[0], columns=['processed_text'])\n",
    "    X_real_one_airline['dirty_text'] = get_tweets(hashtag, 1000)[1]\n",
    "    X_real_one_airline['time_of_tweet'] = get_tweets(hashtag, 1000)[2]\n",
    "    for other_col_name in airlines_dict.keys():\n",
    "        if other_col_name == column_name:\n",
    "            X_real_one_airline[column_name] = 1\n",
    "        else:\n",
    "            X_real_one_airline[other_col_name] = 0\n",
    "            \n",
    "    X_real_by_airline[column_name] = X_real_one_airline\n",
    "    \n",
    "    \n",
    "#X_real = pd.DataFrame(get_tweets('#DeltaAirlines', 7), columns=['processed_text'])"
   ]
  },
  {
   "cell_type": "code",
   "execution_count": 448,
   "metadata": {},
   "outputs": [
    {
     "data": {
      "text/html": [
       "<div>\n",
       "<style scoped>\n",
       "    .dataframe tbody tr th:only-of-type {\n",
       "        vertical-align: middle;\n",
       "    }\n",
       "\n",
       "    .dataframe tbody tr th {\n",
       "        vertical-align: top;\n",
       "    }\n",
       "\n",
       "    .dataframe thead th {\n",
       "        text-align: right;\n",
       "    }\n",
       "</style>\n",
       "<table border=\"1\" class=\"dataframe\">\n",
       "  <thead>\n",
       "    <tr style=\"text-align: right;\">\n",
       "      <th></th>\n",
       "      <th>processed_text</th>\n",
       "      <th>dirty_text</th>\n",
       "      <th>time_of_tweet</th>\n",
       "      <th>American</th>\n",
       "      <th>Delta</th>\n",
       "      <th>Southwest</th>\n",
       "      <th>US Airways</th>\n",
       "      <th>United</th>\n",
       "      <th>Virgin America</th>\n",
       "    </tr>\n",
       "  </thead>\n",
       "  <tbody>\n",
       "    <tr>\n",
       "      <th>0</th>\n",
       "      <td>rt do you know that our employee and their family can travel the world with flight privilege on united airline and it gl</td>\n",
       "      <td>RT @UGESocial: Did you know that our employees and their families can travel the world with flight privileges on United Airlines and its gl…</td>\n",
       "      <td>Sat Mar 16 21:12:22 +0000 2013</td>\n",
       "      <td>0</td>\n",
       "      <td>0</td>\n",
       "      <td>0</td>\n",
       "      <td>0</td>\n",
       "      <td>1</td>\n",
       "      <td>0</td>\n",
       "    </tr>\n",
       "    <tr>\n",
       "      <th>1</th>\n",
       "      <td>dear why fly when you lose people bag unitedairlines lose bag and do nothing about it</td>\n",
       "      <td>Dear @united, why fly when you lose people’s bags? #unitedairlines lose bags and do nothing about it… @CNTraveler @cntraveller</td>\n",
       "      <td>Sun Nov 22 14:42:12 +0000 2009</td>\n",
       "      <td>0</td>\n",
       "      <td>0</td>\n",
       "      <td>0</td>\n",
       "      <td>0</td>\n",
       "      <td>1</td>\n",
       "      <td>0</td>\n",
       "    </tr>\n",
       "    <tr>\n",
       "      <th>2</th>\n",
       "      <td>do you know that our employee and their family can travel the world with flight privilege on united airline a tcoxidckurzgm</td>\n",
       "      <td>Did you know that our employees and their families can travel the world with flight privileges on United Airlines a… https://t.co/xIDCKURZgm</td>\n",
       "      <td>Wed Jul 06 04:15:12 +0000 2022</td>\n",
       "      <td>0</td>\n",
       "      <td>0</td>\n",
       "      <td>0</td>\n",
       "      <td>0</td>\n",
       "      <td>1</td>\n",
       "      <td>0</td>\n",
       "    </tr>\n",
       "    <tr>\n",
       "      <th>3</th>\n",
       "      <td>icao anumberd flt ualnumber unitedairlines bosiah first see number number number number min alt number ft msl min dist tcoircoirmnumbera</td>\n",
       "      <td>ICAO: #A4460D\\nFlt: #UAL560 #UnitedAirlines #BOS-#IAH\\nFirst seen: 2022/08/19 17:53:04\\nMin Alt: 1800 ft MSL\\nMin Dist:… https://t.co/IrCOiRM01A</td>\n",
       "      <td>Thu Apr 22 13:41:25 +0000 2021</td>\n",
       "      <td>0</td>\n",
       "      <td>0</td>\n",
       "      <td>0</td>\n",
       "      <td>0</td>\n",
       "      <td>1</td>\n",
       "      <td>0</td>\n",
       "    </tr>\n",
       "    <tr>\n",
       "      <th>4</th>\n",
       "      <td>one of the best game ever speaknoevilmonkey newmobilegame leagueofangels unitedairlines spring tcogyjhnumberaunnumbery</td>\n",
       "      <td>One of the best games ever.🙊 #NewMobileGame #Leagueofangels #UnitedAirlines #spring https://t.co/GyJh7aun3Y</td>\n",
       "      <td>Sun Jun 26 17:36:51 +0000 2022</td>\n",
       "      <td>0</td>\n",
       "      <td>0</td>\n",
       "      <td>0</td>\n",
       "      <td>0</td>\n",
       "      <td>1</td>\n",
       "      <td>0</td>\n",
       "    </tr>\n",
       "    <tr>\n",
       "      <th>...</th>\n",
       "      <td>...</td>\n",
       "      <td>...</td>\n",
       "      <td>...</td>\n",
       "      <td>...</td>\n",
       "      <td>...</td>\n",
       "      <td>...</td>\n",
       "      <td>...</td>\n",
       "      <td>...</td>\n",
       "      <td>...</td>\n",
       "    </tr>\n",
       "    <tr>\n",
       "      <th>95</th>\n",
       "      <td>rt barcelona and the boeing bnumber americanairlines unitedairlines emirate avgeeks avgeek aviationphotography</td>\n",
       "      <td>RT @CAlloing: #Barcelona and the #Boeing #B772 ! #AmericanAirlines  #UnitedAirlines #Emirates #avgeeks #Avgeek #aviationphotography https:/…</td>\n",
       "      <td>Mon Oct 03 22:02:26 +0000 2011</td>\n",
       "      <td>0</td>\n",
       "      <td>0</td>\n",
       "      <td>0</td>\n",
       "      <td>0</td>\n",
       "      <td>1</td>\n",
       "      <td>0</td>\n",
       "    </tr>\n",
       "    <tr>\n",
       "      <th>96</th>\n",
       "      <td>icao anumberanumber flt ualnumber unitedairlines iahlhr first see number number number number min alt number ft msl min dist number tcoqrozorycpe</td>\n",
       "      <td>ICAO: A31A50\\nFlt: UAL5 #UnitedAirlines #IAH-#LHR\\nFirst seen: 2022/08/19 10:30:26\\nMin Alt: 23600 ft MSL\\nMin Dist: 3.… https://t.co/qrozoRYCpE</td>\n",
       "      <td>Wed Mar 30 16:31:03 +0000 2022</td>\n",
       "      <td>0</td>\n",
       "      <td>0</td>\n",
       "      <td>0</td>\n",
       "      <td>0</td>\n",
       "      <td>1</td>\n",
       "      <td>0</td>\n",
       "    </tr>\n",
       "    <tr>\n",
       "      <th>97</th>\n",
       "      <td>rt barcelona and the boeing bnumber americanairlines unitedairlines emirate avgeeks avgeek aviationphotography</td>\n",
       "      <td>RT @CAlloing: #Barcelona and the #Boeing #B772 ! #AmericanAirlines  #UnitedAirlines #Emirates #avgeeks #Avgeek #aviationphotography https:/…</td>\n",
       "      <td>Fri Jun 14 08:20:09 +0000 2019</td>\n",
       "      <td>0</td>\n",
       "      <td>0</td>\n",
       "      <td>0</td>\n",
       "      <td>0</td>\n",
       "      <td>1</td>\n",
       "      <td>0</td>\n",
       "    </tr>\n",
       "    <tr>\n",
       "      <th>98</th>\n",
       "      <td>rt barcelona and the boeing bnumber americanairlines unitedairlines emirate avgeeks avgeek aviationphotography</td>\n",
       "      <td>RT @CAlloing: #Barcelona and the #Boeing #B772 ! #AmericanAirlines  #UnitedAirlines #Emirates #avgeeks #Avgeek #aviationphotography https:/…</td>\n",
       "      <td>Sat May 02 14:48:28 +0000 2020</td>\n",
       "      <td>0</td>\n",
       "      <td>0</td>\n",
       "      <td>0</td>\n",
       "      <td>0</td>\n",
       "      <td>1</td>\n",
       "      <td>0</td>\n",
       "    </tr>\n",
       "    <tr>\n",
       "      <th>99</th>\n",
       "      <td>rt barcelona and the boeing bnumber americanairlines unitedairlines emirate avgeeks avgeek aviationphotography</td>\n",
       "      <td>RT @CAlloing: #Barcelona and the #Boeing #B772 ! #AmericanAirlines  #UnitedAirlines #Emirates #avgeeks #Avgeek #aviationphotography https:/…</td>\n",
       "      <td>Tue Mar 22 00:01:40 +0000 2011</td>\n",
       "      <td>0</td>\n",
       "      <td>0</td>\n",
       "      <td>0</td>\n",
       "      <td>0</td>\n",
       "      <td>1</td>\n",
       "      <td>0</td>\n",
       "    </tr>\n",
       "  </tbody>\n",
       "</table>\n",
       "<p>100 rows × 9 columns</p>\n",
       "</div>"
      ],
      "text/plain": [
       "                                                                                                                                       processed_text  \\\n",
       "0                            rt do you know that our employee and their family can travel the world with flight privilege on united airline and it gl   \n",
       "1                                                               dear why fly when you lose people bag unitedairlines lose bag and do nothing about it   \n",
       "2                         do you know that our employee and their family can travel the world with flight privilege on united airline a tcoxidckurzgm   \n",
       "3            icao anumberd flt ualnumber unitedairlines bosiah first see number number number number min alt number ft msl min dist tcoircoirmnumbera   \n",
       "4                              one of the best game ever speaknoevilmonkey newmobilegame leagueofangels unitedairlines spring tcogyjhnumberaunnumbery   \n",
       "..                                                                                                                                                ...   \n",
       "95                                     rt barcelona and the boeing bnumber americanairlines unitedairlines emirate avgeeks avgeek aviationphotography   \n",
       "96  icao anumberanumber flt ualnumber unitedairlines iahlhr first see number number number number min alt number ft msl min dist number tcoqrozorycpe   \n",
       "97                                     rt barcelona and the boeing bnumber americanairlines unitedairlines emirate avgeeks avgeek aviationphotography   \n",
       "98                                     rt barcelona and the boeing bnumber americanairlines unitedairlines emirate avgeeks avgeek aviationphotography   \n",
       "99                                     rt barcelona and the boeing bnumber americanairlines unitedairlines emirate avgeeks avgeek aviationphotography   \n",
       "\n",
       "                                                                                                                                          dirty_text  \\\n",
       "0       RT @UGESocial: Did you know that our employees and their families can travel the world with flight privileges on United Airlines and its gl…   \n",
       "1                     Dear @united, why fly when you lose people’s bags? #unitedairlines lose bags and do nothing about it… @CNTraveler @cntraveller   \n",
       "2       Did you know that our employees and their families can travel the world with flight privileges on United Airlines a… https://t.co/xIDCKURZgm   \n",
       "3   ICAO: #A4460D\\nFlt: #UAL560 #UnitedAirlines #BOS-#IAH\\nFirst seen: 2022/08/19 17:53:04\\nMin Alt: 1800 ft MSL\\nMin Dist:… https://t.co/IrCOiRM01A   \n",
       "4                                        One of the best games ever.🙊 #NewMobileGame #Leagueofangels #UnitedAirlines #spring https://t.co/GyJh7aun3Y   \n",
       "..                                                                                                                                               ...   \n",
       "95      RT @CAlloing: #Barcelona and the #Boeing #B772 ! #AmericanAirlines  #UnitedAirlines #Emirates #avgeeks #Avgeek #aviationphotography https:/…   \n",
       "96  ICAO: A31A50\\nFlt: UAL5 #UnitedAirlines #IAH-#LHR\\nFirst seen: 2022/08/19 10:30:26\\nMin Alt: 23600 ft MSL\\nMin Dist: 3.… https://t.co/qrozoRYCpE   \n",
       "97      RT @CAlloing: #Barcelona and the #Boeing #B772 ! #AmericanAirlines  #UnitedAirlines #Emirates #avgeeks #Avgeek #aviationphotography https:/…   \n",
       "98      RT @CAlloing: #Barcelona and the #Boeing #B772 ! #AmericanAirlines  #UnitedAirlines #Emirates #avgeeks #Avgeek #aviationphotography https:/…   \n",
       "99      RT @CAlloing: #Barcelona and the #Boeing #B772 ! #AmericanAirlines  #UnitedAirlines #Emirates #avgeeks #Avgeek #aviationphotography https:/…   \n",
       "\n",
       "                     time_of_tweet  American  Delta  Southwest  US Airways  \\\n",
       "0   Sat Mar 16 21:12:22 +0000 2013         0      0          0           0   \n",
       "1   Sun Nov 22 14:42:12 +0000 2009         0      0          0           0   \n",
       "2   Wed Jul 06 04:15:12 +0000 2022         0      0          0           0   \n",
       "3   Thu Apr 22 13:41:25 +0000 2021         0      0          0           0   \n",
       "4   Sun Jun 26 17:36:51 +0000 2022         0      0          0           0   \n",
       "..                             ...       ...    ...        ...         ...   \n",
       "95  Mon Oct 03 22:02:26 +0000 2011         0      0          0           0   \n",
       "96  Wed Mar 30 16:31:03 +0000 2022         0      0          0           0   \n",
       "97  Fri Jun 14 08:20:09 +0000 2019         0      0          0           0   \n",
       "98  Sat May 02 14:48:28 +0000 2020         0      0          0           0   \n",
       "99  Tue Mar 22 00:01:40 +0000 2011         0      0          0           0   \n",
       "\n",
       "    United  Virgin America  \n",
       "0        1               0  \n",
       "1        1               0  \n",
       "2        1               0  \n",
       "3        1               0  \n",
       "4        1               0  \n",
       "..     ...             ...  \n",
       "95       1               0  \n",
       "96       1               0  \n",
       "97       1               0  \n",
       "98       1               0  \n",
       "99       1               0  \n",
       "\n",
       "[100 rows x 9 columns]"
      ]
     },
     "execution_count": 448,
     "metadata": {},
     "output_type": "execute_result"
    }
   ],
   "source": [
    "X_real_by_airline['United']"
   ]
  },
  {
   "cell_type": "code",
   "execution_count": 451,
   "metadata": {},
   "outputs": [],
   "source": [
    "sparse_out2 = vectorizer.transform(X_real_by_airline['United']['processed_text'])\n",
    "tfidf_df_real = pd.DataFrame(data = sparse_out2.toarray(),\n",
    "                        columns = vectorizer.get_feature_names(), index = X_real_by_airline['Delta'].index)\n",
    "\n",
    "\n",
    "# X_real_join = X_real_by_airline['Delta'].drop(['processed_text', 'dirty_text'], axis=1)\n",
    "# X_real_by_airline['Delta'].drop(['processed_text'], axis=1, inplace = True)\n",
    "X_real_vec = X_real_by_airline['Delta'].drop(columns= ['processed_text', 'dirty_text', 'time_of_tweet']).join(tfidf_df_real)"
   ]
  },
  {
   "cell_type": "code",
   "execution_count": 452,
   "metadata": {
    "scrolled": true
   },
   "outputs": [],
   "source": [
    "preds = lrgrid3.best_estimator_.predict(X_real_vec)"
   ]
  },
  {
   "cell_type": "code",
   "execution_count": 453,
   "metadata": {},
   "outputs": [],
   "source": [
    "results = pd.DataFrame(preds).join(X_real_by_airline['United'][['dirty_text','processed_text']]).rename(columns={0:'sentiment'})"
   ]
  },
  {
   "cell_type": "code",
   "execution_count": 455,
   "metadata": {},
   "outputs": [
    {
     "data": {
      "text/html": [
       "<div>\n",
       "<style scoped>\n",
       "    .dataframe tbody tr th:only-of-type {\n",
       "        vertical-align: middle;\n",
       "    }\n",
       "\n",
       "    .dataframe tbody tr th {\n",
       "        vertical-align: top;\n",
       "    }\n",
       "\n",
       "    .dataframe thead th {\n",
       "        text-align: right;\n",
       "    }\n",
       "</style>\n",
       "<table border=\"1\" class=\"dataframe\">\n",
       "  <thead>\n",
       "    <tr style=\"text-align: right;\">\n",
       "      <th></th>\n",
       "      <th>sentiment</th>\n",
       "      <th>dirty_text</th>\n",
       "      <th>processed_text</th>\n",
       "    </tr>\n",
       "  </thead>\n",
       "  <tbody>\n",
       "    <tr>\n",
       "      <th>1</th>\n",
       "      <td>negative</td>\n",
       "      <td>Dear @united, why fly when you lose people’s bags? #unitedairlines lose bags and do nothing about it… @CNTraveler @cntraveller</td>\n",
       "      <td>dear why fly when you lose people bag unitedairlines lose bag and do nothing about it</td>\n",
       "    </tr>\n",
       "    <tr>\n",
       "      <th>3</th>\n",
       "      <td>negative</td>\n",
       "      <td>ICAO: #A4460D\\nFlt: #UAL560 #UnitedAirlines #BOS-#IAH\\nFirst seen: 2022/08/19 17:53:04\\nMin Alt: 1800 ft MSL\\nMin Dist:… https://t.co/IrCOiRM01A</td>\n",
       "      <td>icao anumberd flt ualnumber unitedairlines bosiah first see number number number number min alt number ft msl min dist tcoircoirmnumbera</td>\n",
       "    </tr>\n",
       "    <tr>\n",
       "      <th>7</th>\n",
       "      <td>negative</td>\n",
       "      <td>It was the most anticipated game.🤩🤩🤩 #AndroidGameplay #UnitedAirlines #browsergames #リーグオブエンジェルズ https://t.co/bBa81TkeCQ</td>\n",
       "      <td>it be the most anticipated game starstruck starstruck starstruck androidgameplay unitedairlines browsergames tcobbanumbertkecq</td>\n",
       "    </tr>\n",
       "    <tr>\n",
       "      <th>8</th>\n",
       "      <td>negative</td>\n",
       "      <td>ICAO: #A60814\\nFlt: #UAL561 #UnitedAirlines #BOS-#ORD\\nFirst seen: 2022/08/19 16:59:33\\nMin Alt: 2050 ft MSL\\nMin Dist:… https://t.co/wwCMc2TTjO</td>\n",
       "      <td>icao anumber flt ualnumber unitedairlines bosord first see number number number number min alt number ft msl min dist tcowwcmcnumberttjo</td>\n",
       "    </tr>\n",
       "    <tr>\n",
       "      <th>11</th>\n",
       "      <td>negative</td>\n",
       "      <td>ICAO: #A620B7\\nFlt: #UAL426 #UnitedAirlines #BOS-#IAH\\nFirst seen: 2022/08/19 16:34:44\\nMin Alt: 3150 ft MSL\\nMin Dist:… https://t.co/FrSVTdSU6k</td>\n",
       "      <td>icao anumberbnumber flt ualnumber unitedairlines bosiah first see number number number number min alt number ft msl min dist tcofrsvtdsunumberk</td>\n",
       "    </tr>\n",
       "    <tr>\n",
       "      <th>12</th>\n",
       "      <td>negative</td>\n",
       "      <td>ICAO: #A620B7\\nFlt: #UAL426 #UnitedAirlines #BOS-#IAH\\nFirst seen: 2022/08/19 16:34:07\\nMin Alt: 2000 ft MSL\\nMin Dist:… https://t.co/aUYrF1fvoJ</td>\n",
       "      <td>icao anumberbnumber flt ualnumber unitedairlines bosiah first see number number number number min alt number ft msl min dist tcoauyrfnumberfvoj</td>\n",
       "    </tr>\n",
       "    <tr>\n",
       "      <th>13</th>\n",
       "      <td>negative</td>\n",
       "      <td>RT @airwaysmagazine: United Airlines (UA) had played a crucial role in the development of the Boeing 767. #AviationHistory #Boeing #Boeing7…</td>\n",
       "      <td>rt unite airline ua have play a crucial role in the development of the boeing number aviationhistory boeing boeingnumber</td>\n",
       "    </tr>\n",
       "    <tr>\n",
       "      <th>14</th>\n",
       "      <td>negative</td>\n",
       "      <td>ICAO: AAF9EA\\nFlt: UAL1945 #UnitedAirlines #SEA-#SFO\\nFirst seen: 2022/08/19 20:07:49\\nMin Alt: -6 ft AGL\\nMin Dist: 0.… https://t.co/jOqD74UTLo</td>\n",
       "      <td>icao aafnumberea flt ualnumber unitedairlines seasfo first see number number number number min alt number ft agl min dist number tcojoqdnumberutlo</td>\n",
       "    </tr>\n",
       "    <tr>\n",
       "      <th>15</th>\n",
       "      <td>negative</td>\n",
       "      <td>It was the most anticipated game.🤩🤩🤩 #AndroidGameplay #UnitedAirlines #browsergames #リーグオブエンジェルズ https://t.co/0sdnhlXHe9</td>\n",
       "      <td>it be the most anticipated game starstruck starstruck starstruck androidgameplay unitedairlines browsergames tconumbersdnhlxhenumber</td>\n",
       "    </tr>\n",
       "    <tr>\n",
       "      <th>17</th>\n",
       "      <td>negative</td>\n",
       "      <td>ICAO: #A60814\\nFlt: #UAL1057 #UnitedAirlines #DEN-#SFO\\nFirst seen: 2022/08/19 15:30:26\\nMin Alt: 4325 ft MSL\\nMin Dist… https://t.co/Me728C6CKs</td>\n",
       "      <td>icao anumber flt ualnumber unitedairlines densfo first see number number number number min alt number ft msl min dist tcomenumbercnumbercks</td>\n",
       "    </tr>\n",
       "    <tr>\n",
       "      <th>18</th>\n",
       "      <td>negative</td>\n",
       "      <td>RT @airwaysmagazine: United Airlines (UA) had played a crucial role in the development of the Boeing 767. #AviationHistory #Boeing #Boeing7…</td>\n",
       "      <td>rt unite airline ua have play a crucial role in the development of the boeing number aviationhistory boeing boeingnumber</td>\n",
       "    </tr>\n",
       "    <tr>\n",
       "      <th>19</th>\n",
       "      <td>negative</td>\n",
       "      <td>RT @airwaysmagazine: United Airlines (UA) had played a crucial role in the development of the Boeing 767. #AviationHistory #Boeing #Boeing7…</td>\n",
       "      <td>rt unite airline ua have play a crucial role in the development of the boeing number aviationhistory boeing boeingnumber</td>\n",
       "    </tr>\n",
       "    <tr>\n",
       "      <th>20</th>\n",
       "      <td>negative</td>\n",
       "      <td>ICAO: AAF9EA\\nFlt: UAL2672 #UnitedAirlines #DEN-#MSN\\nFirst seen: 2022/08/19 18:40:49\\nMin Alt: -31 ft AGL\\nMin Dist: 2… https://t.co/OGpf8VRCVr</td>\n",
       "      <td>icao aafnumberea flt ualnumber unitedairlines denmsn first see number number number number min alt number ft agl min dist number tcoogpfnumbervrcvr</td>\n",
       "    </tr>\n",
       "    <tr>\n",
       "      <th>21</th>\n",
       "      <td>negative</td>\n",
       "      <td>ICAO: A8D76B\\nFlt: UAL934 #UnitedAirlines #EWR-#LHR\\nFirst seen: 2022/08/19 19:38:10\\nMin Alt: 22600 ft MSL\\nMin Dist:… https://t.co/IocuR8XKqh</td>\n",
       "      <td>icao anumberdnumberb flt ualnumber unitedairlines ewrlhr first see number number number number min alt number ft msl min dist tcoiocurnumberxkqh</td>\n",
       "    </tr>\n",
       "    <tr>\n",
       "      <th>22</th>\n",
       "      <td>negative</td>\n",
       "      <td>ICAO: #A445EF\\nFlt: #UAL250 #UnitedAirlines #BOS-#IAH\\nFirst seen: 2022/08/19 14:17:09\\nMin Alt: 3300 ft MSL\\nMin Dist:… https://t.co/e4uFknsPMF</td>\n",
       "      <td>icao anumberef flt ualnumber unitedairlines bosiah first see number number number number min alt number ft msl min dist tcoenumberufknspmf</td>\n",
       "    </tr>\n",
       "    <tr>\n",
       "      <th>23</th>\n",
       "      <td>negative</td>\n",
       "      <td>ICAO: #A445EF\\nFlt: #UAL250 #UnitedAirlines #BOS-#IAH\\nFirst seen: 2022/08/19 14:16:24\\nMin Alt: 1775 ft MSL\\nMin Dist:… https://t.co/wWiWCdxQlF</td>\n",
       "      <td>icao anumberef flt ualnumber unitedairlines bosiah first see number number number number min alt number ft msl min dist tcowwiwcdxqlf</td>\n",
       "    </tr>\n",
       "    <tr>\n",
       "      <th>24</th>\n",
       "      <td>negative</td>\n",
       "      <td>@united flight 906 departs @goingplaces_cle for @fly2ohare after stopping over due to weather on its flight from Fr… https://t.co/qi0MqmqtnN</td>\n",
       "      <td>flight number departs for after stop over due to weather on it flight from fr tcoqinumbermqmqtnn</td>\n",
       "    </tr>\n",
       "    <tr>\n",
       "      <th>26</th>\n",
       "      <td>negative</td>\n",
       "      <td>United to End Service Between San Diego and Los Angeles https://t.co/BpEOJrkgF9 #unitedairlines https://t.co/6Ndts33kZV</td>\n",
       "      <td>unite to end service between san diego and los angeles tcobpeojrkgfnumber unitedairlines tconumberndtsnumberkzv</td>\n",
       "    </tr>\n",
       "    <tr>\n",
       "      <th>27</th>\n",
       "      <td>negative</td>\n",
       "      <td>ICAO: #A50C3E\\nFlt: #UAL2394 #UnitedAirlines #BOS-#EWR\\nFirst seen: 2022/08/19 13:39:42\\nMin Alt: 3925 ft MSL\\nMin Dist… https://t.co/EELlOyVw4p</td>\n",
       "      <td>icao anumbercnumbere flt ualnumber unitedairlines bosewr first see number number number number min alt number ft msl min dist tcoeelloyvwnumberp</td>\n",
       "    </tr>\n",
       "    <tr>\n",
       "      <th>28</th>\n",
       "      <td>negative</td>\n",
       "      <td>ICAO: #A50C3E\\nFlt: #UAL2394 #UnitedAirlines #BOS-#EWR\\nFirst seen: 2022/08/19 13:39:06\\nMin Alt: 2200 ft MSL\\nMin Dist… https://t.co/qhDHSbH6Wr</td>\n",
       "      <td>icao anumbercnumbere flt ualnumber unitedairlines bosewr first see number number number number min alt number ft msl min dist tcoqhdhsbhnumberwr</td>\n",
       "    </tr>\n",
       "    <tr>\n",
       "      <th>30</th>\n",
       "      <td>negative</td>\n",
       "      <td>ICAO: #A3EF1B\\nFlt: #UAL1564 #UnitedAirlines #BOS-#ORD\\nFirst seen: 2022/08/19 13:29:52\\nMin Alt: 2225 ft MSL\\nMin Dist… https://t.co/cLMvxqNwfc</td>\n",
       "      <td>icao anumberefnumberb flt ualnumber unitedairlines bosord first see number number number number min alt number ft msl min dist tcoclmvxqnwfc</td>\n",
       "    </tr>\n",
       "    <tr>\n",
       "      <th>37</th>\n",
       "      <td>negative</td>\n",
       "      <td>RT @IAMDistrict141: #EWR MEMBERS WANT THEIR FAIR #CONTRACTNOW!\\nThank You to Fleet Service Committee Person  Faysal Silwany For Your Hard Wo…</td>\n",
       "      <td>rt ewr member want their fair contractnow thank you to fleet service committee person faysal silwany for your hard wo</td>\n",
       "    </tr>\n",
       "    <tr>\n",
       "      <th>47</th>\n",
       "      <td>negative</td>\n",
       "      <td>It's another reason that I want to play.  #onlinegame #UnitedAirlines #leagueofangels https://t.co/AqCngXgFSB</td>\n",
       "      <td>it another reason that i want to play onlinegame unitedairlines leagueofangels tcoaqcngxgfsb</td>\n",
       "    </tr>\n",
       "    <tr>\n",
       "      <th>49</th>\n",
       "      <td>negative</td>\n",
       "      <td>ICAO: #A4453E\\nFlt: #UAL1112 #UnitedAirlines #BOS-#DEN\\nFirst seen: 2022/08/19 12:34:48\\nMin Alt: 2125 ft MSL\\nMin Dist… https://t.co/gobELWefiO</td>\n",
       "      <td>icao anumbere flt ualnumber unitedairlines bosden first see number number number number min alt number ft msl min dist tcogobelwefio</td>\n",
       "    </tr>\n",
       "    <tr>\n",
       "      <th>54</th>\n",
       "      <td>negative</td>\n",
       "      <td>ICAO: #A60814\\nFlt: #UAL254 #UnitedAirlines #ORD-#BOS\\nFirst seen: 2022/08/19 12:06:46\\nMin Alt: 3900 ft MSL\\nMin Dist:… https://t.co/pcvliIyIcm</td>\n",
       "      <td>icao anumber flt ualnumber unitedairlines ordbos first see number number number number min alt number ft msl min dist tcopcvliiyicm</td>\n",
       "    </tr>\n",
       "    <tr>\n",
       "      <th>55</th>\n",
       "      <td>negative</td>\n",
       "      <td>ICAO: #A60814\\nFlt: #UAL254 #UnitedAirlines #ORD-#BOS\\nFirst seen: 2022/08/19 12:06:08\\nMin Alt: 2325 ft MSL\\nMin Dist:… https://t.co/KVExCr2YwS</td>\n",
       "      <td>icao anumber flt ualnumber unitedairlines ordbos first see number number number number min alt number ft msl min dist tcokvexcrnumberyws</td>\n",
       "    </tr>\n",
       "    <tr>\n",
       "      <th>56</th>\n",
       "      <td>negative</td>\n",
       "      <td>ICAO: #A2BB89\\nFlt: #UAL477 #UnitedAirlines #BOS-#SFO\\nFirst seen: 2022/08/19 11:37:46\\nMin Alt: 1850 ft MSL\\nMin Dist:… https://t.co/6WuCojRvcs</td>\n",
       "      <td>icao anumberbbnumber flt ualnumber unitedairlines bossfo first see number number number number min alt number ft msl min dist tconumberwucojrvcs</td>\n",
       "    </tr>\n",
       "    <tr>\n",
       "      <th>58</th>\n",
       "      <td>negative</td>\n",
       "      <td>@united second day and 6 potential flights and I still do not have my checked bag that wasn’t loaded on my connecto… https://t.co/INweCZFmco</td>\n",
       "      <td>second day and number potential flight and i still do not have my check bag that wasnt load on my connecto tcoinweczfmco</td>\n",
       "    </tr>\n",
       "    <tr>\n",
       "      <th>60</th>\n",
       "      <td>negative</td>\n",
       "      <td>ICAO: #AB329E\\nFlt: #UAL1116 #UnitedAirlines #BOS-#ORD\\nFirst seen: 2022/08/19 10:27:01\\nMin Alt: 2350 ft MSL\\nMin Dist… https://t.co/s3k5KXSrvN</td>\n",
       "      <td>icao abnumbere flt ualnumber unitedairlines bosord first see number number number number min alt number ft msl min dist tcosnumberknumberkxsrvn</td>\n",
       "    </tr>\n",
       "    <tr>\n",
       "      <th>61</th>\n",
       "      <td>negative</td>\n",
       "      <td>ICAO: #A5D668\\nFlt: #UAL1157 #UnitedAirlines #BOS-#IAD\\nFirst seen: 2022/08/19 10:25:20\\nMin Alt: 2150 ft MSL\\nMin Dist… https://t.co/3eH0lSbXZA</td>\n",
       "      <td>icao anumberdnumber flt ualnumber unitedairlines bosiad first see number number number number min alt number ft msl min dist tconumberehnumberlsbxza</td>\n",
       "    </tr>\n",
       "    <tr>\n",
       "      <th>62</th>\n",
       "      <td>negative</td>\n",
       "      <td>RT @airwaysmagazine: United Airlines (UA) had played a crucial role in the development of the Boeing 767. #AviationHistory #Boeing #Boeing7…</td>\n",
       "      <td>rt unite airline ua have play a crucial role in the development of the boeing number aviationhistory boeing boeingnumber</td>\n",
       "    </tr>\n",
       "    <tr>\n",
       "      <th>68</th>\n",
       "      <td>negative</td>\n",
       "      <td>ICAO: #AA56B5\\nFlt: #UAL267 #UnitedAirlines #BOS-#DEN\\nFirst seen: 2022/08/19 09:47:25\\nMin Alt: 2375 ft MSL\\nMin Dist:… https://t.co/0MfICr6yNH</td>\n",
       "      <td>icao aanumberbnumber flt ualnumber unitedairlines bosden first see number number number number min alt number ft msl min dist tconumbermficrnumberynh</td>\n",
       "    </tr>\n",
       "    <tr>\n",
       "      <th>70</th>\n",
       "      <td>negative</td>\n",
       "      <td>ICAO: #A2BB83\\nFlt: #UAL1008 #UnitedAirlines #BOS-#SFO\\nFirst seen: 2022/08/19 09:09:45\\nMin Alt: 1975 ft MSL\\nMin Dist… https://t.co/jTaEZu7B0j</td>\n",
       "      <td>icao anumberbbnumber flt ualnumber unitedairlines bossfo first see number number number number min alt number ft msl min dist tcojtaezunumberbnumberj</td>\n",
       "    </tr>\n",
       "    <tr>\n",
       "      <th>71</th>\n",
       "      <td>negative</td>\n",
       "      <td>ICAO: #A448FA\\nFlt: #UAL549 #UnitedAirlines #BOS-#ORD\\nFirst seen: 2022/08/19 09:03:14\\nMin Alt: 2350 ft MSL\\nMin Dist:… https://t.co/SX4QVzlSNK</td>\n",
       "      <td>icao anumberfa flt ualnumber unitedairlines bosord first see number number number number min alt number ft msl min dist tcosxnumberqvzlsnk</td>\n",
       "    </tr>\n",
       "    <tr>\n",
       "      <th>72</th>\n",
       "      <td>negative</td>\n",
       "      <td>ICAO: #A448F5\\nFlt: #UAL311 #UnitedAirlines #BOS-#LAX\\nFirst seen: 2022/08/19 08:56:27\\nMin Alt: 2050 ft MSL\\nMin Dist:… https://t.co/2LcXIuV9Ov</td>\n",
       "      <td>icao anumberfnumber flt ualnumber unitedairlines boslax first see number number number number min alt number ft msl min dist tconumberlcxiuvnumberov</td>\n",
       "    </tr>\n",
       "    <tr>\n",
       "      <th>73</th>\n",
       "      <td>negative</td>\n",
       "      <td>Does #UnitedAirlines always change people's seats and hope they don't notice? I paid for extra room but did not get… https://t.co/yBvGjWU12G</td>\n",
       "      <td>do unitedairlines always change people seat and hope they dont notice i pay for extra room but do not get tcoybvgjwunumberg</td>\n",
       "    </tr>\n",
       "    <tr>\n",
       "      <th>75</th>\n",
       "      <td>negative</td>\n",
       "      <td>United Airlines (UA) had played a crucial role in the development of the Boeing 767. #AviationHistory #Boeing… https://t.co/kIZ48nwnd7</td>\n",
       "      <td>united airline ua have play a crucial role in the development of the boeing number aviationhistory boeing tcokiznumbernwndnumber</td>\n",
       "    </tr>\n",
       "    <tr>\n",
       "      <th>77</th>\n",
       "      <td>negative</td>\n",
       "      <td>ICAO: A5B916\\nFlt: UAL506 #UnitedAirlines #MSN-#DEN\\nFirst seen: 2022/08/19 12:36:18\\nMin Alt: 19 ft AGL\\nMin Dist: 0.9… https://t.co/qmxHaHIj8v</td>\n",
       "      <td>icao anumberbnumber flt ualnumber unitedairlines msnden first see number number number number min alt number ft agl min dist number tcoqmxhahijnumberv</td>\n",
       "    </tr>\n",
       "    <tr>\n",
       "      <th>78</th>\n",
       "      <td>negative</td>\n",
       "      <td>ICAO: A8856D\\nFlt: UAL2443 #UnitedAirlines #MSN-#ORD\\nFirst seen: 2022/08/19 12:10:12\\nMin Alt: 19 ft AGL\\nMin Dist: 0.… https://t.co/ZOQOdvbfFZ</td>\n",
       "      <td>icao anumberd flt ualnumber unitedairlines msnord first see number number number number min alt number ft agl min dist number tcozoqodvbffz</td>\n",
       "    </tr>\n",
       "    <tr>\n",
       "      <th>79</th>\n",
       "      <td>negative</td>\n",
       "      <td>ICAO: A2F200\\nFlt: UAL525 #UnitedAirlines #IAD-#AMM\\nFirst seen: 2022/08/19 15:07:35\\nMin Alt: 4911 m MSL\\nMin Dist: 27… https://t.co/90G1gBQ12R</td>\n",
       "      <td>icao anumberfnumber flt ualnumber unitedairlines iadamm first see number number number number min alt number m msl min dist number tconumbergnumbergbqnumberr</td>\n",
       "    </tr>\n",
       "    <tr>\n",
       "      <th>80</th>\n",
       "      <td>negative</td>\n",
       "      <td>ICAO: #A46D4A\\nFlt: #UAL226 #UnitedAirlines #BOS-#IAH\\nFirst seen: 2022/08/19 08:00:24\\nMin Alt: 2025 ft MSL\\nMin Dist:… https://t.co/UbVA0Rze2E</td>\n",
       "      <td>icao anumberdnumbera flt ualnumber unitedairlines bosiah first see number number number number min alt number ft msl min dist tcoubvanumberrzenumbere</td>\n",
       "    </tr>\n",
       "    <tr>\n",
       "      <th>82</th>\n",
       "      <td>negative</td>\n",
       "      <td>ICAO: #AC0B80\\nFlt: #UAL647 #UnitedAirlines #BOS-#DEN\\nFirst seen: 2022/08/19 07:46:31\\nMin Alt: 2475 ft MSL\\nMin Dist:… https://t.co/TV9KtfjCCQ</td>\n",
       "      <td>icao acnumberbnumber flt ualnumber unitedairlines bosden first see number number number number min alt number ft msl min dist tcotvnumberktfjccq</td>\n",
       "    </tr>\n",
       "    <tr>\n",
       "      <th>84</th>\n",
       "      <td>negative</td>\n",
       "      <td>ICAO: #AA56F7\\nFlt: #UAL570 #UnitedAirlines #BOS-#EWR\\nFirst seen: 2022/08/19 07:33:53\\nMin Alt: 3125 ft MSL\\nMin Dist:… https://t.co/tsmOJ5USb0</td>\n",
       "      <td>icao aanumberfnumber flt ualnumber unitedairlines bosewr first see number number number number min alt number ft msl min dist tcotsmojnumberusbnumber</td>\n",
       "    </tr>\n",
       "    <tr>\n",
       "      <th>85</th>\n",
       "      <td>negative</td>\n",
       "      <td>ICAO: A880FF\\nFlt: UAL160 #UnitedAirlines\\nFirst seen: 2022/08/19 12:44:55\\nMin Alt: 9740 m MSL\\nMin Dist: 3.31 km… https://t.co/69MW4Qea6K</td>\n",
       "      <td>icao anumberff flt ualnumber unitedairlines first see number number number number min alt number m msl min dist number km tconumbermwnumberqeanumberk</td>\n",
       "    </tr>\n",
       "    <tr>\n",
       "      <th>86</th>\n",
       "      <td>negative</td>\n",
       "      <td>ICAO: #A448F8\\nFlt: #UAL467 #UnitedAirlines #BOS-#DEN\\nFirst seen: 2022/08/19 06:29:04\\nMin Alt: 2475 ft MSL\\nMin Dist:… https://t.co/uuWZMsMErw</td>\n",
       "      <td>icao anumberfnumber flt ualnumber unitedairlines bosden first see number number number number min alt number ft msl min dist tcouuwzmsmerw</td>\n",
       "    </tr>\n",
       "    <tr>\n",
       "      <th>87</th>\n",
       "      <td>negative</td>\n",
       "      <td>ICAO: #A448F6\\nFlt: #UAL433 #UnitedAirlines #BOS-#SFO\\nFirst seen: 2022/08/19 06:28:00\\nMin Alt: 2525 ft MSL\\nMin Dist:… https://t.co/wMVVWWBYsx</td>\n",
       "      <td>icao anumberfnumber flt ualnumber unitedairlines bossfo first see number number number number min alt number ft msl min dist tcowmvvwwbysx</td>\n",
       "    </tr>\n",
       "    <tr>\n",
       "      <th>88</th>\n",
       "      <td>negative</td>\n",
       "      <td>ICAO: #A44938\\nFlt: #UAL601 #UnitedAirlines #BOS-#EWR\\nFirst seen: 2022/08/19 06:15:05\\nMin Alt: 4750 ft MSL\\nMin Dist:… https://t.co/znYQXKJVIZ</td>\n",
       "      <td>icao anumber flt ualnumber unitedairlines bosewr first see number number number number min alt number ft msl min dist tcoznyqxkjviz</td>\n",
       "    </tr>\n",
       "    <tr>\n",
       "      <th>89</th>\n",
       "      <td>negative</td>\n",
       "      <td>ICAO: #A91536\\nFlt: #UAL1785 #UnitedAirlines #BOS-#IAD\\nFirst seen: 2022/08/19 06:13:45\\nMin Alt: 4400 ft MSL\\nMin Dist… https://t.co/jf1Od1H20n</td>\n",
       "      <td>icao anumber flt ualnumber unitedairlines bosiad first see number number number number min alt number ft msl min dist tcojfnumberodnumberhnumbern</td>\n",
       "    </tr>\n",
       "    <tr>\n",
       "      <th>90</th>\n",
       "      <td>negative</td>\n",
       "      <td>ICAO: #A44938\\nFlt: #UAL601 #UnitedAirlines #BOS-#EWR\\nFirst seen: 2022/08/19 06:14:29\\nMin Alt: 3450 ft MSL\\nMin Dist:… https://t.co/GSdJufsy4Z</td>\n",
       "      <td>icao anumber flt ualnumber unitedairlines bosewr first see number number number number min alt number ft msl min dist tcogsdjufsynumberz</td>\n",
       "    </tr>\n",
       "    <tr>\n",
       "      <th>91</th>\n",
       "      <td>negative</td>\n",
       "      <td>ICAO: #A91536\\nFlt: #UAL1785 #UnitedAirlines #BOS-#IAD\\nFirst seen: 2022/08/19 06:13:07\\nMin Alt: 2850 ft MSL\\nMin Dist… https://t.co/Tef0p9zcyr</td>\n",
       "      <td>icao anumber flt ualnumber unitedairlines bosiad first see number number number number min alt number ft msl min dist tcotefnumberpnumberzcyr</td>\n",
       "    </tr>\n",
       "    <tr>\n",
       "      <th>92</th>\n",
       "      <td>negative</td>\n",
       "      <td>ICAO: #AA2BC1\\nFlt: #UAL2242 #UnitedAirlines #ORD-#SFO\\nFirst seen: 2022/08/19 06:11:34\\nMin Alt: 2450 ft MSL\\nMin Dist… https://t.co/Iixtj6s4PB</td>\n",
       "      <td>icao aanumberbcnumber flt ualnumber unitedairlines ordsfo first see number number number number min alt number ft msl min dist tcoiixtjnumbersnumberpb</td>\n",
       "    </tr>\n",
       "    <tr>\n",
       "      <th>93</th>\n",
       "      <td>negative</td>\n",
       "      <td>ICAO: AA44CD\\nFlt: UAL54 #UnitedAirlines #EWR-#CDG\\nFirst seen: 2022/08/19 10:46:02\\nMin Alt: 37000 ft MSL\\nMin Dist: 7… https://t.co/neFfIQS8bD</td>\n",
       "      <td>icao aanumbercd flt ualnumber unitedairlines ewrcdg first see number number number number min alt number ft msl min dist number tconeffiqsnumberbd</td>\n",
       "    </tr>\n",
       "    <tr>\n",
       "      <th>96</th>\n",
       "      <td>negative</td>\n",
       "      <td>ICAO: A31A50\\nFlt: UAL5 #UnitedAirlines #IAH-#LHR\\nFirst seen: 2022/08/19 10:30:26\\nMin Alt: 23600 ft MSL\\nMin Dist: 3.… https://t.co/qrozoRYCpE</td>\n",
       "      <td>icao anumberanumber flt ualnumber unitedairlines iahlhr first see number number number number min alt number ft msl min dist number tcoqrozorycpe</td>\n",
       "    </tr>\n",
       "  </tbody>\n",
       "</table>\n",
       "</div>"
      ],
      "text/plain": [
       "   sentiment  \\\n",
       "1   negative   \n",
       "3   negative   \n",
       "7   negative   \n",
       "8   negative   \n",
       "11  negative   \n",
       "12  negative   \n",
       "13  negative   \n",
       "14  negative   \n",
       "15  negative   \n",
       "17  negative   \n",
       "18  negative   \n",
       "19  negative   \n",
       "20  negative   \n",
       "21  negative   \n",
       "22  negative   \n",
       "23  negative   \n",
       "24  negative   \n",
       "26  negative   \n",
       "27  negative   \n",
       "28  negative   \n",
       "30  negative   \n",
       "37  negative   \n",
       "47  negative   \n",
       "49  negative   \n",
       "54  negative   \n",
       "55  negative   \n",
       "56  negative   \n",
       "58  negative   \n",
       "60  negative   \n",
       "61  negative   \n",
       "62  negative   \n",
       "68  negative   \n",
       "70  negative   \n",
       "71  negative   \n",
       "72  negative   \n",
       "73  negative   \n",
       "75  negative   \n",
       "77  negative   \n",
       "78  negative   \n",
       "79  negative   \n",
       "80  negative   \n",
       "82  negative   \n",
       "84  negative   \n",
       "85  negative   \n",
       "86  negative   \n",
       "87  negative   \n",
       "88  negative   \n",
       "89  negative   \n",
       "90  negative   \n",
       "91  negative   \n",
       "92  negative   \n",
       "93  negative   \n",
       "96  negative   \n",
       "\n",
       "                                                                                                                                          dirty_text  \\\n",
       "1                     Dear @united, why fly when you lose people’s bags? #unitedairlines lose bags and do nothing about it… @CNTraveler @cntraveller   \n",
       "3   ICAO: #A4460D\\nFlt: #UAL560 #UnitedAirlines #BOS-#IAH\\nFirst seen: 2022/08/19 17:53:04\\nMin Alt: 1800 ft MSL\\nMin Dist:… https://t.co/IrCOiRM01A   \n",
       "7                           It was the most anticipated game.🤩🤩🤩 #AndroidGameplay #UnitedAirlines #browsergames #リーグオブエンジェルズ https://t.co/bBa81TkeCQ   \n",
       "8   ICAO: #A60814\\nFlt: #UAL561 #UnitedAirlines #BOS-#ORD\\nFirst seen: 2022/08/19 16:59:33\\nMin Alt: 2050 ft MSL\\nMin Dist:… https://t.co/wwCMc2TTjO   \n",
       "11  ICAO: #A620B7\\nFlt: #UAL426 #UnitedAirlines #BOS-#IAH\\nFirst seen: 2022/08/19 16:34:44\\nMin Alt: 3150 ft MSL\\nMin Dist:… https://t.co/FrSVTdSU6k   \n",
       "12  ICAO: #A620B7\\nFlt: #UAL426 #UnitedAirlines #BOS-#IAH\\nFirst seen: 2022/08/19 16:34:07\\nMin Alt: 2000 ft MSL\\nMin Dist:… https://t.co/aUYrF1fvoJ   \n",
       "13      RT @airwaysmagazine: United Airlines (UA) had played a crucial role in the development of the Boeing 767. #AviationHistory #Boeing #Boeing7…   \n",
       "14  ICAO: AAF9EA\\nFlt: UAL1945 #UnitedAirlines #SEA-#SFO\\nFirst seen: 2022/08/19 20:07:49\\nMin Alt: -6 ft AGL\\nMin Dist: 0.… https://t.co/jOqD74UTLo   \n",
       "15                          It was the most anticipated game.🤩🤩🤩 #AndroidGameplay #UnitedAirlines #browsergames #リーグオブエンジェルズ https://t.co/0sdnhlXHe9   \n",
       "17  ICAO: #A60814\\nFlt: #UAL1057 #UnitedAirlines #DEN-#SFO\\nFirst seen: 2022/08/19 15:30:26\\nMin Alt: 4325 ft MSL\\nMin Dist… https://t.co/Me728C6CKs   \n",
       "18      RT @airwaysmagazine: United Airlines (UA) had played a crucial role in the development of the Boeing 767. #AviationHistory #Boeing #Boeing7…   \n",
       "19      RT @airwaysmagazine: United Airlines (UA) had played a crucial role in the development of the Boeing 767. #AviationHistory #Boeing #Boeing7…   \n",
       "20  ICAO: AAF9EA\\nFlt: UAL2672 #UnitedAirlines #DEN-#MSN\\nFirst seen: 2022/08/19 18:40:49\\nMin Alt: -31 ft AGL\\nMin Dist: 2… https://t.co/OGpf8VRCVr   \n",
       "21   ICAO: A8D76B\\nFlt: UAL934 #UnitedAirlines #EWR-#LHR\\nFirst seen: 2022/08/19 19:38:10\\nMin Alt: 22600 ft MSL\\nMin Dist:… https://t.co/IocuR8XKqh   \n",
       "22  ICAO: #A445EF\\nFlt: #UAL250 #UnitedAirlines #BOS-#IAH\\nFirst seen: 2022/08/19 14:17:09\\nMin Alt: 3300 ft MSL\\nMin Dist:… https://t.co/e4uFknsPMF   \n",
       "23  ICAO: #A445EF\\nFlt: #UAL250 #UnitedAirlines #BOS-#IAH\\nFirst seen: 2022/08/19 14:16:24\\nMin Alt: 1775 ft MSL\\nMin Dist:… https://t.co/wWiWCdxQlF   \n",
       "24      @united flight 906 departs @goingplaces_cle for @fly2ohare after stopping over due to weather on its flight from Fr… https://t.co/qi0MqmqtnN   \n",
       "26                           United to End Service Between San Diego and Los Angeles https://t.co/BpEOJrkgF9 #unitedairlines https://t.co/6Ndts33kZV   \n",
       "27  ICAO: #A50C3E\\nFlt: #UAL2394 #UnitedAirlines #BOS-#EWR\\nFirst seen: 2022/08/19 13:39:42\\nMin Alt: 3925 ft MSL\\nMin Dist… https://t.co/EELlOyVw4p   \n",
       "28  ICAO: #A50C3E\\nFlt: #UAL2394 #UnitedAirlines #BOS-#EWR\\nFirst seen: 2022/08/19 13:39:06\\nMin Alt: 2200 ft MSL\\nMin Dist… https://t.co/qhDHSbH6Wr   \n",
       "30  ICAO: #A3EF1B\\nFlt: #UAL1564 #UnitedAirlines #BOS-#ORD\\nFirst seen: 2022/08/19 13:29:52\\nMin Alt: 2225 ft MSL\\nMin Dist… https://t.co/cLMvxqNwfc   \n",
       "37     RT @IAMDistrict141: #EWR MEMBERS WANT THEIR FAIR #CONTRACTNOW!\\nThank You to Fleet Service Committee Person  Faysal Silwany For Your Hard Wo…   \n",
       "47                                     It's another reason that I want to play.  #onlinegame #UnitedAirlines #leagueofangels https://t.co/AqCngXgFSB   \n",
       "49  ICAO: #A4453E\\nFlt: #UAL1112 #UnitedAirlines #BOS-#DEN\\nFirst seen: 2022/08/19 12:34:48\\nMin Alt: 2125 ft MSL\\nMin Dist… https://t.co/gobELWefiO   \n",
       "54  ICAO: #A60814\\nFlt: #UAL254 #UnitedAirlines #ORD-#BOS\\nFirst seen: 2022/08/19 12:06:46\\nMin Alt: 3900 ft MSL\\nMin Dist:… https://t.co/pcvliIyIcm   \n",
       "55  ICAO: #A60814\\nFlt: #UAL254 #UnitedAirlines #ORD-#BOS\\nFirst seen: 2022/08/19 12:06:08\\nMin Alt: 2325 ft MSL\\nMin Dist:… https://t.co/KVExCr2YwS   \n",
       "56  ICAO: #A2BB89\\nFlt: #UAL477 #UnitedAirlines #BOS-#SFO\\nFirst seen: 2022/08/19 11:37:46\\nMin Alt: 1850 ft MSL\\nMin Dist:… https://t.co/6WuCojRvcs   \n",
       "58      @united second day and 6 potential flights and I still do not have my checked bag that wasn’t loaded on my connecto… https://t.co/INweCZFmco   \n",
       "60  ICAO: #AB329E\\nFlt: #UAL1116 #UnitedAirlines #BOS-#ORD\\nFirst seen: 2022/08/19 10:27:01\\nMin Alt: 2350 ft MSL\\nMin Dist… https://t.co/s3k5KXSrvN   \n",
       "61  ICAO: #A5D668\\nFlt: #UAL1157 #UnitedAirlines #BOS-#IAD\\nFirst seen: 2022/08/19 10:25:20\\nMin Alt: 2150 ft MSL\\nMin Dist… https://t.co/3eH0lSbXZA   \n",
       "62      RT @airwaysmagazine: United Airlines (UA) had played a crucial role in the development of the Boeing 767. #AviationHistory #Boeing #Boeing7…   \n",
       "68  ICAO: #AA56B5\\nFlt: #UAL267 #UnitedAirlines #BOS-#DEN\\nFirst seen: 2022/08/19 09:47:25\\nMin Alt: 2375 ft MSL\\nMin Dist:… https://t.co/0MfICr6yNH   \n",
       "70  ICAO: #A2BB83\\nFlt: #UAL1008 #UnitedAirlines #BOS-#SFO\\nFirst seen: 2022/08/19 09:09:45\\nMin Alt: 1975 ft MSL\\nMin Dist… https://t.co/jTaEZu7B0j   \n",
       "71  ICAO: #A448FA\\nFlt: #UAL549 #UnitedAirlines #BOS-#ORD\\nFirst seen: 2022/08/19 09:03:14\\nMin Alt: 2350 ft MSL\\nMin Dist:… https://t.co/SX4QVzlSNK   \n",
       "72  ICAO: #A448F5\\nFlt: #UAL311 #UnitedAirlines #BOS-#LAX\\nFirst seen: 2022/08/19 08:56:27\\nMin Alt: 2050 ft MSL\\nMin Dist:… https://t.co/2LcXIuV9Ov   \n",
       "73      Does #UnitedAirlines always change people's seats and hope they don't notice? I paid for extra room but did not get… https://t.co/yBvGjWU12G   \n",
       "75            United Airlines (UA) had played a crucial role in the development of the Boeing 767. #AviationHistory #Boeing… https://t.co/kIZ48nwnd7   \n",
       "77  ICAO: A5B916\\nFlt: UAL506 #UnitedAirlines #MSN-#DEN\\nFirst seen: 2022/08/19 12:36:18\\nMin Alt: 19 ft AGL\\nMin Dist: 0.9… https://t.co/qmxHaHIj8v   \n",
       "78  ICAO: A8856D\\nFlt: UAL2443 #UnitedAirlines #MSN-#ORD\\nFirst seen: 2022/08/19 12:10:12\\nMin Alt: 19 ft AGL\\nMin Dist: 0.… https://t.co/ZOQOdvbfFZ   \n",
       "79  ICAO: A2F200\\nFlt: UAL525 #UnitedAirlines #IAD-#AMM\\nFirst seen: 2022/08/19 15:07:35\\nMin Alt: 4911 m MSL\\nMin Dist: 27… https://t.co/90G1gBQ12R   \n",
       "80  ICAO: #A46D4A\\nFlt: #UAL226 #UnitedAirlines #BOS-#IAH\\nFirst seen: 2022/08/19 08:00:24\\nMin Alt: 2025 ft MSL\\nMin Dist:… https://t.co/UbVA0Rze2E   \n",
       "82  ICAO: #AC0B80\\nFlt: #UAL647 #UnitedAirlines #BOS-#DEN\\nFirst seen: 2022/08/19 07:46:31\\nMin Alt: 2475 ft MSL\\nMin Dist:… https://t.co/TV9KtfjCCQ   \n",
       "84  ICAO: #AA56F7\\nFlt: #UAL570 #UnitedAirlines #BOS-#EWR\\nFirst seen: 2022/08/19 07:33:53\\nMin Alt: 3125 ft MSL\\nMin Dist:… https://t.co/tsmOJ5USb0   \n",
       "85       ICAO: A880FF\\nFlt: UAL160 #UnitedAirlines\\nFirst seen: 2022/08/19 12:44:55\\nMin Alt: 9740 m MSL\\nMin Dist: 3.31 km… https://t.co/69MW4Qea6K   \n",
       "86  ICAO: #A448F8\\nFlt: #UAL467 #UnitedAirlines #BOS-#DEN\\nFirst seen: 2022/08/19 06:29:04\\nMin Alt: 2475 ft MSL\\nMin Dist:… https://t.co/uuWZMsMErw   \n",
       "87  ICAO: #A448F6\\nFlt: #UAL433 #UnitedAirlines #BOS-#SFO\\nFirst seen: 2022/08/19 06:28:00\\nMin Alt: 2525 ft MSL\\nMin Dist:… https://t.co/wMVVWWBYsx   \n",
       "88  ICAO: #A44938\\nFlt: #UAL601 #UnitedAirlines #BOS-#EWR\\nFirst seen: 2022/08/19 06:15:05\\nMin Alt: 4750 ft MSL\\nMin Dist:… https://t.co/znYQXKJVIZ   \n",
       "89  ICAO: #A91536\\nFlt: #UAL1785 #UnitedAirlines #BOS-#IAD\\nFirst seen: 2022/08/19 06:13:45\\nMin Alt: 4400 ft MSL\\nMin Dist… https://t.co/jf1Od1H20n   \n",
       "90  ICAO: #A44938\\nFlt: #UAL601 #UnitedAirlines #BOS-#EWR\\nFirst seen: 2022/08/19 06:14:29\\nMin Alt: 3450 ft MSL\\nMin Dist:… https://t.co/GSdJufsy4Z   \n",
       "91  ICAO: #A91536\\nFlt: #UAL1785 #UnitedAirlines #BOS-#IAD\\nFirst seen: 2022/08/19 06:13:07\\nMin Alt: 2850 ft MSL\\nMin Dist… https://t.co/Tef0p9zcyr   \n",
       "92  ICAO: #AA2BC1\\nFlt: #UAL2242 #UnitedAirlines #ORD-#SFO\\nFirst seen: 2022/08/19 06:11:34\\nMin Alt: 2450 ft MSL\\nMin Dist… https://t.co/Iixtj6s4PB   \n",
       "93  ICAO: AA44CD\\nFlt: UAL54 #UnitedAirlines #EWR-#CDG\\nFirst seen: 2022/08/19 10:46:02\\nMin Alt: 37000 ft MSL\\nMin Dist: 7… https://t.co/neFfIQS8bD   \n",
       "96  ICAO: A31A50\\nFlt: UAL5 #UnitedAirlines #IAH-#LHR\\nFirst seen: 2022/08/19 10:30:26\\nMin Alt: 23600 ft MSL\\nMin Dist: 3.… https://t.co/qrozoRYCpE   \n",
       "\n",
       "                                                                                                                                                   processed_text  \n",
       "1                                                                           dear why fly when you lose people bag unitedairlines lose bag and do nothing about it  \n",
       "3                        icao anumberd flt ualnumber unitedairlines bosiah first see number number number number min alt number ft msl min dist tcoircoirmnumbera  \n",
       "7                                  it be the most anticipated game starstruck starstruck starstruck androidgameplay unitedairlines browsergames tcobbanumbertkecq  \n",
       "8                        icao anumber flt ualnumber unitedairlines bosord first see number number number number min alt number ft msl min dist tcowwcmcnumberttjo  \n",
       "11                icao anumberbnumber flt ualnumber unitedairlines bosiah first see number number number number min alt number ft msl min dist tcofrsvtdsunumberk  \n",
       "12                icao anumberbnumber flt ualnumber unitedairlines bosiah first see number number number number min alt number ft msl min dist tcoauyrfnumberfvoj  \n",
       "13                                       rt unite airline ua have play a crucial role in the development of the boeing number aviationhistory boeing boeingnumber  \n",
       "14             icao aafnumberea flt ualnumber unitedairlines seasfo first see number number number number min alt number ft agl min dist number tcojoqdnumberutlo  \n",
       "15                           it be the most anticipated game starstruck starstruck starstruck androidgameplay unitedairlines browsergames tconumbersdnhlxhenumber  \n",
       "17                    icao anumber flt ualnumber unitedairlines densfo first see number number number number min alt number ft msl min dist tcomenumbercnumbercks  \n",
       "18                                       rt unite airline ua have play a crucial role in the development of the boeing number aviationhistory boeing boeingnumber  \n",
       "19                                       rt unite airline ua have play a crucial role in the development of the boeing number aviationhistory boeing boeingnumber  \n",
       "20            icao aafnumberea flt ualnumber unitedairlines denmsn first see number number number number min alt number ft agl min dist number tcoogpfnumbervrcvr  \n",
       "21               icao anumberdnumberb flt ualnumber unitedairlines ewrlhr first see number number number number min alt number ft msl min dist tcoiocurnumberxkqh  \n",
       "22                     icao anumberef flt ualnumber unitedairlines bosiah first see number number number number min alt number ft msl min dist tcoenumberufknspmf  \n",
       "23                          icao anumberef flt ualnumber unitedairlines bosiah first see number number number number min alt number ft msl min dist tcowwiwcdxqlf  \n",
       "24                                                               flight number departs for after stop over due to weather on it flight from fr tcoqinumbermqmqtnn  \n",
       "26                                                unite to end service between san diego and los angeles tcobpeojrkgfnumber unitedairlines tconumberndtsnumberkzv  \n",
       "27               icao anumbercnumbere flt ualnumber unitedairlines bosewr first see number number number number min alt number ft msl min dist tcoeelloyvwnumberp  \n",
       "28               icao anumbercnumbere flt ualnumber unitedairlines bosewr first see number number number number min alt number ft msl min dist tcoqhdhsbhnumberwr  \n",
       "30                   icao anumberefnumberb flt ualnumber unitedairlines bosord first see number number number number min alt number ft msl min dist tcoclmvxqnwfc  \n",
       "37                                          rt ewr member want their fair contractnow thank you to fleet service committee person faysal silwany for your hard wo  \n",
       "47                                                                   it another reason that i want to play onlinegame unitedairlines leagueofangels tcoaqcngxgfsb  \n",
       "49                           icao anumbere flt ualnumber unitedairlines bosden first see number number number number min alt number ft msl min dist tcogobelwefio  \n",
       "54                            icao anumber flt ualnumber unitedairlines ordbos first see number number number number min alt number ft msl min dist tcopcvliiyicm  \n",
       "55                       icao anumber flt ualnumber unitedairlines ordbos first see number number number number min alt number ft msl min dist tcokvexcrnumberyws  \n",
       "56               icao anumberbbnumber flt ualnumber unitedairlines bossfo first see number number number number min alt number ft msl min dist tconumberwucojrvcs  \n",
       "58                                       second day and number potential flight and i still do not have my check bag that wasnt load on my connecto tcoinweczfmco  \n",
       "60                icao abnumbere flt ualnumber unitedairlines bosord first see number number number number min alt number ft msl min dist tcosnumberknumberkxsrvn  \n",
       "61           icao anumberdnumber flt ualnumber unitedairlines bosiad first see number number number number min alt number ft msl min dist tconumberehnumberlsbxza  \n",
       "62                                       rt unite airline ua have play a crucial role in the development of the boeing number aviationhistory boeing boeingnumber  \n",
       "68          icao aanumberbnumber flt ualnumber unitedairlines bosden first see number number number number min alt number ft msl min dist tconumbermficrnumberynh  \n",
       "70          icao anumberbbnumber flt ualnumber unitedairlines bossfo first see number number number number min alt number ft msl min dist tcojtaezunumberbnumberj  \n",
       "71                     icao anumberfa flt ualnumber unitedairlines bosord first see number number number number min alt number ft msl min dist tcosxnumberqvzlsnk  \n",
       "72           icao anumberfnumber flt ualnumber unitedairlines boslax first see number number number number min alt number ft msl min dist tconumberlcxiuvnumberov  \n",
       "73                                    do unitedairlines always change people seat and hope they dont notice i pay for extra room but do not get tcoybvgjwunumberg  \n",
       "75                               united airline ua have play a crucial role in the development of the boeing number aviationhistory boeing tcokiznumbernwndnumber  \n",
       "77         icao anumberbnumber flt ualnumber unitedairlines msnden first see number number number number min alt number ft agl min dist number tcoqmxhahijnumberv  \n",
       "78                    icao anumberd flt ualnumber unitedairlines msnord first see number number number number min alt number ft agl min dist number tcozoqodvbffz  \n",
       "79  icao anumberfnumber flt ualnumber unitedairlines iadamm first see number number number number min alt number m msl min dist number tconumbergnumbergbqnumberr  \n",
       "80          icao anumberdnumbera flt ualnumber unitedairlines bosiah first see number number number number min alt number ft msl min dist tcoubvanumberrzenumbere  \n",
       "82               icao acnumberbnumber flt ualnumber unitedairlines bosden first see number number number number min alt number ft msl min dist tcotvnumberktfjccq  \n",
       "84          icao aanumberfnumber flt ualnumber unitedairlines bosewr first see number number number number min alt number ft msl min dist tcotsmojnumberusbnumber  \n",
       "85          icao anumberff flt ualnumber unitedairlines first see number number number number min alt number m msl min dist number km tconumbermwnumberqeanumberk  \n",
       "86                     icao anumberfnumber flt ualnumber unitedairlines bosden first see number number number number min alt number ft msl min dist tcouuwzmsmerw  \n",
       "87                     icao anumberfnumber flt ualnumber unitedairlines bossfo first see number number number number min alt number ft msl min dist tcowmvvwwbysx  \n",
       "88                            icao anumber flt ualnumber unitedairlines bosewr first see number number number number min alt number ft msl min dist tcoznyqxkjviz  \n",
       "89              icao anumber flt ualnumber unitedairlines bosiad first see number number number number min alt number ft msl min dist tcojfnumberodnumberhnumbern  \n",
       "90                       icao anumber flt ualnumber unitedairlines bosewr first see number number number number min alt number ft msl min dist tcogsdjufsynumberz  \n",
       "91                  icao anumber flt ualnumber unitedairlines bosiad first see number number number number min alt number ft msl min dist tcotefnumberpnumberzcyr  \n",
       "92         icao aanumberbcnumber flt ualnumber unitedairlines ordsfo first see number number number number min alt number ft msl min dist tcoiixtjnumbersnumberpb  \n",
       "93             icao aanumbercd flt ualnumber unitedairlines ewrcdg first see number number number number min alt number ft msl min dist number tconeffiqsnumberbd  \n",
       "96              icao anumberanumber flt ualnumber unitedairlines iahlhr first see number number number number min alt number ft msl min dist number tcoqrozorycpe  "
      ]
     },
     "execution_count": 455,
     "metadata": {},
     "output_type": "execute_result"
    }
   ],
   "source": [
    "results[results['sentiment'] == 'negative']"
   ]
  },
  {
   "cell_type": "code",
   "execution_count": 431,
   "metadata": {},
   "outputs": [],
   "source": [
    "pd.set_option('display.max_colwidth', None)"
   ]
  },
  {
   "cell_type": "code",
   "execution_count": null,
   "metadata": {},
   "outputs": [],
   "source": []
  },
  {
   "cell_type": "code",
   "execution_count": null,
   "metadata": {},
   "outputs": [],
   "source": []
  },
  {
   "cell_type": "code",
   "execution_count": null,
   "metadata": {},
   "outputs": [],
   "source": []
  },
  {
   "cell_type": "code",
   "execution_count": null,
   "metadata": {},
   "outputs": [],
   "source": []
  },
  {
   "cell_type": "code",
   "execution_count": null,
   "metadata": {},
   "outputs": [],
   "source": []
  },
  {
   "cell_type": "code",
   "execution_count": null,
   "metadata": {},
   "outputs": [],
   "source": [
    "process_text(search_results['statuses'][9]['text'])"
   ]
  },
  {
   "cell_type": "code",
   "execution_count": 325,
   "metadata": {},
   "outputs": [
    {
     "name": "stdout",
     "output_type": "stream",
     "text": [
      "Successful Authentication\n"
     ]
    }
   ],
   "source": [
    "import tweepy\n",
    "\n",
    "# API keyws that yous saved earlier\n",
    "api_key = \"iAimqbAdWiBrUfXe0Xmuhlyps\"\n",
    "api_secrets = \"YWUyAsX8sA2VuJCwQv4x3MUhAGmm48VlV0ZTx2yWNWqlGCP9Kj\"\n",
    "access_token = \"54188780-kRmlqKRHleSb1WBBTfrj4CR57wLxJYuU5qH9piYlq\"\n",
    "access_secret = 'JXzf6VKWIFhVhAuIYWWQX04jCaHgfgjia77ARpK7v1Z3p'\n",
    "\n",
    "# Authenticate to Twitter\n",
    "auth = tweepy.OAuthHandler(api_key, api_secrets)\n",
    "auth.set_access_token(access_token, access_secret)\n",
    "\n",
    "api = tweepy.API(auth)\n",
    "\n",
    "try:\n",
    "    api.verify_credentials()\n",
    "    print('Successful Authentication')\n",
    "except:\n",
    "    print('Failed authentication')"
   ]
  },
  {
   "cell_type": "code",
   "execution_count": 326,
   "metadata": {},
   "outputs": [],
   "source": [
    "search_words = \"#wildfires\"\n",
    "date_since = \"2022-11-16\""
   ]
  },
  {
   "cell_type": "code",
   "execution_count": 329,
   "metadata": {},
   "outputs": [
    {
     "ename": "AttributeError",
     "evalue": "'API' object has no attribute 'search'",
     "output_type": "error",
     "traceback": [
      "\u001b[1;31m---------------------------------------------------------------------------\u001b[0m",
      "\u001b[1;31mAttributeError\u001b[0m                            Traceback (most recent call last)",
      "\u001b[1;32m<ipython-input-329-c7b9d4668acd>\u001b[0m in \u001b[0;36m<module>\u001b[1;34m\u001b[0m\n\u001b[1;32m----> 1\u001b[1;33m tweets = tw.Cursor(api.search,\n\u001b[0m\u001b[0;32m      2\u001b[0m               \u001b[0mq\u001b[0m\u001b[1;33m=\u001b[0m\u001b[0msearch_words\u001b[0m\u001b[1;33m,\u001b[0m\u001b[1;33m\u001b[0m\u001b[1;33m\u001b[0m\u001b[0m\n\u001b[0;32m      3\u001b[0m               \u001b[0mlang\u001b[0m\u001b[1;33m=\u001b[0m\u001b[1;34m\"en\"\u001b[0m\u001b[1;33m,\u001b[0m\u001b[1;33m\u001b[0m\u001b[1;33m\u001b[0m\u001b[0m\n\u001b[0;32m      4\u001b[0m               since=date_since).items(5)\n\u001b[0;32m      5\u001b[0m \u001b[0mtweets\u001b[0m\u001b[1;33m\u001b[0m\u001b[1;33m\u001b[0m\u001b[0m\n",
      "\u001b[1;31mAttributeError\u001b[0m: 'API' object has no attribute 'search'"
     ]
    }
   ],
   "source": [
    "tweets = tw.Cursor(api.search,\n",
    "              q=search_words,\n",
    "              lang=\"en\",\n",
    "              since=date_since).items(5)\n",
    "tweets"
   ]
  },
  {
   "cell_type": "code",
   "execution_count": null,
   "metadata": {},
   "outputs": [],
   "source": []
  }
 ],
 "metadata": {
  "kernelspec": {
   "display_name": "Python (learn-env)",
   "language": "python",
   "name": "learn-env"
  },
  "language_info": {
   "codemirror_mode": {
    "name": "ipython",
    "version": 3
   },
   "file_extension": ".py",
   "mimetype": "text/x-python",
   "name": "python",
   "nbconvert_exporter": "python",
   "pygments_lexer": "ipython3",
   "version": "3.8.5"
  }
 },
 "nbformat": 4,
 "nbformat_minor": 4
}
