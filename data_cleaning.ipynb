{
 "cells": [
  {
   "cell_type": "markdown",
   "metadata": {},
   "source": [
    "### Sentiment analysis of US Airlines tweets"
   ]
  },
  {
   "cell_type": "markdown",
   "metadata": {},
   "source": [
    "Interpreting and classifying opinions and emotions in subjective data is referred to as sentiment analysis. Sentiment analysis of customer experience is applied in various industries, such as finance, business, politics, and risk assessment. There are  various machine learning, artificial intelligence, and deep learning techniques. In this project machine leargning models are created and configured for optimal predictive analysis of customers' tweets.\n"
   ]
  },
  {
   "cell_type": "markdown",
   "metadata": {},
   "source": [
    "### Business understanding"
   ]
  },
  {
   "cell_type": "markdown",
   "metadata": {},
   "source": [
    "Social media can be used to gather insight in customer' satisfaction and it's fluctuation in different locations or periods of time. Collected data can be used to analyze the fedback and imporove servives and products.\n",
    "\n",
    "Tweeter is a powerful source of information. Once extracted and processed data from tweeter can offer valuable insight for businesses regarding their performance. \n",
    "\n",
    "Customer’s experience is an important issue for the air-travel industry in particular. Twitter is a popular platform for travellers to share their feedback. Airline companies invest time and resources to enhance customer loyalty. By exploring customer feedback, specifically negative feedback, airlines can allocate resources to the weak areas of customer satisfaction, increasing economic and social development of the company. \n",
    "\n",
    "Without the use of machine learning and artificial intelligence, orthodox businesses spend hours of human effort completing manual annotations of tweets to group them into positive/negative sentiments, thus increasing the Time to insights. Moreover, errors that occur from humans can affect the manual text tagging accuracy, such errors can result from fatigue or overconfidence. However, computer aided Text Analysis (NLP) can reduce this time to a few minutes.\n"
   ]
  },
  {
   "cell_type": "markdown",
   "metadata": {},
   "source": [
    "The goal of this project is to classify twitter data using machine learning and natural language processing (NLP)\n",
    "The tweets are categorized into neutral, positive, negative sentiments. With use of maching learning algorithms like XXXXXX\n",
    "we will predict the correct clasification of tweets directed at different airlines, and then test the model on live tweets."
   ]
  },
  {
   "cell_type": "markdown",
   "metadata": {},
   "source": [
    "### Data"
   ]
  },
  {
   "cell_type": "markdown",
   "metadata": {},
   "source": [
    "Dataset: The dataset is borrowed from Kaggle @ https://www.kaggle.com/crowdflower/twitter-airline-sentiment . The datafile is available in this repo in folder Data"
   ]
  },
  {
   "cell_type": "markdown",
   "metadata": {},
   "source": [
    "### Task\n",
    "The goal of this project is to provide airlines with tools to correctly identify tweets expressing negative sentiment in order to further analyze the cause of such tweets and use the data to improve their performance."
   ]
  },
  {
   "cell_type": "markdown",
   "metadata": {},
   "source": [
    "### Necessary import statements"
   ]
  },
  {
   "cell_type": "code",
   "execution_count": 86,
   "metadata": {},
   "outputs": [],
   "source": [
    "import pandas as pd\n",
    "import numpy as np\n",
    "import re\n",
    "\n",
    "from sklearn import svm\n",
    "from sklearn.feature_extraction.text import TfidfTransformer\n",
    "from sklearn.feature_extraction.text import TfidfVectorizer\n",
    "from sklearn.metrics import accuracy_score\n",
    "from sklearn.metrics import confusion_matrix\n",
    "from sklearn.neighbors import KNeighborsClassifier\n",
    "from sklearn.model_selection import train_test_split, cross_val_score\n",
    "from sklearn.model_selection import GridSearchCV\n",
    "from sklearn.dummy import DummyClassifier\n",
    "from sklearn.linear_model import LogisticRegression\n",
    "from sklearn.naive_bayes import MultinomialNB\n",
    "from sklearn.metrics import plot_confusion_matrix\n",
    "from sklearn.metrics import recall_score, precision_score\n",
    "\n",
    "from nltk import pos_tag\n",
    "from nltk.stem import WordNetLemmatizer\n",
    "from nltk.corpus import stopwords, wordnet\n",
    "from nltk.tokenize import word_tokenize\n",
    "from nltk.probability import FreqDist\n",
    "import seaborn as sns\n",
    "import matplotlib.pyplot as plt\n"
   ]
  },
  {
   "cell_type": "markdown",
   "metadata": {},
   "source": [
    "Emojis have become meaningful and important in communicating information. We are going to use the Python Emoji module in this project in order to conver emojis into words to be able to further preprocess them.\n",
    "\n",
    "The main purpose of this package is converting unicode emoji to emoji names and vice versa with emojize() and demojize().\n",
    "\n",
    "Further information can be found here https://carpedm20.github.io/emoji/docs/"
   ]
  },
  {
   "cell_type": "code",
   "execution_count": 2,
   "metadata": {
    "scrolled": true
   },
   "outputs": [],
   "source": [
    "# pip install emoji \n",
    "import emoji"
   ]
  },
  {
   "cell_type": "markdown",
   "metadata": {},
   "source": [
    "### EDA"
   ]
  },
  {
   "cell_type": "markdown",
   "metadata": {},
   "source": [
    "Exploratory data analysis is importan for deeper understanding of data and its' features and structure"
   ]
  },
  {
   "cell_type": "code",
   "execution_count": 3,
   "metadata": {},
   "outputs": [],
   "source": [
    "tweets = pd.read_csv('Data/Tweets.csv')"
   ]
  },
  {
   "cell_type": "markdown",
   "metadata": {},
   "source": [
    "Looking into NA values in the dataset"
   ]
  },
  {
   "cell_type": "code",
   "execution_count": 4,
   "metadata": {
    "scrolled": true
   },
   "outputs": [
    {
     "data": {
      "text/plain": [
       "tweet_id                            0\n",
       "airline_sentiment                   0\n",
       "airline_sentiment_confidence        0\n",
       "negativereason                   5462\n",
       "negativereason_confidence        4118\n",
       "airline                             0\n",
       "airline_sentiment_gold          14600\n",
       "name                                0\n",
       "negativereason_gold             14608\n",
       "retweet_count                       0\n",
       "text                                0\n",
       "tweet_coord                     13621\n",
       "tweet_created                       0\n",
       "tweet_location                   4733\n",
       "user_timezone                    4820\n",
       "dtype: int64"
      ]
     },
     "execution_count": 4,
     "metadata": {},
     "output_type": "execute_result"
    }
   ],
   "source": [
    "#Some column are missing a large percentage of values\n",
    "tweets.isna().sum()"
   ]
  },
  {
   "cell_type": "markdown",
   "metadata": {},
   "source": [
    "Majority of tweets are negative"
   ]
  },
  {
   "cell_type": "code",
   "execution_count": 5,
   "metadata": {},
   "outputs": [
    {
     "data": {
      "text/plain": [
       "negative    9178\n",
       "neutral     3099\n",
       "positive    2363\n",
       "Name: airline_sentiment, dtype: int64"
      ]
     },
     "execution_count": 5,
     "metadata": {},
     "output_type": "execute_result"
    }
   ],
   "source": [
    "tweets.airline_sentiment.value_counts()"
   ]
  },
  {
   "cell_type": "code",
   "execution_count": 6,
   "metadata": {
    "scrolled": false
   },
   "outputs": [
    {
     "data": {
      "image/png": "[encoded data removed]",
      "text/plain": [
       "<Figure size 432x288 with 1 Axes>"
      ]
     },
     "metadata": {
      "needs_background": "light"
     },
     "output_type": "display_data"
    }
   ],
   "source": [
    "sentiments = (tweets.groupby(['airline', 'airline_sentiment']).airline_sentiment.count().unstack())\n",
    "sentiments.plot(kind='bar');"
   ]
  },
  {
   "cell_type": "markdown",
   "metadata": {},
   "source": [
    "Leading reasons for negative feedback is Customer Service Issue and Late Flights"
   ]
  },
  {
   "cell_type": "code",
   "execution_count": 7,
   "metadata": {},
   "outputs": [
    {
     "data": {
      "text/plain": [
       "Customer Service Issue         2910\n",
       "Late Flight                    1665\n",
       "Can't Tell                     1190\n",
       "Cancelled Flight                847\n",
       "Lost Luggage                    724\n",
       "Bad Flight                      580\n",
       "Flight Booking Problems         529\n",
       "Flight Attendant Complaints     481\n",
       "longlines                       178\n",
       "Damaged Luggage                  74\n",
       "Name: negativereason, dtype: int64"
      ]
     },
     "execution_count": 7,
     "metadata": {},
     "output_type": "execute_result"
    }
   ],
   "source": [
    "tweets['negativereason'].value_counts()"
   ]
  },
  {
   "cell_type": "code",
   "execution_count": 8,
   "metadata": {
    "scrolled": false
   },
   "outputs": [
    {
     "data": {
      "image/png": "[encoded data removed]",
      "text/plain": [
       "<Figure size 1080x360 with 1 Axes>"
      ]
     },
     "metadata": {
      "needs_background": "light"
     },
     "output_type": "display_data"
    }
   ],
   "source": [
    "#main reason for negative tweets is customer services or Late or cancelled flight\n",
    "tweets.negativereason.value_counts().plot(kind='bar', figsize=(15,5));"
   ]
  },
  {
   "cell_type": "markdown",
   "metadata": {},
   "source": [
    "For this project we will only use the names of the airlines and text of the tweet as our features"
   ]
  },
  {
   "cell_type": "markdown",
   "metadata": {},
   "source": [
    "### Data cleaning and preprocessing\n",
    "In order to perform sentiment analysis we will need to focus on meaningful features like tweet text and Airline names.\n",
    "We will focus on sentiments with 100% confidence score. Further testing showed higher final model performance when trained on tweets with high confidence score. We will remove unneeded columns and use preprocessing function to remove URLs, punctuation, replace numbers, and lemmatize our text."
   ]
  },
  {
   "cell_type": "code",
   "execution_count": 9,
   "metadata": {},
   "outputs": [
    {
     "data": {
      "text/plain": [
       "['airline_sentiment', 'airline_sentiment_confidence', 'airline', 'text']"
      ]
     },
     "execution_count": 9,
     "metadata": {},
     "output_type": "execute_result"
    }
   ],
   "source": [
    "#Dropping unnecessary columns\n",
    "tweets.drop('negativereason_gold', axis=1, inplace=True)\n",
    "tweets.drop('airline_sentiment_gold', axis=1, inplace=True)\n",
    "tweets.drop('retweet_count', axis=1, inplace=True)\n",
    "tweets.drop('tweet_created', axis=1, inplace=True)\n",
    "tweets.drop('user_timezone', axis=1, inplace=True)\n",
    "tweets.drop('name', axis=1, inplace=True)\n",
    "tweets.drop('tweet_id', axis=1, inplace=True)\n",
    "tweets.drop('negativereason', axis=1, inplace=True)\n",
    "tweets.drop('tweet_coord', axis=1, inplace=True)\n",
    "tweets.drop('tweet_location', axis=1, inplace=True)\n",
    "tweets.drop('negativereason_confidence', axis=1, inplace=True)\n",
    "\n",
    "#current list of columns\n",
    "list(tweets.columns)"
   ]
  },
  {
   "cell_type": "code",
   "execution_count": 10,
   "metadata": {
    "scrolled": false
   },
   "outputs": [
    {
     "data": {
      "text/plain": [
       "1.0000    10445\n",
       "0.6667       71\n",
       "0.6632       35\n",
       "0.6559       30\n",
       "0.6596       30\n",
       "          ...  \n",
       "0.3913        1\n",
       "0.7273        1\n",
       "0.6353        1\n",
       "0.6260        1\n",
       "0.3544        1\n",
       "Name: airline_sentiment_confidence, Length: 1023, dtype: int64"
      ]
     },
     "execution_count": 10,
     "metadata": {},
     "output_type": "execute_result"
    }
   ],
   "source": [
    "tweets['airline_sentiment_confidence'].value_counts()"
   ]
  },
  {
   "cell_type": "markdown",
   "metadata": {},
   "source": [
    "Decision is made to focus on sentiments with 100%. \n",
    "Further exploratory analysis showed improved performance using tweets with 100% confidence in comparizon to 70% or 80%"
   ]
  },
  {
   "cell_type": "code",
   "execution_count": 11,
   "metadata": {
    "scrolled": true
   },
   "outputs": [],
   "source": [
    "tweets = tweets[tweets['airline_sentiment_confidence'] == 1]"
   ]
  },
  {
   "cell_type": "code",
   "execution_count": 12,
   "metadata": {
    "scrolled": false
   },
   "outputs": [
    {
     "name": "stdout",
     "output_type": "stream",
     "text": [
      "<class 'pandas.core.frame.DataFrame'>\n",
      "Int64Index: 10445 entries, 0 to 14638\n",
      "Data columns (total 4 columns):\n",
      " #   Column                        Non-Null Count  Dtype  \n",
      "---  ------                        --------------  -----  \n",
      " 0   airline_sentiment             10445 non-null  object \n",
      " 1   airline_sentiment_confidence  10445 non-null  float64\n",
      " 2   airline                       10445 non-null  object \n",
      " 3   text                          10445 non-null  object \n",
      "dtypes: float64(1), object(3)\n",
      "memory usage: 408.0+ KB\n"
     ]
    }
   ],
   "source": [
    "tweets.info()"
   ]
  },
  {
   "cell_type": "code",
   "execution_count": 13,
   "metadata": {},
   "outputs": [],
   "source": [
    "##Translate nltk POS to wordnet tags for lemmatizer\n",
    "def get_wordnet_pos(treebank_tag):\n",
    "    '''\n",
    "    Translate nltk POS to wordnet tags\n",
    "    '''\n",
    "    if treebank_tag.startswith('J'):\n",
    "        return wordnet.ADJ\n",
    "    elif treebank_tag.startswith('V'):\n",
    "        return wordnet.VERB\n",
    "    elif treebank_tag.startswith('N'):\n",
    "        return wordnet.NOUN\n",
    "    elif treebank_tag.startswith('R'):\n",
    "        return wordnet.ADV\n",
    "    else:\n",
    "        return wordnet.NOUN"
   ]
  },
  {
   "cell_type": "markdown",
   "metadata": {},
   "source": [
    "Preprocessing function. \n",
    "\n",
    "Decision is made to use WordNetLemmatizer rather than Stemmer. Additional testing showed no significant difference in performance between stemmed and lematized corpus on final model training set cross validation.\n",
    "\n",
    "Decision is made to include stopwords in training set as additional testing on final model train set cross validation showed decreased performance when ommiting stopwords.\n",
    "\n",
    "Numbers are substituted with string 'number' as it is still meaningful in the context of final model performance as opposed to ommiting them."
   ]
  },
  {
   "cell_type": "code",
   "execution_count": 14,
   "metadata": {},
   "outputs": [],
   "source": [
    "lemmatizer = WordNetLemmatizer() #lemmatizing\n",
    "\n",
    "def process_text(text):\n",
    "    doc = text.lower()\n",
    "    doc = re.sub(r'@\\w+', '', doc) # Remove @s\n",
    "    doc = re.sub(r'#', '', doc) # Remove hashtags\n",
    "    doc = re.sub(r':', ' ', emoji.demojize(doc)) # Turn emojis into words\n",
    "    doc = re.sub(r'http\\S+', '',doc) # Remove URLs\n",
    "    doc = re.sub(r'\\$\\S+', 'dollar', doc) # Change dollar amounts to dollar\n",
    "    doc = re.sub(r'[^a-z0-9\\s]', '', doc) # Remove punctuation\n",
    "    doc = re.sub(r'[0-9]+', 'number', doc) # Change number values to 'number'\n",
    "    \n",
    "    doc = word_tokenize(doc)\n",
    "#     doc = [word for word in doc if word not in sw]\n",
    "   \n",
    "    \n",
    "    doc = pos_tag(doc)\n",
    "\n",
    "    doc = [(word[0], get_wordnet_pos(word[1])) for word in doc]\n",
    "\n",
    "    doc = [lemmatizer.lemmatize(word[0], word[1]) for word in doc] \n",
    "\n",
    "    return ' '.join(doc)"
   ]
  },
  {
   "cell_type": "code",
   "execution_count": 15,
   "metadata": {},
   "outputs": [],
   "source": [
    "# Creating column with preprocessed tweets\n",
    "tweets['processed_text'] = tweets['text'].map(process_text)"
   ]
  },
  {
   "cell_type": "code",
   "execution_count": 16,
   "metadata": {},
   "outputs": [
    {
     "data": {
      "text/plain": [
       "'@VirginAmerica What @dhepburn said.'"
      ]
     },
     "execution_count": 16,
     "metadata": {},
     "output_type": "execute_result"
    }
   ],
   "source": [
    "tweets['text'][0]"
   ]
  },
  {
   "cell_type": "code",
   "execution_count": 17,
   "metadata": {
    "scrolled": false
   },
   "outputs": [
    {
     "data": {
      "text/plain": [
       "'what say'"
      ]
     },
     "execution_count": 17,
     "metadata": {},
     "output_type": "execute_result"
    }
   ],
   "source": [
    "tweets['processed_text'][0]"
   ]
  },
  {
   "cell_type": "code",
   "execution_count": 18,
   "metadata": {},
   "outputs": [],
   "source": [
    "#encoding Airline names in order to include them in model training\n",
    "dummied_airlines = pd.get_dummies(tweets['airline'])"
   ]
  },
  {
   "cell_type": "code",
   "execution_count": 19,
   "metadata": {
    "scrolled": true
   },
   "outputs": [],
   "source": [
    "tweets = tweets.join(dummied_airlines)"
   ]
  },
  {
   "cell_type": "code",
   "execution_count": 20,
   "metadata": {
    "scrolled": true
   },
   "outputs": [
    {
     "data": {
      "text/plain": [
       "Index(['airline_sentiment', 'airline_sentiment_confidence', 'airline', 'text',\n",
       "       'processed_text', 'American', 'Delta', 'Southwest', 'US Airways',\n",
       "       'United', 'Virgin America'],\n",
       "      dtype='object')"
      ]
     },
     "execution_count": 20,
     "metadata": {},
     "output_type": "execute_result"
    }
   ],
   "source": [
    "tweets.columns"
   ]
  },
  {
   "cell_type": "markdown",
   "metadata": {},
   "source": [
    "## Vectorizing\n",
    "For vectorizing TfidfVectorizer is chosen because it not only focuses on the frequency of words present in the corpus but also provides the importance of the words. It is subsequently tested in the beginning phase of modeling with different hyperparameters to select the best one."
   ]
  },
  {
   "cell_type": "code",
   "execution_count": 60,
   "metadata": {},
   "outputs": [],
   "source": [
    "X = tweets.drop(columns=['airline_sentiment_confidence', 'airline',\n",
    "       'text', 'airline_sentiment'], axis =1)\n",
    "y = tweets['airline_sentiment']"
   ]
  },
  {
   "cell_type": "code",
   "execution_count": 61,
   "metadata": {},
   "outputs": [],
   "source": [
    "#running our train test split\n",
    "X_train, X_test, y_train, y_test = train_test_split(X,\n",
    "                                                    y,\n",
    "                                                    random_state=42,\n",
    "                                                    test_size=0.20)"
   ]
  },
  {
   "cell_type": "code",
   "execution_count": 23,
   "metadata": {},
   "outputs": [],
   "source": [
    "#Tested with different hyper parameters with Logistic Regression model below\n",
    "vectorizer = TfidfVectorizer(input='content')"
   ]
  },
  {
   "cell_type": "code",
   "execution_count": 24,
   "metadata": {},
   "outputs": [],
   "source": [
    "#Vectorizing train dataset\n",
    "sparse_out = vectorizer.fit_transform(X_train['processed_text'])\n",
    "tfidf_df_train = pd.DataFrame(data = sparse_out.toarray(),\n",
    "                        columns = vectorizer.get_feature_names(), index = X_train.index)\n",
    "\n",
    "X_train_vec = X_train.drop(['processed_text'], axis=1,).join(tfidf_df_train)"
   ]
  },
  {
   "cell_type": "code",
   "execution_count": 25,
   "metadata": {},
   "outputs": [],
   "source": [
    "#Vectorizing test set\n",
    "sparse_out1 = vectorizer.transform(X_test['processed_text'])\n",
    "tfidf_df_test = pd.DataFrame(data = sparse_out1.toarray(),\n",
    "                        columns = vectorizer.get_feature_names(), index = X_test.index)\n",
    "\n",
    "X_test_vec = X_test.drop(['processed_text'], axis=1).join(tfidf_df_test)\n",
    "X_test_vec = X_test_vec.fillna(value=0)"
   ]
  },
  {
   "cell_type": "code",
   "execution_count": 26,
   "metadata": {
    "scrolled": true
   },
   "outputs": [
    {
     "name": "stdout",
     "output_type": "stream",
     "text": [
      "X_train shape (8356, 8748)\n",
      "X_test shape (2089, 8748)\n"
     ]
    }
   ],
   "source": [
    "#comparing shapes\n",
    "print(\"X_train shape\",X_train_vec.shape)\n",
    "print(\"X_test shape\",X_test_vec.shape)"
   ]
  },
  {
   "cell_type": "markdown",
   "metadata": {},
   "source": [
    "## Modeling\n",
    "\n",
    "For modeling we will use DummyClassifier() as our base model, Support Vector Classifier, Naive Bayes, and Logistic regression.\n",
    "We will then tune Vectorizer hyperparameters and run gridsearch on our strongest model to further optimize its' performance."
   ]
  },
  {
   "cell_type": "markdown",
   "metadata": {},
   "source": [
    "### Dummy classifier"
   ]
  },
  {
   "cell_type": "code",
   "execution_count": 27,
   "metadata": {},
   "outputs": [
    {
     "name": "stdout",
     "output_type": "stream",
     "text": [
      "Base Model cross validation accuracy 0.54\n"
     ]
    }
   ],
   "source": [
    "##checking our dummy/base model score\n",
    "dc = DummyClassifier(strategy='stratified')\n",
    "dc.fit(X_train_vec, y_train)\n",
    "\n",
    "print('Base Model cross validation accuracy', cross_val_score(dc, X_train_vec, y_train).mean().round(2))"
   ]
  },
  {
   "cell_type": "markdown",
   "metadata": {},
   "source": [
    "### Support Vector Classifier"
   ]
  },
  {
   "cell_type": "code",
   "execution_count": 147,
   "metadata": {
    "scrolled": false
   },
   "outputs": [
    {
     "name": "stderr",
     "output_type": "stream",
     "text": [
      "[Parallel(n_jobs=-4)]: Using backend LokyBackend with 5 concurrent workers.\n",
      "[Parallel(n_jobs=-4)]: Done   2 out of   5 | elapsed: 10.2min remaining: 15.3min\n",
      "[Parallel(n_jobs=-4)]: Done   5 out of   5 | elapsed: 10.3min finished\n"
     ]
    },
    {
     "name": "stdout",
     "output_type": "stream",
     "text": [
      "Base Model accuracy score 0.84\n"
     ]
    }
   ],
   "source": [
    "##checking our Support Vector Classifier model score\n",
    "svc = svm.SVC() #Grid search ()\n",
    "svc.fit(X_train_vec, y_train)"
   ]
  },
  {
   "cell_type": "code",
   "execution_count": 148,
   "metadata": {},
   "outputs": [],
   "source": [
    "svc_pred_train= svc.predict(X_train_vec)"
   ]
  },
  {
   "cell_type": "code",
   "execution_count": 49,
   "metadata": {},
   "outputs": [
    {
     "data": {
      "text/plain": [
       "0.9500418310027489"
      ]
     },
     "execution_count": 49,
     "metadata": {},
     "output_type": "execute_result"
    }
   ],
   "source": [
    "print('SVC Model cross validation accuracy', cross_val_score(svc, X_train_vec, y_train, n_jobs=-4).mean().round(2))\n",
    "print('SVC Model accuracy score on train set', accuracy_score(y_train, svc_pred_train).round(2))"
   ]
  },
  {
   "cell_type": "markdown",
   "metadata": {},
   "source": [
    "### Logistic Regression|"
   ]
  },
  {
   "cell_type": "code",
   "execution_count": 28,
   "metadata": {
    "scrolled": false
   },
   "outputs": [
    {
     "data": {
      "text/plain": [
       "LogisticRegression(max_iter=150)"
      ]
     },
     "execution_count": 28,
     "metadata": {},
     "output_type": "execute_result"
    }
   ],
   "source": [
    "lr = LogisticRegression(max_iter=150) #max iterations-change; l2 or l1 - Grid search (l1, l2, C=[.1, 1, 10])  # Suppose .1 is best, then for Round #2 C=[.03, .1, .3\n",
    "lr.fit(X_train_vec, y_train)"
   ]
  },
  {
   "cell_type": "code",
   "execution_count": 29,
   "metadata": {},
   "outputs": [
    {
     "name": "stdout",
     "output_type": "stream",
     "text": [
      "Logistic Regression cross validation accuracy 0.868\n",
      "Logistic Regression accuracy score on train set 0.927\n"
     ]
    }
   ],
   "source": [
    "lr_pred_train= lr.predict(X_train_vec)\n",
    "print('Logistic Regression cross validation accuracy', cross_val_score(lr, X_train_vec, y_train, n_jobs=-4).mean().round(3))\n",
    "print('Logistic Regression accuracy score on train set', accuracy_score(y_train, lr_pred_train).round(3))"
   ]
  },
  {
   "cell_type": "markdown",
   "metadata": {},
   "source": [
    "### Naive Bayes"
   ]
  },
  {
   "cell_type": "code",
   "execution_count": 159,
   "metadata": {
    "scrolled": false
   },
   "outputs": [
    {
     "data": {
      "text/plain": [
       "MultinomialNB()"
      ]
     },
     "execution_count": 159,
     "metadata": {},
     "output_type": "execute_result"
    }
   ],
   "source": [
    "nb = MultinomialNB()\n",
    "nb.fit(X_train_vec, y_train)"
   ]
  },
  {
   "cell_type": "code",
   "execution_count": 162,
   "metadata": {},
   "outputs": [
    {
     "name": "stdout",
     "output_type": "stream",
     "text": [
      "Naive Bayes cross validation accuracy 0.743\n",
      "Naive Bayes accuracy score on train set 0.774\n"
     ]
    }
   ],
   "source": [
    "nb_pred_train = nb.predict(X_train_vec)\n",
    "print('Naive Bayes cross validation accuracy', cross_val_score(nb, X_train_vec, y_train, n_jobs=-4).mean().round(3))\n",
    "print('Naive Bayes accuracy score on train set', accuracy_score(y_train, nb_pred_train).round(3))"
   ]
  },
  {
   "cell_type": "markdown",
   "metadata": {},
   "source": [
    "### Vectorizing parameters change\n",
    "Testing the performance of tuned TfidfVectorizer with Logistic Regression model to find optimal hyperparameters for our vectorizer."
   ]
  },
  {
   "cell_type": "markdown",
   "metadata": {},
   "source": [
    "TfidfVectorizer with max_df=2000 and min_df=10 to combat overfitting is a less overfit and more accurate Vectorizer. Accuracy on cross validation is 0.876 compared to 0.868 seen previosly. We will use it with our final model."
   ]
  },
  {
   "cell_type": "code",
   "execution_count": 62,
   "metadata": {},
   "outputs": [],
   "source": [
    "final_vectorizer = TfidfVectorizer(input='content', max_df=2000, min_df=10)\n",
    "sparse_out = final_vectorizer.fit_transform(X_train['processed_text'])\n",
    "tfidf_df_train = pd.DataFrame(data = sparse_out.toarray(),\n",
    "                        columns = final_vectorizer.get_feature_names(), index = X_train.index)\n",
    "\n",
    "X_train_vec = X_train.drop(['processed_text'], axis=1,).join(tfidf_df_train)"
   ]
  },
  {
   "cell_type": "code",
   "execution_count": 63,
   "metadata": {},
   "outputs": [],
   "source": [
    "sparse_out1 = final_vectorizer.transform(X_test['processed_text'])\n",
    "tfidf_df_test = pd.DataFrame(data = sparse_out1.toarray(),\n",
    "                        columns = final_vectorizer.get_feature_names(), index = X_test.index)\n",
    "\n",
    "X_test_vec = X_test.drop(['processed_text'], axis=1).join(tfidf_df_test)\n",
    "X_test_vec = X_test_vec.fillna(value=0)"
   ]
  },
  {
   "cell_type": "code",
   "execution_count": 64,
   "metadata": {
    "scrolled": true
   },
   "outputs": [
    {
     "name": "stdout",
     "output_type": "stream",
     "text": [
      "Logistic Regression cross validation with tuned Vectorizer 0.876\n",
      "Accuracy score on train set 0.909\n"
     ]
    }
   ],
   "source": [
    "lr2 = LogisticRegression(max_iter=150) \n",
    "lr2.fit(X_train_vec, y_train)\n",
    "print('Logistic Regression cross validation with tuned Vectorizer', cross_val_score(lr2, X_train_vec, y_train, n_jobs=-4).mean().round(3))\n",
    "lr2_pred_train= lr2.predict(X_train_vec)\n",
    "print('Accuracy score on train set', accuracy_score(y_train, lr2_pred_train).round(3))"
   ]
  },
  {
   "cell_type": "markdown",
   "metadata": {},
   "source": [
    "Tuning ngram_range to include bigrams and trigrams doesn't show improved performance compared to previos vectorizer, and is more overfit."
   ]
  },
  {
   "cell_type": "code",
   "execution_count": 33,
   "metadata": {},
   "outputs": [],
   "source": [
    "vectorizer = TfidfVectorizer(input='content', max_df=2000, min_df=10, ngram_range=(1, 3))\n",
    "sparse_out = vectorizer.fit_transform(X_train['processed_text'])\n",
    "tfidf_df_train3 = pd.DataFrame(data = sparse_out.toarray(),\n",
    "                        columns = vectorizer.get_feature_names(), index = X_train.index)\n",
    "\n",
    "X_train_vec3 = X_train.drop(['processed_text'], axis=1,).join(tfidf_df_train3)"
   ]
  },
  {
   "cell_type": "code",
   "execution_count": 34,
   "metadata": {},
   "outputs": [
    {
     "name": "stdout",
     "output_type": "stream",
     "text": [
      "Logistic Regression cross validation with Vectorizer with tuned ngram range 0.876\n",
      "Accuracy score on train set 0.921\n"
     ]
    }
   ],
   "source": [
    "lr3 = LogisticRegression(max_iter=150) #max iterations-change; l2 or l1 - Grid search (l1, l2, C=[.1, 1, 10])  # Suppose .1 is best, then for Round #2 C=[.03, .1, .3\n",
    "lr3.fit(X_train_vec3, y_train)\n",
    "print('Logistic Regression cross validation with Vectorizer with tuned ngram range', cross_val_score(lr3, X_train_vec, y_train, n_jobs=-4).mean().round(3))\n",
    "lr3_pred_train= lr3.predict(X_train_vec3)\n",
    "print('Accuracy score on train set', accuracy_score(y_train, lr3_pred_train).round(3))"
   ]
  },
  {
   "cell_type": "markdown",
   "metadata": {},
   "source": [
    "### Logistic regression gridsearch\n",
    "After initial modeling we chose Logistic regression model for this project for its' strong performance.\n",
    "We will use GridSearch to find the best parameters for this model with our tuned Vectorizer."
   ]
  },
  {
   "cell_type": "code",
   "execution_count": 193,
   "metadata": {},
   "outputs": [
    {
     "data": {
      "text/plain": [
       "GridSearchCV(cv=5, estimator=LogisticRegression(max_iter=150), n_jobs=-4,\n",
       "             param_grid={'C': [0.1, 1, 10],\n",
       "                         'penalty': ['l1', 'l2', 'elasticnet'],\n",
       "                         'solver': ['newton-cg', 'lbfgs', 'liblinear', 'sag',\n",
       "                                    'saga']})"
      ]
     },
     "execution_count": 193,
     "metadata": {},
     "output_type": "execute_result"
    }
   ],
   "source": [
    "#l2 or l1 \n",
    "#C=[.1, 1, 10])  \n",
    "#round 2 will zoom in around best C parameter on a more granular level\n",
    "\n",
    "parameters = {'penalty':['l1', 'l2', 'elasticnet'], 'C': [.1, 1, 10], 'solver': ['newton-cg', 'lbfgs', 'liblinear', 'sag', 'saga']}\n",
    "\n",
    "lrgrid1 = GridSearchCV(estimator=lr2, param_grid=parameters, cv=5, n_jobs=-4)\n",
    "lrgrid1.fit(X_train_vec, y_train)"
   ]
  },
  {
   "cell_type": "code",
   "execution_count": 196,
   "metadata": {},
   "outputs": [
    {
     "data": {
      "text/plain": [
       "{'C': 10, 'penalty': 'l2', 'solver': 'liblinear'}"
      ]
     },
     "execution_count": 196,
     "metadata": {},
     "output_type": "execute_result"
    }
   ],
   "source": [
    "lrgrid1.best_params_"
   ]
  },
  {
   "cell_type": "code",
   "execution_count": 197,
   "metadata": {
    "scrolled": true
   },
   "outputs": [
    {
     "name": "stdout",
     "output_type": "stream",
     "text": [
      "Grid search #1 train set accuracy is 0.935\n",
      "Grid search #1 cross validation accuracy is 0.879\n"
     ]
    }
   ],
   "source": [
    "lrgrid1_pred_train= lrgrid1.best_estimator_.predict(X_train_vec)\n",
    "print('Grid search #1 train set accuracy is', accuracy_score(y_train, lrgrid1_pred_train).round(3))\n",
    "print('Grid search #1 accuracy is', lrgrid1.best_score_.round(3))"
   ]
  },
  {
   "cell_type": "code",
   "execution_count": 198,
   "metadata": {},
   "outputs": [
    {
     "data": {
      "text/plain": [
       "GridSearchCV(cv=5, estimator=LogisticRegression(max_iter=150), n_jobs=-4,\n",
       "             param_grid={'C': [5, 10, 15],\n",
       "                         'penalty': ['l1', 'l2', 'elasticnet'],\n",
       "                         'solver': ['newton-cg', 'lbfgs', 'liblinear', 'sag',\n",
       "                                    'saga']})"
      ]
     },
     "execution_count": 198,
     "metadata": {},
     "output_type": "execute_result"
    }
   ],
   "source": [
    "#Zoom in around best C parameter on a more granular level\n",
    "parameters = {'penalty':['l1', 'l2', 'elasticnet'], 'C': [5, 10, 15], 'solver': ['newton-cg', 'lbfgs', 'liblinear', 'sag', 'saga']}\n",
    "\n",
    "lrgrid2 = GridSearchCV(estimator=lr2, param_grid=parameters, cv=5, n_jobs=-4)\n",
    "lrgrid2.fit(X_train_vec, y_train)"
   ]
  },
  {
   "cell_type": "code",
   "execution_count": 199,
   "metadata": {},
   "outputs": [
    {
     "data": {
      "text/plain": [
       "{'C': 5, 'penalty': 'l2', 'solver': 'liblinear'}"
      ]
     },
     "execution_count": 199,
     "metadata": {},
     "output_type": "execute_result"
    }
   ],
   "source": [
    "lrgrid2.best_params_"
   ]
  },
  {
   "cell_type": "code",
   "execution_count": 202,
   "metadata": {},
   "outputs": [
    {
     "name": "stdout",
     "output_type": "stream",
     "text": [
      "Grid search #2 train set accuracy is 0.926\n",
      "Grid search #2 accuracy is 0.88\n"
     ]
    }
   ],
   "source": [
    "lrgrid2_pred_train= lrgrid2.best_estimator_.predict(X_train_vec)\n",
    "print('Grid search #2 train set accuracy is', accuracy_score(y_train, lrgrid2_pred_train).round(3))\n",
    "print('Grid search #2 accuracy is', lrgrid2.best_score_.round(3))"
   ]
  },
  {
   "cell_type": "code",
   "execution_count": 65,
   "metadata": {},
   "outputs": [
    {
     "name": "stdout",
     "output_type": "stream",
     "text": [
      "Fitting 5 folds for each of 9 candidates, totalling 45 fits\n"
     ]
    },
    {
     "name": "stderr",
     "output_type": "stream",
     "text": [
      "[Parallel(n_jobs=-4)]: Using backend LokyBackend with 5 concurrent workers.\n",
      "[Parallel(n_jobs=-4)]: Done  22 tasks      | elapsed:    2.0s\n",
      "[Parallel(n_jobs=-4)]: Done  45 out of  45 | elapsed:    3.5s finished\n"
     ]
    },
    {
     "data": {
      "text/plain": [
       "GridSearchCV(cv=5, estimator=LogisticRegression(max_iter=150), n_jobs=-4,\n",
       "             param_grid={'C': [3, 3.5, 4, 4.5, 5, 5.5, 6, 6.5, 7],\n",
       "                         'penalty': ['l2'], 'solver': ['liblinear']},\n",
       "             verbose=3)"
      ]
     },
     "execution_count": 65,
     "metadata": {},
     "output_type": "execute_result"
    }
   ],
   "source": [
    "#Zoom in around best C parameter on even more granular level\n",
    "parameters = {'penalty':['l2'], 'C': [3, 3.5, 4, 4.5, 5, 5.5, 6, 6.5, 7], 'solver': ['liblinear']}\n",
    "\n",
    "lrgrid3 = GridSearchCV(estimator=lr2, param_grid=parameters, cv=5, n_jobs=-4, verbose=3)\n",
    "lrgrid3.fit(X_train_vec, y_train)"
   ]
  },
  {
   "cell_type": "code",
   "execution_count": 66,
   "metadata": {
    "scrolled": true
   },
   "outputs": [
    {
     "data": {
      "text/plain": [
       "{'C': 4, 'penalty': 'l2', 'solver': 'liblinear'}"
      ]
     },
     "execution_count": 66,
     "metadata": {},
     "output_type": "execute_result"
    }
   ],
   "source": [
    "lrgrid3.best_params_"
   ]
  },
  {
   "cell_type": "markdown",
   "metadata": {},
   "source": [
    "Our final model has accuracy of 0.88"
   ]
  },
  {
   "cell_type": "code",
   "execution_count": 67,
   "metadata": {},
   "outputs": [
    {
     "name": "stdout",
     "output_type": "stream",
     "text": [
      "Grid search #3 train set accuracy is 0.922\n",
      "Grid search #3 accuracy is 0.882\n"
     ]
    }
   ],
   "source": [
    "lrgrid3_pred_train= lrgrid3.best_estimator_.predict(X_train_vec)\n",
    "print('Grid search #3 train set accuracy is', accuracy_score(y_train, lrgrid3_pred_train).round(3))\n",
    "print('Grid search #3 accuracy is', lrgrid3.best_score_.round(3))"
   ]
  },
  {
   "cell_type": "markdown",
   "metadata": {},
   "source": [
    "### Scraping live tweets and analyzing them using our model"
   ]
  },
  {
   "cell_type": "markdown",
   "metadata": {
    "scrolled": false
   },
   "source": [
    "In order to scrape live tweets we will import package twitter \n",
    "(twitter - The minimalist yet fully featured Twitter API and Python toolset.)\n",
    "The Twitter API is documented at: https://dev.twitter.com/overview/documentation\n",
    "\n",
    "Developer account is needed in order to access live tweets."
   ]
  },
  {
   "cell_type": "code",
   "execution_count": null,
   "metadata": {},
   "outputs": [],
   "source": [
    "#If the requirement is not already satisfied we need to install this package:\n",
    "#pip install twitter"
   ]
  },
  {
   "cell_type": "code",
   "execution_count": 68,
   "metadata": {},
   "outputs": [],
   "source": [
    "#Saving keys in the dictionary, to access them later\n",
    "Twitter={}\n",
    "Twitter['Consumer Key'] = 'iAimqbAdWiBrUfXe0Xmuhlyps'\n",
    "Twitter['Consumer Secret'] = 'YWUyAsX8sA2VuJCwQv4x3MUhAGmm48VlV0ZTx2yWNWqlGCP9Kj'\n",
    "Twitter['Access Token'] = '54188780-kRmlqKRHleSb1WBBTfrj4CR57wLxJYuU5qH9piYlq'\n",
    "Twitter['Access Token Secret'] = 'JXzf6VKWIFhVhAuIYWWQX04jCaHgfgjia77ARpK7v1Z3p'"
   ]
  },
  {
   "cell_type": "code",
   "execution_count": 69,
   "metadata": {},
   "outputs": [
    {
     "name": "stdout",
     "output_type": "stream",
     "text": [
      "<twitter.api.Twitter object at 0x00000203EC44DE80>\n"
     ]
    }
   ],
   "source": [
    "#Authenticating and creating twitter api object\n",
    "import twitter\n",
    "\n",
    "auth = twitter.oauth.OAuth(Twitter['Access Token'],\n",
    "                           Twitter['Access Token Secret'],\n",
    "                           Twitter['Consumer Key'],\n",
    "                           Twitter['Consumer Secret'])\n",
    "\n",
    "twitter_api = twitter.Twitter(auth=auth)\n",
    "\n",
    "# twitter_api is now a defined variable\n",
    "\n",
    "print(twitter_api)"
   ]
  },
  {
   "cell_type": "code",
   "execution_count": 70,
   "metadata": {},
   "outputs": [],
   "source": [
    "#Creating dictionary of airline hashtags to use in our query\n",
    "airlines_list = tweets.columns[-6:].tolist()\n",
    "airlines_dict = {i: '#'+i.replace(' ', '') for i in airlines_list }"
   ]
  },
  {
   "cell_type": "code",
   "execution_count": 71,
   "metadata": {
    "scrolled": false
   },
   "outputs": [
    {
     "data": {
      "text/plain": [
       "{'American': '#American',\n",
       " 'Delta': '#Delta',\n",
       " 'Southwest': '#Southwest',\n",
       " 'US Airways': '#USAirways',\n",
       " 'United': '#United',\n",
       " 'Virgin America': '#VirginAmerica'}"
      ]
     },
     "execution_count": 71,
     "metadata": {},
     "output_type": "execute_result"
    }
   ],
   "source": [
    "# Some of these will not produce relevant search results\n",
    "airlines_dict"
   ]
  },
  {
   "cell_type": "code",
   "execution_count": 72,
   "metadata": {},
   "outputs": [],
   "source": [
    "#Changing hasgtags to produce better search results\n",
    "airlines_dict['American'] = '#AmericanAirlines'\n",
    "airlines_dict['United'] = '#UnitedAirlines'\n",
    "airlines_dict['Southwest'] = '#SouthwestAirlines'\n",
    "airlines_dict['Delta'] = '#DeltaAirlines'"
   ]
  },
  {
   "cell_type": "code",
   "execution_count": 73,
   "metadata": {
    "scrolled": false
   },
   "outputs": [],
   "source": [
    "# Defining a function that will scrape the live tweets using our twitter_api based on hashtag and \n",
    "# append search results to lists \n",
    "\n",
    "def get_tweets(hashtag, show_number=True):\n",
    "    list_of_tweets =[]\n",
    "    list_of_dirty_tweets =[]\n",
    "    times = []\n",
    "    \n",
    "    search_results = twitter_api.search.tweets(q=hashtag, count=100)\n",
    "    if show_number == True:\n",
    "        print(hashtag + ' tweets: ' + str(len(search_results['statuses'])) + \"\\n\")\n",
    "    \n",
    "    for num in range(len(search_results['statuses'])):\n",
    "        list_of_tweets.append(process_text(search_results['statuses'][num]['text']))\n",
    "        list_of_dirty_tweets.append(search_results['statuses'][num]['text'])\n",
    "        times.append(search_results['statuses'][num]['user']['created_at'])\n",
    "    return list_of_tweets, list_of_dirty_tweets, times"
   ]
  },
  {
   "cell_type": "code",
   "execution_count": 74,
   "metadata": {},
   "outputs": [
    {
     "name": "stdout",
     "output_type": "stream",
     "text": [
      "#AmericanAirlines tweets: 100\n",
      "\n",
      "#DeltaAirlines tweets: 100\n",
      "\n",
      "#SouthwestAirlines tweets: 100\n",
      "\n",
      "#USAirways tweets: 4\n",
      "\n",
      "#UnitedAirlines tweets: 100\n",
      "\n",
      "#VirginAmerica tweets: 0\n",
      "\n"
     ]
    }
   ],
   "source": [
    "#Creating a dictionary that will contain our search results by airline\n",
    "X_real_by_airline = {}\n",
    "for column_name, hashtag  in airlines_dict.items(): \n",
    "    \n",
    "    X_real_one_airline = pd.DataFrame(get_tweets(hashtag, True)[0], columns=['processed_text'])\n",
    "    X_real_one_airline['tweet'] = get_tweets(hashtag, False)[1]\n",
    "    X_real_one_airline['time_of_tweet'] = get_tweets(hashtag, False)[2]\n",
    "    for other_col_name in airlines_dict.keys():\n",
    "        if other_col_name == column_name:\n",
    "            X_real_one_airline[column_name] = 1\n",
    "        else:\n",
    "            X_real_one_airline[other_col_name] = 0\n",
    "            \n",
    "    X_real_by_airline[column_name] = X_real_one_airline\n"
   ]
  },
  {
   "cell_type": "markdown",
   "metadata": {},
   "source": [
    "Our limit per query is 100 results. It is understable that VirginAmerica doesn't get very many results because it was aquired by Alaskan Airlines. USAirways was aquired by American Airlines as well."
   ]
  },
  {
   "cell_type": "markdown",
   "metadata": {},
   "source": [
    "Vectorizing new data in order to run it through our model. We will use data about DeltaAirlines for this example of practical application."
   ]
  },
  {
   "cell_type": "code",
   "execution_count": 75,
   "metadata": {},
   "outputs": [],
   "source": [
    "sparse_out2 = final_vectorizer.transform(X_real_by_airline['Delta']['processed_text'])\n",
    "tfidf_df_real = pd.DataFrame(data = sparse_out2.toarray(),\n",
    "                        columns = final_vectorizer.get_feature_names(), index = X_real_by_airline['Delta'].index)\n",
    "\n",
    "X_real_vec = X_real_by_airline['Delta'].drop(columns= ['processed_text', 'tweet', 'time_of_tweet']).join(tfidf_df_real)"
   ]
  },
  {
   "cell_type": "code",
   "execution_count": 76,
   "metadata": {
    "scrolled": true
   },
   "outputs": [],
   "source": [
    "preds = lrgrid3.best_estimator_.predict(X_real_vec)"
   ]
  },
  {
   "cell_type": "code",
   "execution_count": 77,
   "metadata": {},
   "outputs": [],
   "source": [
    "results = pd.DataFrame(preds).join(X_real_by_airline['Delta'][['tweet']]).rename(columns={0:'sentiment'})"
   ]
  },
  {
   "cell_type": "code",
   "execution_count": 78,
   "metadata": {},
   "outputs": [],
   "source": [
    "pd.set_option('display.max_colwidth', None)"
   ]
  },
  {
   "cell_type": "code",
   "execution_count": 79,
   "metadata": {
    "scrolled": true
   },
   "outputs": [],
   "source": [
    "positive_sample = results[results['sentiment'] == 'positive']\n",
    "negative_sample = results[results['sentiment'] == 'negative']\n",
    "neutral_sample = results[results['sentiment'] == 'neutral']"
   ]
  },
  {
   "cell_type": "code",
   "execution_count": 80,
   "metadata": {},
   "outputs": [
    {
     "data": {
      "text/html": [
       "<div>\n",
       "<style scoped>\n",
       "    .dataframe tbody tr th:only-of-type {\n",
       "        vertical-align: middle;\n",
       "    }\n",
       "\n",
       "    .dataframe tbody tr th {\n",
       "        vertical-align: top;\n",
       "    }\n",
       "\n",
       "    .dataframe thead th {\n",
       "        text-align: right;\n",
       "    }\n",
       "</style>\n",
       "<table border=\"1\" class=\"dataframe\">\n",
       "  <thead>\n",
       "    <tr style=\"text-align: right;\">\n",
       "      <th></th>\n",
       "      <th>sentiment</th>\n",
       "      <th>tweet</th>\n",
       "    </tr>\n",
       "  </thead>\n",
       "  <tbody>\n",
       "    <tr>\n",
       "      <th>15</th>\n",
       "      <td>positive</td>\n",
       "      <td>RT @ScottJLamond: Kudos to @Delta tonight!\\nUpgraded everyone on the entire plane with just 15 souls on board on my flight back home to RDU…</td>\n",
       "    </tr>\n",
       "    <tr>\n",
       "      <th>31</th>\n",
       "      <td>positive</td>\n",
       "      <td>With All the World's Alarms, I Found Solace Amongst the Mountains (Mount Rainier National Park) #deltaairlines… https://t.co/qCW7U3vmyt</td>\n",
       "    </tr>\n",
       "    <tr>\n",
       "      <th>54</th>\n",
       "      <td>positive</td>\n",
       "      <td>Kudos to @Delta tonight!\\nUpgraded everyone on the entire plane with just 15 souls on board on my flight back home t… https://t.co/Lmu3LAMYru</td>\n",
       "    </tr>\n",
       "    <tr>\n",
       "      <th>60</th>\n",
       "      <td>positive</td>\n",
       "      <td>Shout out to Morrie on @Delta flight DL2790 into Tampa today. You made the last day of vacation so much better!… https://t.co/jziLmxkVEb</td>\n",
       "    </tr>\n",
       "    <tr>\n",
       "      <th>76</th>\n",
       "      <td>positive</td>\n",
       "      <td>#ita #italien #itaAirways #verkauf #bieterfrist #airline #airlineVerkauf #msc #lh #deltaAirlines #alitalia https://t.co/4J7ebHyOpS</td>\n",
       "    </tr>\n",
       "    <tr>\n",
       "      <th>82</th>\n",
       "      <td>positive</td>\n",
       "      <td>That must have been the best flight I've ever had on @delta Derek Bibby is probably the greatest pilot. He got us s… https://t.co/Kpgw6q3tKF</td>\n",
       "    </tr>\n",
       "  </tbody>\n",
       "</table>\n",
       "</div>"
      ],
      "text/plain": [
       "   sentiment  \\\n",
       "15  positive   \n",
       "31  positive   \n",
       "54  positive   \n",
       "60  positive   \n",
       "76  positive   \n",
       "82  positive   \n",
       "\n",
       "                                                                                                                                            tweet  \n",
       "15   RT @ScottJLamond: Kudos to @Delta tonight!\\nUpgraded everyone on the entire plane with just 15 souls on board on my flight back home to RDU…  \n",
       "31        With All the World's Alarms, I Found Solace Amongst the Mountains (Mount Rainier National Park) #deltaairlines… https://t.co/qCW7U3vmyt  \n",
       "54  Kudos to @Delta tonight!\\nUpgraded everyone on the entire plane with just 15 souls on board on my flight back home t… https://t.co/Lmu3LAMYru  \n",
       "60       Shout out to Morrie on @Delta flight DL2790 into Tampa today. You made the last day of vacation so much better!… https://t.co/jziLmxkVEb  \n",
       "76             #ita #italien #itaAirways #verkauf #bieterfrist #airline #airlineVerkauf #msc #lh #deltaAirlines #alitalia https://t.co/4J7ebHyOpS  \n",
       "82   That must have been the best flight I've ever had on @delta Derek Bibby is probably the greatest pilot. He got us s… https://t.co/Kpgw6q3tKF  "
      ]
     },
     "execution_count": 80,
     "metadata": {},
     "output_type": "execute_result"
    }
   ],
   "source": [
    "positive_sample"
   ]
  },
  {
   "cell_type": "code",
   "execution_count": 81,
   "metadata": {
    "scrolled": false
   },
   "outputs": [
    {
     "data": {
      "text/html": [
       "<div>\n",
       "<style scoped>\n",
       "    .dataframe tbody tr th:only-of-type {\n",
       "        vertical-align: middle;\n",
       "    }\n",
       "\n",
       "    .dataframe tbody tr th {\n",
       "        vertical-align: top;\n",
       "    }\n",
       "\n",
       "    .dataframe thead th {\n",
       "        text-align: right;\n",
       "    }\n",
       "</style>\n",
       "<table border=\"1\" class=\"dataframe\">\n",
       "  <thead>\n",
       "    <tr style=\"text-align: right;\">\n",
       "      <th></th>\n",
       "      <th>sentiment</th>\n",
       "      <th>tweet</th>\n",
       "    </tr>\n",
       "  </thead>\n",
       "  <tbody>\n",
       "    <tr>\n",
       "      <th>0</th>\n",
       "      <td>neutral</td>\n",
       "      <td>RT @diecastryan: A Delta A350 as seen from above. #delta #deltaairlines #airbus #airbuslovers #a350 #atlanta #aviatiob #airliner #travel ht…</td>\n",
       "    </tr>\n",
       "    <tr>\n",
       "      <th>3</th>\n",
       "      <td>neutral</td>\n",
       "      <td>RT @socialmiliac: #ItaAirways, la cordata Certares-Delta-Af presenta un'offerta aggiornata: 600 milioni per il 60% della compagnia, con il…</td>\n",
       "    </tr>\n",
       "    <tr>\n",
       "      <th>29</th>\n",
       "      <td>neutral</td>\n",
       "      <td>A Delta A350 as seen from above. #delta #deltaairlines #airbus #airbuslovers #a350 #atlanta #aviatiob #airliner… https://t.co/emN8Zcz7M9</td>\n",
       "    </tr>\n",
       "    <tr>\n",
       "      <th>30</th>\n",
       "      <td>neutral</td>\n",
       "      <td>47 years ago today, N786DL, an L-1011 took its maiden flight. Read more about it on our blog:… https://t.co/zsQcdYbf6x</td>\n",
       "    </tr>\n",
       "    <tr>\n",
       "      <th>33</th>\n",
       "      <td>neutral</td>\n",
       "      <td>veashit #aboutanything #deltaairlines #seriouslyitsastounding #grammerrules #beinglazy #noeducation #bonezone… https://t.co/lpVzRdoUfd</td>\n",
       "    </tr>\n",
       "    <tr>\n",
       "      <th>43</th>\n",
       "      <td>neutral</td>\n",
       "      <td>#ItaAirways, la cordata Certares-Delta-Af presenta un'offerta aggiornata: 600 milioni per il 60% della compagnia, c… https://t.co/YFLbHwBWOu</td>\n",
       "    </tr>\n",
       "    <tr>\n",
       "      <th>52</th>\n",
       "      <td>neutral</td>\n",
       "      <td>@THEVIVIENNEUK @Delta #deltaairlines https://t.co/cd61Ig8Kdl</td>\n",
       "    </tr>\n",
       "    <tr>\n",
       "      <th>61</th>\n",
       "      <td>neutral</td>\n",
       "      <td>✈️ @delta Airbus A319 N364NB in Tampa on it's takeoff roll outbound for New York's JFK. ✈️\\n\\n#planespotting #planes… https://t.co/Kh8ry46yJ0</td>\n",
       "    </tr>\n",
       "    <tr>\n",
       "      <th>62</th>\n",
       "      <td>neutral</td>\n",
       "      <td>A @Delta @Airbus A220-100 [#N118DU] landing on 35C at Dallas/Fort Worth International Airport (@DFWAirport) on Apri… https://t.co/SY0ePhP6hL</td>\n",
       "    </tr>\n",
       "    <tr>\n",
       "      <th>63</th>\n",
       "      <td>neutral</td>\n",
       "      <td>My #favoritedomesticairline is #DeltaAirlines and their #DeltaOneSuites #1stclass #layflat #privatesuite… https://t.co/LoCob6FYnx</td>\n",
       "    </tr>\n",
       "    <tr>\n",
       "      <th>68</th>\n",
       "      <td>neutral</td>\n",
       "      <td>正面から飛行機がきたから、カメラを構えて連写。そして…よく見たらベイパー引いてたから、更にテンションあがった‼️\\nカッコいい🥰\\n#deltaairlines #デルタ航空 #n823nw\\n羽田発 シアトル行き (2022/08/2… https://t.co/rBqo6RpHt0</td>\n",
       "    </tr>\n",
       "    <tr>\n",
       "      <th>75</th>\n",
       "      <td>neutral</td>\n",
       "      <td>Aircraft: Boeing 777-300\\n\\nRead the full article: 20 Longest U.S. Domestic (Including Guam) Flights By Distance… https://t.co/3oOraC8cH7</td>\n",
       "    </tr>\n",
       "    <tr>\n",
       "      <th>78</th>\n",
       "      <td>neutral</td>\n",
       "      <td>Let wel, ik heb een aantal keren geprobeerd of een scherm kwam voor die betaling van €36,88 tijdens online incheck… https://t.co/zjDVvrDgYL</td>\n",
       "    </tr>\n",
       "    <tr>\n",
       "      <th>92</th>\n",
       "      <td>neutral</td>\n",
       "      <td>Cardiologist Estimates 30 Percent of US Pilots May Have COVID Jab-Induced Heart Conditions\\n\\nhttps://t.co/TbEYed3hRh… https://t.co/vtQriB3g14</td>\n",
       "    </tr>\n",
       "    <tr>\n",
       "      <th>97</th>\n",
       "      <td>neutral</td>\n",
       "      <td>RT @AdelinGasana: .@Delta Studio presents @BoLegsFilm, an indie film on an Atlanta legend\\n#FlyDelta #ATL #Documentary #Atlanta #BoLegs #Del…</td>\n",
       "    </tr>\n",
       "    <tr>\n",
       "      <th>99</th>\n",
       "      <td>neutral</td>\n",
       "      <td>Where to?\\n#atlanta #cloudy #airtravel #airplane #deltaairlines #nikon #nikonusa #nikonphotography https://t.co/eVmQRENrFk</td>\n",
       "    </tr>\n",
       "  </tbody>\n",
       "</table>\n",
       "</div>"
      ],
      "text/plain": [
       "   sentiment  \\\n",
       "0    neutral   \n",
       "3    neutral   \n",
       "29   neutral   \n",
       "30   neutral   \n",
       "33   neutral   \n",
       "43   neutral   \n",
       "52   neutral   \n",
       "61   neutral   \n",
       "62   neutral   \n",
       "63   neutral   \n",
       "68   neutral   \n",
       "75   neutral   \n",
       "78   neutral   \n",
       "92   neutral   \n",
       "97   neutral   \n",
       "99   neutral   \n",
       "\n",
       "                                                                                                                                              tweet  \n",
       "0      RT @diecastryan: A Delta A350 as seen from above. #delta #deltaairlines #airbus #airbuslovers #a350 #atlanta #aviatiob #airliner #travel ht…  \n",
       "3       RT @socialmiliac: #ItaAirways, la cordata Certares-Delta-Af presenta un'offerta aggiornata: 600 milioni per il 60% della compagnia, con il…  \n",
       "29         A Delta A350 as seen from above. #delta #deltaairlines #airbus #airbuslovers #a350 #atlanta #aviatiob #airliner… https://t.co/emN8Zcz7M9  \n",
       "30                           47 years ago today, N786DL, an L-1011 took its maiden flight. Read more about it on our blog:… https://t.co/zsQcdYbf6x  \n",
       "33           veashit #aboutanything #deltaairlines #seriouslyitsastounding #grammerrules #beinglazy #noeducation #bonezone… https://t.co/lpVzRdoUfd  \n",
       "43     #ItaAirways, la cordata Certares-Delta-Af presenta un'offerta aggiornata: 600 milioni per il 60% della compagnia, c… https://t.co/YFLbHwBWOu  \n",
       "52                                                                                     @THEVIVIENNEUK @Delta #deltaairlines https://t.co/cd61Ig8Kdl  \n",
       "61    ✈️ @delta Airbus A319 N364NB in Tampa on it's takeoff roll outbound for New York's JFK. ✈️\\n\\n#planespotting #planes… https://t.co/Kh8ry46yJ0  \n",
       "62     A @Delta @Airbus A220-100 [#N118DU] landing on 35C at Dallas/Fort Worth International Airport (@DFWAirport) on Apri… https://t.co/SY0ePhP6hL  \n",
       "63                My #favoritedomesticairline is #DeltaAirlines and their #DeltaOneSuites #1stclass #layflat #privatesuite… https://t.co/LoCob6FYnx  \n",
       "68  正面から飛行機がきたから、カメラを構えて連写。そして…よく見たらベイパー引いてたから、更にテンションあがった‼️\\nカッコいい🥰\\n#deltaairlines #デルタ航空 #n823nw\\n羽田発 シアトル行き (2022/08/2… https://t.co/rBqo6RpHt0  \n",
       "75        Aircraft: Boeing 777-300\\n\\nRead the full article: 20 Longest U.S. Domestic (Including Guam) Flights By Distance… https://t.co/3oOraC8cH7  \n",
       "78      Let wel, ik heb een aantal keren geprobeerd of een scherm kwam voor die betaling van €36,88 tijdens online incheck… https://t.co/zjDVvrDgYL  \n",
       "92   Cardiologist Estimates 30 Percent of US Pilots May Have COVID Jab-Induced Heart Conditions\\n\\nhttps://t.co/TbEYed3hRh… https://t.co/vtQriB3g14  \n",
       "97    RT @AdelinGasana: .@Delta Studio presents @BoLegsFilm, an indie film on an Atlanta legend\\n#FlyDelta #ATL #Documentary #Atlanta #BoLegs #Del…  \n",
       "99                       Where to?\\n#atlanta #cloudy #airtravel #airplane #deltaairlines #nikon #nikonusa #nikonphotography https://t.co/eVmQRENrFk  "
      ]
     },
     "execution_count": 81,
     "metadata": {},
     "output_type": "execute_result"
    }
   ],
   "source": [
    "neutral_sample[neutral_sample.duplicated() != True]"
   ]
  },
  {
   "cell_type": "code",
   "execution_count": 82,
   "metadata": {},
   "outputs": [
    {
     "data": {
      "text/html": [
       "<div>\n",
       "<style scoped>\n",
       "    .dataframe tbody tr th:only-of-type {\n",
       "        vertical-align: middle;\n",
       "    }\n",
       "\n",
       "    .dataframe tbody tr th {\n",
       "        vertical-align: top;\n",
       "    }\n",
       "\n",
       "    .dataframe thead th {\n",
       "        text-align: right;\n",
       "    }\n",
       "</style>\n",
       "<table border=\"1\" class=\"dataframe\">\n",
       "  <thead>\n",
       "    <tr style=\"text-align: right;\">\n",
       "      <th></th>\n",
       "      <th>sentiment</th>\n",
       "      <th>tweet</th>\n",
       "    </tr>\n",
       "  </thead>\n",
       "  <tbody>\n",
       "    <tr>\n",
       "      <th>6</th>\n",
       "      <td>negative</td>\n",
       "      <td>The airlines called me broke in 4 different languages and we need another pandemic. #deltaairlines #unitedairlines #americanairlines</td>\n",
       "    </tr>\n",
       "    <tr>\n",
       "      <th>17</th>\n",
       "      <td>negative</td>\n",
       "      <td>@Delta you just delayed our flight and therefore we'll miss our international connection. People at the counter in… https://t.co/0GEHPtm1N0</td>\n",
       "    </tr>\n",
       "    <tr>\n",
       "      <th>53</th>\n",
       "      <td>negative</td>\n",
       "      <td>When you get the panic call from your daughter that she isn’t going to make her connecting flight. Through Delta I… https://t.co/8iRADMd4zs</td>\n",
       "    </tr>\n",
       "    <tr>\n",
       "      <th>56</th>\n",
       "      <td>negative</td>\n",
       "      <td>@THEVIVIENNEUK @Delta you should be ashamed of yourself for treating your customers like this!!! #shameonyou… https://t.co/E9igMpatOi</td>\n",
       "    </tr>\n",
       "    <tr>\n",
       "      <th>57</th>\n",
       "      <td>negative</td>\n",
       "      <td>@Delta this goes on for another page or so. #delta #deltaairlines https://t.co/LF1FTAK9bX</td>\n",
       "    </tr>\n",
       "    <tr>\n",
       "      <th>58</th>\n",
       "      <td>negative</td>\n",
       "      <td>RT @MarioCanton: @USDOT I want to complain about how @Aeromexico and @delta #deltaairlines are stealing money from their customers. You pay…</td>\n",
       "    </tr>\n",
       "    <tr>\n",
       "      <th>59</th>\n",
       "      <td>negative</td>\n",
       "      <td>@USDOT I want to complain about how @Aeromexico and @delta #deltaairlines are stealing money from their customers.… https://t.co/Plhzughr8Z</td>\n",
       "    </tr>\n",
       "    <tr>\n",
       "      <th>64</th>\n",
       "      <td>negative</td>\n",
       "      <td>$DAL in Downtrend: RSI indicator exits overbought zone. View odds for this and other indicators:… https://t.co/5L0zncrkiU</td>\n",
       "    </tr>\n",
       "    <tr>\n",
       "      <th>65</th>\n",
       "      <td>negative</td>\n",
       "      <td>#delta #deltaairlines</td>\n",
       "    </tr>\n",
       "    <tr>\n",
       "      <th>66</th>\n",
       "      <td>negative</td>\n",
       "      <td>#delta #deltaairlines #corporategreed</td>\n",
       "    </tr>\n",
       "    <tr>\n",
       "      <th>67</th>\n",
       "      <td>negative</td>\n",
       "      <td>@Delta has got to be THE WORST airline #Delta #deltaairlines</td>\n",
       "    </tr>\n",
       "    <tr>\n",
       "      <th>72</th>\n",
       "      <td>negative</td>\n",
       "      <td>.@Delta Shout Out to the #DeltaAirlines customer service team. \\nThere are literally tears in my eyes while typing t… https://t.co/g0jySghSwE</td>\n",
       "    </tr>\n",
       "    <tr>\n",
       "      <th>77</th>\n",
       "      <td>negative</td>\n",
       "      <td>Delta Air Lines claim. Were you on flight DL45 on 21st August 2022 from Dublin Airport to John F Kennedy  Airport?… https://t.co/gEDiqlAnNJ</td>\n",
       "    </tr>\n",
       "    <tr>\n",
       "      <th>81</th>\n",
       "      <td>negative</td>\n",
       "      <td>How do I find Delta Airlines Vacations Packages?\\nFind a Delta Airlines vacation package through the official site o… https://t.co/XZuXBz5bY4</td>\n",
       "    </tr>\n",
       "    <tr>\n",
       "      <th>95</th>\n",
       "      <td>negative</td>\n",
       "      <td>@Delta has to be worse airline out there. Screw over on my refund by making it a e-credit that I can’t even use for… https://t.co/ynTFRWTwOx</td>\n",
       "    </tr>\n",
       "    <tr>\n",
       "      <th>96</th>\n",
       "      <td>negative</td>\n",
       "      <td>RT @AdelinGasana: As @BillyCorben tells us... \\n\\nThere's only 2 rules in documentary filmmaking: \\n\\n1) Find a good story\\n2) Don't fuck it up…</td>\n",
       "    </tr>\n",
       "  </tbody>\n",
       "</table>\n",
       "</div>"
      ],
      "text/plain": [
       "   sentiment  \\\n",
       "6   negative   \n",
       "17  negative   \n",
       "53  negative   \n",
       "56  negative   \n",
       "57  negative   \n",
       "58  negative   \n",
       "59  negative   \n",
       "64  negative   \n",
       "65  negative   \n",
       "66  negative   \n",
       "67  negative   \n",
       "72  negative   \n",
       "77  negative   \n",
       "81  negative   \n",
       "95  negative   \n",
       "96  negative   \n",
       "\n",
       "                                                                                                                                               tweet  \n",
       "6               The airlines called me broke in 4 different languages and we need another pandemic. #deltaairlines #unitedairlines #americanairlines  \n",
       "17       @Delta you just delayed our flight and therefore we'll miss our international connection. People at the counter in… https://t.co/0GEHPtm1N0  \n",
       "53       When you get the panic call from your daughter that she isn’t going to make her connecting flight. Through Delta I… https://t.co/8iRADMd4zs  \n",
       "56             @THEVIVIENNEUK @Delta you should be ashamed of yourself for treating your customers like this!!! #shameonyou… https://t.co/E9igMpatOi  \n",
       "57                                                         @Delta this goes on for another page or so. #delta #deltaairlines https://t.co/LF1FTAK9bX  \n",
       "58      RT @MarioCanton: @USDOT I want to complain about how @Aeromexico and @delta #deltaairlines are stealing money from their customers. You pay…  \n",
       "59       @USDOT I want to complain about how @Aeromexico and @delta #deltaairlines are stealing money from their customers.… https://t.co/Plhzughr8Z  \n",
       "64                         $DAL in Downtrend: RSI indicator exits overbought zone. View odds for this and other indicators:… https://t.co/5L0zncrkiU  \n",
       "65                                                                                                                             #delta #deltaairlines  \n",
       "66                                                                                                             #delta #deltaairlines #corporategreed  \n",
       "67                                                                                      @Delta has got to be THE WORST airline #Delta #deltaairlines  \n",
       "72     .@Delta Shout Out to the #DeltaAirlines customer service team. \\nThere are literally tears in my eyes while typing t… https://t.co/g0jySghSwE  \n",
       "77       Delta Air Lines claim. Were you on flight DL45 on 21st August 2022 from Dublin Airport to John F Kennedy  Airport?… https://t.co/gEDiqlAnNJ  \n",
       "81     How do I find Delta Airlines Vacations Packages?\\nFind a Delta Airlines vacation package through the official site o… https://t.co/XZuXBz5bY4  \n",
       "95      @Delta has to be worse airline out there. Screw over on my refund by making it a e-credit that I can’t even use for… https://t.co/ynTFRWTwOx  \n",
       "96  RT @AdelinGasana: As @BillyCorben tells us... \\n\\nThere's only 2 rules in documentary filmmaking: \\n\\n1) Find a good story\\n2) Don't fuck it up…  "
      ]
     },
     "execution_count": 82,
     "metadata": {},
     "output_type": "execute_result"
    }
   ],
   "source": [
    "#'ICAO' is International Civil Aviation Organization technical flight reports\n",
    "negative_sample[negative_sample[\"tweet\"].str.contains(\"ICAO\")!=True]"
   ]
  },
  {
   "cell_type": "markdown",
   "metadata": {},
   "source": [
    "### Final model metrics on test set"
   ]
  },
  {
   "cell_type": "code",
   "execution_count": 83,
   "metadata": {},
   "outputs": [],
   "source": [
    "y_pred = lrgrid3.best_estimator_.predict(X_test_vec)"
   ]
  },
  {
   "cell_type": "code",
   "execution_count": 84,
   "metadata": {},
   "outputs": [
    {
     "name": "stdout",
     "output_type": "stream",
     "text": [
      "Final model test set accuracy is:  0.88\n"
     ]
    }
   ],
   "source": [
    "print('Final model test set accuracy is: ', accuracy_score(y_test, y_pred).round(2))"
   ]
  },
  {
   "cell_type": "code",
   "execution_count": 85,
   "metadata": {},
   "outputs": [
    {
     "data": {
      "image/png": "[encoded data removed]",
      "text/plain": [
       "<Figure size 432x288 with 2 Axes>"
      ]
     },
     "metadata": {
      "needs_background": "light"
     },
     "output_type": "display_data"
    }
   ],
   "source": [
    "plot_confusion_matrix(lrgrid3.best_estimator_, X_test_vec, y_test);"
   ]
  },
  {
   "cell_type": "markdown",
   "metadata": {},
   "source": [
    "### Final model results \n",
    "\n",
    "Correctly predicted 96% of Negative\n",
    "\n",
    "Correctly predicted 73% of Positive\n",
    "\n",
    "Correctly predicted 60% of Positive"
   ]
  },
  {
   "cell_type": "markdown",
   "metadata": {},
   "source": [
    "### Insight"
   ]
  },
  {
   "cell_type": "markdown",
   "metadata": {},
   "source": [
    "With a larger corpus of tweets further steps can be taken to analyze most frequent and meaningful words that occur in tweets that express negative sentiment."
   ]
  },
  {
   "cell_type": "markdown",
   "metadata": {},
   "source": [
    "## Conclusion"
   ]
  },
  {
   "cell_type": "markdown",
   "metadata": {},
   "source": [
    "Our model can be used to identify negative tweets for further exploration and analysis. With access to larger corpus of tweets further steps can be taken to analyze most frequent and meaningful words that occur in tweets that express negative sentiment. Those words would be indicative of the reason for customers dissatisfaction."
   ]
  }
 ],
 "metadata": {
  "kernelspec": {
   "display_name": "Python (learn-env)",
   "language": "python",
   "name": "learn-env"
  },
  "language_info": {
   "codemirror_mode": {
    "name": "ipython",
    "version": 3
   },
   "file_extension": ".py",
   "mimetype": "text/x-python",
   "name": "python",
   "nbconvert_exporter": "python",
   "pygments_lexer": "ipython3",
   "version": "3.8.5"
  }
 },
 "nbformat": 4,
 "nbformat_minor": 4
}
