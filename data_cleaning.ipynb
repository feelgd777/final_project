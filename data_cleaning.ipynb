{
 "cells": [
  {
   "cell_type": "code",
   "execution_count": 1,
   "metadata": {},
   "outputs": [],
   "source": [
    "import pandas as pd\n",
    "import numpy as np\n",
    "import matplotlib.pyplot as plt\n",
    "\n",
    "import re\n",
    "\n",
    "\n",
    "from PIL import Image\n",
    "from sklearn import svm\n",
    "from sklearn.feature_extraction.text import TfidfTransformer\n",
    "from sklearn.feature_extraction.text import TfidfVectorizer\n",
    "from sklearn.metrics import accuracy_score\n",
    "from sklearn.metrics import plot_roc_curve\n",
    "from sklearn.naive_bayes import MultinomialNB\n",
    "from sklearn.neighbors import KNeighborsClassifier\n",
    "from wordcloud import WordCloud, STOPWORDS, ImageColorGenerator\n",
    "from nltk import pos_tag\n",
    "import collections\n",
    "import matplotlib as mpl\n",
    "import matplotlib.pyplot as plt\n",
    "import numpy as np\n",
    "import operator\n",
    "import pandas as pd\n",
    "from nltk.stem import WordNetLemmatizer\n",
    "from nltk.corpus import stopwords, wordnet\n",
    "\n",
    "import string\n",
    "from sklearn.model_selection import train_test_split, cross_val_score\n",
    "from sklearn.dummy import DummyClassifier"
   ]
  },
  {
   "cell_type": "code",
   "execution_count": 2,
   "metadata": {
    "scrolled": true
   },
   "outputs": [],
   "source": [
    "# pip install emoji --upgrade"
   ]
  },
  {
   "cell_type": "code",
   "execution_count": 3,
   "metadata": {},
   "outputs": [],
   "source": [
    "import emoji"
   ]
  },
  {
   "cell_type": "code",
   "execution_count": 4,
   "metadata": {},
   "outputs": [],
   "source": [
    "sw = list(stopwords.words('english'))"
   ]
  },
  {
   "cell_type": "code",
   "execution_count": 5,
   "metadata": {},
   "outputs": [
    {
     "data": {
      "text/plain": [
       "list"
      ]
     },
     "execution_count": 5,
     "metadata": {},
     "output_type": "execute_result"
    }
   ],
   "source": [
    "type(sw)"
   ]
  },
  {
   "cell_type": "code",
   "execution_count": 6,
   "metadata": {},
   "outputs": [],
   "source": [
    "tweets = pd.read_csv('Data/Tweets.csv')"
   ]
  },
  {
   "cell_type": "code",
   "execution_count": 7,
   "metadata": {},
   "outputs": [
    {
     "data": {
      "text/plain": [
       "tweet_id                            0\n",
       "airline_sentiment                   0\n",
       "airline_sentiment_confidence        0\n",
       "negativereason                   5462\n",
       "negativereason_confidence        4118\n",
       "airline                             0\n",
       "airline_sentiment_gold          14600\n",
       "name                                0\n",
       "negativereason_gold             14608\n",
       "retweet_count                       0\n",
       "text                                0\n",
       "tweet_coord                     13621\n",
       "tweet_created                       0\n",
       "tweet_location                   4733\n",
       "user_timezone                    4820\n",
       "dtype: int64"
      ]
     },
     "execution_count": 7,
     "metadata": {},
     "output_type": "execute_result"
    }
   ],
   "source": [
    "tweets.isna().sum()"
   ]
  },
  {
   "cell_type": "code",
   "execution_count": 8,
   "metadata": {
    "scrolled": true
   },
   "outputs": [
    {
     "data": {
      "text/plain": [
       "Customer Service Issue                      12\n",
       "Late Flight                                  4\n",
       "Can't Tell                                   3\n",
       "Cancelled Flight                             3\n",
       "Cancelled Flight\\nCustomer Service Issue     2\n",
       "Late Flight\\nCancelled Flight                1\n",
       "Customer Service Issue\\nLost Luggage         1\n",
       "Customer Service Issue\\nCan't Tell           1\n",
       "Bad Flight                                   1\n",
       "Flight Attendant Complaints                  1\n",
       "Late Flight\\nLost Luggage                    1\n",
       "Lost Luggage\\nDamaged Luggage                1\n",
       "Late Flight\\nFlight Attendant Complaints     1\n",
       "Name: negativereason_gold, dtype: int64"
      ]
     },
     "execution_count": 8,
     "metadata": {},
     "output_type": "execute_result"
    }
   ],
   "source": [
    "tweets['negativereason_gold'].value_counts()"
   ]
  },
  {
   "cell_type": "code",
   "execution_count": 9,
   "metadata": {},
   "outputs": [
    {
     "data": {
      "text/plain": [
       "negative    32\n",
       "positive     5\n",
       "neutral      3\n",
       "Name: airline_sentiment_gold, dtype: int64"
      ]
     },
     "execution_count": 9,
     "metadata": {},
     "output_type": "execute_result"
    }
   ],
   "source": [
    "tweets['airline_sentiment_gold'].value_counts()"
   ]
  },
  {
   "cell_type": "code",
   "execution_count": 10,
   "metadata": {},
   "outputs": [
    {
     "data": {
      "text/plain": [
       "0     13873\n",
       "1       640\n",
       "2        66\n",
       "3        22\n",
       "4        17\n",
       "5         5\n",
       "7         3\n",
       "6         3\n",
       "22        2\n",
       "8         1\n",
       "32        1\n",
       "9         1\n",
       "31        1\n",
       "18        1\n",
       "15        1\n",
       "28        1\n",
       "44        1\n",
       "11        1\n",
       "Name: retweet_count, dtype: int64"
      ]
     },
     "execution_count": 10,
     "metadata": {},
     "output_type": "execute_result"
    }
   ],
   "source": [
    "tweets['retweet_count'].value_counts()"
   ]
  },
  {
   "cell_type": "code",
   "execution_count": 11,
   "metadata": {},
   "outputs": [
    {
     "data": {
      "text/plain": [
       "2015-02-24 09:54:34 -0800    5\n",
       "2015-02-24 11:43:05 -0800    4\n",
       "2015-02-23 14:18:58 -0800    3\n",
       "2015-02-23 06:57:24 -0800    3\n",
       "2015-02-24 11:38:11 -0800    3\n",
       "                            ..\n",
       "2015-02-23 09:43:56 -0800    1\n",
       "2015-02-21 00:50:34 -0800    1\n",
       "2015-02-18 08:59:50 -0800    1\n",
       "2015-02-22 13:52:10 -0800    1\n",
       "2015-02-19 20:16:40 -0800    1\n",
       "Name: tweet_created, Length: 14247, dtype: int64"
      ]
     },
     "execution_count": 11,
     "metadata": {},
     "output_type": "execute_result"
    }
   ],
   "source": [
    "tweets['tweet_created'].value_counts()"
   ]
  },
  {
   "cell_type": "code",
   "execution_count": 12,
   "metadata": {},
   "outputs": [
    {
     "data": {
      "text/plain": [
       "Eastern Time (US & Canada)    3744\n",
       "Central Time (US & Canada)    1931\n",
       "Pacific Time (US & Canada)    1208\n",
       "Quito                          738\n",
       "Atlantic Time (Canada)         497\n",
       "                              ... \n",
       "Kuala Lumpur                     1\n",
       "Tokyo                            1\n",
       "Saskatchewan                     1\n",
       "Canberra                         1\n",
       "Warsaw                           1\n",
       "Name: user_timezone, Length: 85, dtype: int64"
      ]
     },
     "execution_count": 12,
     "metadata": {},
     "output_type": "execute_result"
    }
   ],
   "source": [
    "tweets['user_timezone'].value_counts()"
   ]
  },
  {
   "cell_type": "code",
   "execution_count": 13,
   "metadata": {},
   "outputs": [
    {
     "data": {
      "text/plain": [
       "JetBlueNews        63\n",
       "kbosspotter        32\n",
       "_mhertz            29\n",
       "otisday            28\n",
       "throthra           27\n",
       "                   ..\n",
       "ImmortalDreamer     1\n",
       "MDL_LMU             1\n",
       "ardakuyumcu         1\n",
       "AuthorKristina      1\n",
       "jamesferrandini     1\n",
       "Name: name, Length: 7701, dtype: int64"
      ]
     },
     "execution_count": 13,
     "metadata": {},
     "output_type": "execute_result"
    }
   ],
   "source": [
    "tweets['name'].value_counts()"
   ]
  },
  {
   "cell_type": "code",
   "execution_count": 14,
   "metadata": {},
   "outputs": [
    {
     "data": {
      "text/plain": [
       "['tweet_id',\n",
       " 'airline_sentiment',\n",
       " 'airline_sentiment_confidence',\n",
       " 'negativereason',\n",
       " 'negativereason_confidence',\n",
       " 'airline',\n",
       " 'text',\n",
       " 'tweet_coord',\n",
       " 'tweet_location']"
      ]
     },
     "execution_count": 14,
     "metadata": {},
     "output_type": "execute_result"
    }
   ],
   "source": [
    "tweets.drop('negativereason_gold', axis=1, inplace=True)\n",
    "tweets.drop('airline_sentiment_gold', axis=1, inplace=True)\n",
    "tweets.drop('retweet_count', axis=1, inplace=True)\n",
    "tweets.drop('tweet_created', axis=1, inplace=True)\n",
    "tweets.drop('user_timezone', axis=1, inplace=True)\n",
    "tweets.drop('name', axis=1, inplace=True)\n",
    "\n",
    "#current list of columns\n",
    "list(tweets.columns)"
   ]
  },
  {
   "cell_type": "code",
   "execution_count": 15,
   "metadata": {
    "scrolled": true
   },
   "outputs": [
    {
     "data": {
      "text/plain": [
       "1.0000    10445\n",
       "0.6667       71\n",
       "0.6632       35\n",
       "0.6559       30\n",
       "0.6596       30\n",
       "          ...  \n",
       "0.3913        1\n",
       "0.7273        1\n",
       "0.6353        1\n",
       "0.6260        1\n",
       "0.3544        1\n",
       "Name: airline_sentiment_confidence, Length: 1023, dtype: int64"
      ]
     },
     "execution_count": 15,
     "metadata": {},
     "output_type": "execute_result"
    }
   ],
   "source": [
    "tweets['airline_sentiment_confidence'].value_counts()"
   ]
  },
  {
   "cell_type": "code",
   "execution_count": 16,
   "metadata": {
    "scrolled": true
   },
   "outputs": [
    {
     "data": {
      "text/plain": [
       "Customer Service Issue         2910\n",
       "Late Flight                    1665\n",
       "Can't Tell                     1190\n",
       "Cancelled Flight                847\n",
       "Lost Luggage                    724\n",
       "Bad Flight                      580\n",
       "Flight Booking Problems         529\n",
       "Flight Attendant Complaints     481\n",
       "longlines                       178\n",
       "Damaged Luggage                  74\n",
       "Name: negativereason, dtype: int64"
      ]
     },
     "execution_count": 16,
     "metadata": {},
     "output_type": "execute_result"
    }
   ],
   "source": [
    "tweets['negativereason'].value_counts()"
   ]
  },
  {
   "cell_type": "code",
   "execution_count": 17,
   "metadata": {},
   "outputs": [
    {
     "data": {
      "text/plain": [
       "1.0000    3436\n",
       "0.0000    1344\n",
       "0.6667      62\n",
       "0.6632      33\n",
       "0.6596      29\n",
       "          ... \n",
       "0.3386       1\n",
       "0.3577       1\n",
       "0.3249       1\n",
       "0.3290       1\n",
       "0.3255       1\n",
       "Name: negativereason_confidence, Length: 1410, dtype: int64"
      ]
     },
     "execution_count": 17,
     "metadata": {},
     "output_type": "execute_result"
    }
   ],
   "source": [
    "tweets['negativereason_confidence'].value_counts()"
   ]
  },
  {
   "cell_type": "code",
   "execution_count": 18,
   "metadata": {},
   "outputs": [
    {
     "data": {
      "text/plain": [
       "United            3822\n",
       "US Airways        2913\n",
       "American          2759\n",
       "Southwest         2420\n",
       "Delta             2222\n",
       "Virgin America     504\n",
       "Name: airline, dtype: int64"
      ]
     },
     "execution_count": 18,
     "metadata": {},
     "output_type": "execute_result"
    }
   ],
   "source": [
    "tweets['airline'].value_counts()"
   ]
  },
  {
   "cell_type": "code",
   "execution_count": 19,
   "metadata": {},
   "outputs": [
    {
     "data": {
      "text/plain": [
       "[0.0, 0.0]                      164\n",
       "[40.64656067, -73.78334045]       6\n",
       "[32.91792297, -97.00367737]       3\n",
       "[40.64646912, -73.79133606]       3\n",
       "[40.69017276, -73.91646118]       2\n",
       "                               ... \n",
       "[39.1780768, -76.670155]          1\n",
       "[35.22358885, -80.95061712]       1\n",
       "[36.11159761, -86.7844525]        1\n",
       "[33.00605781, -96.76519155]       1\n",
       "[34.00646846, -118.48131246]      1\n",
       "Name: tweet_coord, Length: 832, dtype: int64"
      ]
     },
     "execution_count": 19,
     "metadata": {},
     "output_type": "execute_result"
    }
   ],
   "source": [
    "tweets['tweet_coord'].value_counts()"
   ]
  },
  {
   "cell_type": "code",
   "execution_count": 20,
   "metadata": {},
   "outputs": [
    {
     "data": {
      "text/plain": [
       "Boston, MA              157\n",
       "New York, NY            156\n",
       "Washington, DC          150\n",
       "New York                127\n",
       "USA                     126\n",
       "                       ... \n",
       "Crowley, Louisiana        1\n",
       "Bergen, Norway            1\n",
       "Land of the ✌️free✌️      1\n",
       "KFAR                      1\n",
       "Warsaw                    1\n",
       "Name: tweet_location, Length: 3081, dtype: int64"
      ]
     },
     "execution_count": 20,
     "metadata": {},
     "output_type": "execute_result"
    }
   ],
   "source": [
    "tweets['tweet_location'].value_counts()"
   ]
  },
  {
   "cell_type": "code",
   "execution_count": 21,
   "metadata": {},
   "outputs": [],
   "source": [
    "# tweets.drop('tweet_id', axis=1, inplace=True)\n",
    "# tweets['name'].value_counts()\n",
    "# tweets['name'].value_counts()\n",
    "# tweets['name'].value_counts()"
   ]
  },
  {
   "cell_type": "code",
   "execution_count": 22,
   "metadata": {
    "scrolled": true
   },
   "outputs": [],
   "source": [
    "tweets = tweets[tweets['airline_sentiment_confidence'] > 0.80]"
   ]
  },
  {
   "cell_type": "code",
   "execution_count": 23,
   "metadata": {},
   "outputs": [
    {
     "data": {
      "text/plain": [
       "(10459, 9)"
      ]
     },
     "execution_count": 23,
     "metadata": {},
     "output_type": "execute_result"
    }
   ],
   "source": [
    "tweets.shape"
   ]
  },
  {
   "cell_type": "code",
   "execution_count": 24,
   "metadata": {},
   "outputs": [
    {
     "name": "stdout",
     "output_type": "stream",
     "text": [
      "<class 'pandas.core.frame.DataFrame'>\n",
      "Int64Index: 10459 entries, 0 to 14638\n",
      "Data columns (total 9 columns):\n",
      " #   Column                        Non-Null Count  Dtype  \n",
      "---  ------                        --------------  -----  \n",
      " 0   tweet_id                      10459 non-null  int64  \n",
      " 1   airline_sentiment             10459 non-null  object \n",
      " 2   airline_sentiment_confidence  10459 non-null  float64\n",
      " 3   negativereason                7392 non-null   object \n",
      " 4   negativereason_confidence     7396 non-null   float64\n",
      " 5   airline                       10459 non-null  object \n",
      " 6   text                          10459 non-null  object \n",
      " 7   tweet_coord                   746 non-null    object \n",
      " 8   tweet_location                7007 non-null   object \n",
      "dtypes: float64(2), int64(1), object(6)\n",
      "memory usage: 817.1+ KB\n"
     ]
    }
   ],
   "source": [
    "tweets.info()"
   ]
  },
  {
   "cell_type": "code",
   "execution_count": 25,
   "metadata": {},
   "outputs": [],
   "source": [
    "#just in case\n",
    "def labels_to_num(label):\n",
    "    if label == 'negative':\n",
    "        label = 0\n",
    "    elif label == 'positive':\n",
    "        label = 1\n",
    "    else:\n",
    "        label = 2\n",
    "    return label"
   ]
  },
  {
   "cell_type": "code",
   "execution_count": 26,
   "metadata": {},
   "outputs": [],
   "source": [
    "tweets['airline_sentiment_num'] = tweets['airline_sentiment'].map(labels_to_num)"
   ]
  },
  {
   "cell_type": "code",
   "execution_count": 27,
   "metadata": {},
   "outputs": [
    {
     "data": {
      "text/plain": [
       "0    7392\n",
       "2    1550\n",
       "1    1517\n",
       "Name: airline_sentiment_num, dtype: int64"
      ]
     },
     "execution_count": 27,
     "metadata": {},
     "output_type": "execute_result"
    }
   ],
   "source": [
    "tweets['airline_sentiment_num'].value_counts()"
   ]
  },
  {
   "cell_type": "code",
   "execution_count": 28,
   "metadata": {},
   "outputs": [],
   "source": [
    "##Translate nltk POS to wordnet tags for lemmatizer\n",
    "def get_wordnet_pos(treebank_tag):\n",
    "    '''\n",
    "    Translate nltk POS to wordnet tags\n",
    "    '''\n",
    "    if treebank_tag.startswith('J'):\n",
    "        return wordnet.ADJ\n",
    "    elif treebank_tag.startswith('V'):\n",
    "        return wordnet.VERB\n",
    "    elif treebank_tag.startswith('N'):\n",
    "        return wordnet.NOUN\n",
    "    elif treebank_tag.startswith('R'):\n",
    "        return wordnet.ADV\n",
    "    else:\n",
    "        return wordnet.NOUN"
   ]
  },
  {
   "cell_type": "code",
   "execution_count": 29,
   "metadata": {},
   "outputs": [],
   "source": [
    "# from nltk.stem import PorterStemmer"
   ]
  },
  {
   "cell_type": "code",
   "execution_count": 31,
   "metadata": {},
   "outputs": [],
   "source": [
    "from nltk.tokenize import word_tokenize"
   ]
  },
  {
   "cell_type": "code",
   "execution_count": 32,
   "metadata": {},
   "outputs": [],
   "source": [
    "lemmatizer = WordNetLemmatizer() #lemmatizing\n",
    "#STOPWORDS\n",
    "\n",
    "def process_text(text):\n",
    "    doc = text.lower()\n",
    "    doc = re.sub(r'@\\w+', '', doc) # Remove @s\n",
    "    doc = re.sub(r'#', '', doc) # Remove hashtags\n",
    "    doc = re.sub(r':', ' ', emoji.demojize(doc)) # Turn emojis into words\n",
    "    doc = re.sub(r'http\\S+', '',doc) # Remove URLs\n",
    "    doc = re.sub(r'\\$\\S+', 'dollar', doc) # Change dollar amounts to dollar\n",
    "    doc = re.sub(r'[^a-z0-9\\s]', '', doc) # Remove punctuation\n",
    "    doc = re.sub(r'[0-9]+', 'number', doc) # Change number values to number\n",
    "    \n",
    "    doc = word_tokenize(doc)\n",
    "#     doc = [word for word in doc if word not in sw]\n",
    "   \n",
    "    \n",
    "    doc = pos_tag(doc)\n",
    "\n",
    "    doc = [(word[0], get_wordnet_pos(word[1])) for word in doc]\n",
    "\n",
    "    doc = [lemmatizer.lemmatize(word[0], word[1]) for word in doc] \n",
    "\n",
    "    return ' '.join(doc)"
   ]
  },
  {
   "cell_type": "code",
   "execution_count": 33,
   "metadata": {},
   "outputs": [],
   "source": [
    "tweets['processed_text'] = tweets['text'].map(process_text)"
   ]
  },
  {
   "cell_type": "code",
   "execution_count": 34,
   "metadata": {},
   "outputs": [
    {
     "data": {
      "text/plain": [
       "'@VirginAmerica What @dhepburn said.'"
      ]
     },
     "execution_count": 34,
     "metadata": {},
     "output_type": "execute_result"
    }
   ],
   "source": [
    "tweets['text'][0]"
   ]
  },
  {
   "cell_type": "code",
   "execution_count": 36,
   "metadata": {
    "scrolled": false
   },
   "outputs": [
    {
     "data": {
      "text/plain": [
       "'say'"
      ]
     },
     "execution_count": 36,
     "metadata": {},
     "output_type": "execute_result"
    }
   ],
   "source": [
    "tweets['processed_text'][0]"
   ]
  },
  {
   "cell_type": "code",
   "execution_count": 37,
   "metadata": {},
   "outputs": [],
   "source": [
    "dummied_airlines = pd.get_dummies(tweets['airline'])"
   ]
  },
  {
   "cell_type": "code",
   "execution_count": 38,
   "metadata": {
    "scrolled": true
   },
   "outputs": [],
   "source": [
    "tweets = tweets.join(dummied_airlines)"
   ]
  },
  {
   "cell_type": "code",
   "execution_count": 39,
   "metadata": {
    "scrolled": true
   },
   "outputs": [
    {
     "data": {
      "text/plain": [
       "Index(['tweet_id', 'airline_sentiment', 'airline_sentiment_confidence',\n",
       "       'negativereason', 'negativereason_confidence', 'airline', 'text',\n",
       "       'tweet_coord', 'tweet_location', 'airline_sentiment_num',\n",
       "       'processed_text', 'American', 'Delta', 'Southwest', 'US Airways',\n",
       "       'United', 'Virgin America'],\n",
       "      dtype='object')"
      ]
     },
     "execution_count": 39,
     "metadata": {},
     "output_type": "execute_result"
    }
   ],
   "source": [
    "tweets.columns"
   ]
  },
  {
   "cell_type": "markdown",
   "metadata": {},
   "source": [
    "## Vectorizing"
   ]
  },
  {
   "cell_type": "code",
   "execution_count": 40,
   "metadata": {},
   "outputs": [],
   "source": [
    "X = tweets.drop(columns=['tweet_id', 'airline_sentiment_confidence', 'airline',\n",
    "       'negativereason', 'negativereason_confidence', 'text', 'tweet_coord', 'tweet_location', 'airline_sentiment_num', 'airline_sentiment'], axis =1)\n",
    "y = tweets['airline_sentiment']"
   ]
  },
  {
   "cell_type": "code",
   "execution_count": 41,
   "metadata": {},
   "outputs": [],
   "source": [
    "##running our train test split\n",
    "X_train, X_test, y_train, y_test = train_test_split(X,\n",
    "                                                    y,\n",
    "                                                    random_state=42,\n",
    "                                                    test_size=0.20)"
   ]
  },
  {
   "cell_type": "code",
   "execution_count": 42,
   "metadata": {},
   "outputs": [],
   "source": [
    "#try different parameters\n",
    "vectorizer = TfidfVectorizer(input='content')"
   ]
  },
  {
   "cell_type": "code",
   "execution_count": 43,
   "metadata": {},
   "outputs": [
    {
     "name": "stderr",
     "output_type": "stream",
     "text": [
      "C:\\Users\\Admin\\anaconda3\\envs\\learn-env\\lib\\site-packages\\pandas\\core\\frame.py:4163: SettingWithCopyWarning: \n",
      "A value is trying to be set on a copy of a slice from a DataFrame\n",
      "\n",
      "See the caveats in the documentation: https://pandas.pydata.org/pandas-docs/stable/user_guide/indexing.html#returning-a-view-versus-a-copy\n",
      "  return super().drop(\n"
     ]
    }
   ],
   "source": [
    "sparse_out = vectorizer.fit_transform(X_train['processed_text'])\n",
    "tfidf_df_train = pd.DataFrame(data = sparse_out.toarray(),\n",
    "                        columns = vectorizer.get_feature_names(), index = X_train.index)\n",
    "tfidf_df_train.head()\n",
    "\n",
    "X_train.drop(['processed_text'], axis=1, inplace = True)\n",
    "X_train_vec = X_train.join(tfidf_df_train)"
   ]
  },
  {
   "cell_type": "code",
   "execution_count": 44,
   "metadata": {},
   "outputs": [
    {
     "name": "stderr",
     "output_type": "stream",
     "text": [
      "C:\\Users\\Admin\\anaconda3\\envs\\learn-env\\lib\\site-packages\\pandas\\core\\frame.py:4163: SettingWithCopyWarning: \n",
      "A value is trying to be set on a copy of a slice from a DataFrame\n",
      "\n",
      "See the caveats in the documentation: https://pandas.pydata.org/pandas-docs/stable/user_guide/indexing.html#returning-a-view-versus-a-copy\n",
      "  return super().drop(\n"
     ]
    }
   ],
   "source": [
    "sparse_out1 = vectorizer.transform(X_test['processed_text'])\n",
    "tfidf_df_test = pd.DataFrame(data = sparse_out1.toarray(),\n",
    "                        columns = vectorizer.get_feature_names(), index = X_test.index)\n",
    "tfidf_df_test.head()\n",
    "\n",
    "X_test.drop(['processed_text'], axis=1, inplace = True)\n",
    "X_test_vec = X_train.join(tfidf_df_test)"
   ]
  },
  {
   "cell_type": "code",
   "execution_count": 45,
   "metadata": {},
   "outputs": [],
   "source": [
    "#smoteN"
   ]
  },
  {
   "cell_type": "code",
   "execution_count": 46,
   "metadata": {
    "scrolled": true
   },
   "outputs": [
    {
     "data": {
      "text/plain": [
       "negative    7392\n",
       "neutral     1550\n",
       "positive    1517\n",
       "Name: airline_sentiment, dtype: int64"
      ]
     },
     "execution_count": 46,
     "metadata": {},
     "output_type": "execute_result"
    }
   ],
   "source": [
    "tweets.airline_sentiment.value_counts()"
   ]
  },
  {
   "cell_type": "code",
   "execution_count": 47,
   "metadata": {
    "scrolled": true
   },
   "outputs": [
    {
     "data": {
      "text/plain": [
       "(8367, 8743)"
      ]
     },
     "execution_count": 47,
     "metadata": {},
     "output_type": "execute_result"
    }
   ],
   "source": [
    "X_train_vec.shape"
   ]
  },
  {
   "cell_type": "code",
   "execution_count": 48,
   "metadata": {
    "scrolled": true
   },
   "outputs": [
    {
     "data": {
      "text/plain": [
       "(8367, 6)"
      ]
     },
     "execution_count": 48,
     "metadata": {},
     "output_type": "execute_result"
    }
   ],
   "source": [
    "X_train.shape"
   ]
  },
  {
   "cell_type": "markdown",
   "metadata": {},
   "source": [
    "### Dummy classifier"
   ]
  },
  {
   "cell_type": "code",
   "execution_count": 49,
   "metadata": {},
   "outputs": [
    {
     "name": "stdout",
     "output_type": "stream",
     "text": [
      "0.5403348994251951\n"
     ]
    }
   ],
   "source": [
    "##checking our dummy/base model score\n",
    "dc = DummyClassifier(strategy='stratified')\n",
    "dc.fit(X_train_vec, y_train)\n",
    "\n",
    "print(cross_val_score(dc, X_train_vec, y_train).mean())"
   ]
  },
  {
   "cell_type": "markdown",
   "metadata": {},
   "source": [
    "### Support Vector Classifier"
   ]
  },
  {
   "cell_type": "code",
   "execution_count": 50,
   "metadata": {
    "scrolled": true
   },
   "outputs": [
    {
     "name": "stderr",
     "output_type": "stream",
     "text": [
      "[Parallel(n_jobs=-4)]: Using backend LokyBackend with 5 concurrent workers.\n",
      "[Parallel(n_jobs=-4)]: Done   2 out of   5 | elapsed: 10.4min remaining: 15.6min\n",
      "[Parallel(n_jobs=-4)]: Done   5 out of   5 | elapsed: 10.5min finished\n"
     ]
    },
    {
     "name": "stdout",
     "output_type": "stream",
     "text": [
      "0.8186925525297774\n"
     ]
    }
   ],
   "source": [
    "svc = svm.SVC()\n",
    "svc.fit(X_train_vec, y_train)\n",
    "\n",
    "print(cross_val_score(svc, X_train_vec, y_train, n_jobs=-4, verbose=3).mean())"
   ]
  },
  {
   "cell_type": "markdown",
   "metadata": {},
   "source": [
    "### Naive Bayes"
   ]
  },
  {
   "cell_type": "code",
   "execution_count": 51,
   "metadata": {
    "scrolled": true
   },
   "outputs": [
    {
     "name": "stderr",
     "output_type": "stream",
     "text": [
      "[Parallel(n_jobs=-4)]: Using backend LokyBackend with 5 concurrent workers.\n",
      "[Parallel(n_jobs=-4)]: Done   2 out of   5 | elapsed:    2.3s remaining:    3.5s\n",
      "[Parallel(n_jobs=-4)]: Done   5 out of   5 | elapsed:    2.3s finished\n"
     ]
    },
    {
     "name": "stdout",
     "output_type": "stream",
     "text": [
      "0.7473398219382833\n"
     ]
    }
   ],
   "source": [
    "nb = MultinomialNB()\n",
    "nb.fit(X_train_vec, y_train)\n",
    "print(cross_val_score(nb, X_train_vec, y_train, n_jobs=-4, verbose=3).mean())\n"
   ]
  },
  {
   "cell_type": "markdown",
   "metadata": {},
   "source": [
    "### Required Configurations and Python Libraries"
   ]
  },
  {
   "cell_type": "code",
   "execution_count": 52,
   "metadata": {
    "scrolled": true
   },
   "outputs": [],
   "source": [
    "# pip install tweepy"
   ]
  },
  {
   "cell_type": "code",
   "execution_count": 53,
   "metadata": {
    "scrolled": false
   },
   "outputs": [],
   "source": [
    "import tweepy as tw\n",
    "import json\n",
    "import time\n",
    "import datetime\n",
    "import os\n",
    "import csv\n",
    "import pickle"
   ]
  },
  {
   "cell_type": "code",
   "execution_count": 54,
   "metadata": {},
   "outputs": [],
   "source": [
    "Twitter={}\n",
    "Twitter['Consumer Key'] = 'iAimqbAdWiBrUfXe0Xmuhlyps'\n",
    "Twitter['Consumer Secret'] = 'YWUyAsX8sA2VuJCwQv4x3MUhAGmm48VlV0ZTx2yWNWqlGCP9Kj'\n",
    "Twitter['Access Token'] = '54188780-kRmlqKRHleSb1WBBTfrj4CR57wLxJYuU5qH9piYlq'\n",
    "Twitter['Access Token Secret'] = 'JXzf6VKWIFhVhAuIYWWQX04jCaHgfgjia77ARpK7v1Z3p'"
   ]
  },
  {
   "cell_type": "code",
   "execution_count": 55,
   "metadata": {},
   "outputs": [
    {
     "name": "stdout",
     "output_type": "stream",
     "text": [
      "Requirement already satisfied: twitter in c:\\users\\admin\\anaconda3\\envs\\learn-env\\lib\\site-packages (1.19.3)\n"
     ]
    }
   ],
   "source": [
    "!pip install twitter"
   ]
  },
  {
   "cell_type": "code",
   "execution_count": 56,
   "metadata": {},
   "outputs": [
    {
     "name": "stdout",
     "output_type": "stream",
     "text": [
      "<twitter.api.Twitter object at 0x00000166F332BC70>\n"
     ]
    }
   ],
   "source": [
    "import twitter\n",
    "\n",
    "auth = twitter.oauth.OAuth(Twitter['Access Token'],\n",
    "                           Twitter['Access Token Secret'],\n",
    "                           Twitter['Consumer Key'],\n",
    "                           Twitter['Consumer Secret'])\n",
    "\n",
    "twitter_api = twitter.Twitter(auth=auth)\n",
    "\n",
    "# Nothing to see by displaying twitter_api except that it's now a\n",
    "# defined variable\n",
    "\n",
    "print(twitter_api)"
   ]
  },
  {
   "cell_type": "code",
   "execution_count": 57,
   "metadata": {},
   "outputs": [],
   "source": [
    "q = '#Southwest' \n",
    "\n",
    "number = 10\n",
    "\n",
    "# See https://dev.twitter.com/docs/api/1.1/get/search/tweets\n",
    "\n",
    "search_results = twitter_api.search.tweets(q=q, count=number)\n"
   ]
  },
  {
   "cell_type": "code",
   "execution_count": 58,
   "metadata": {},
   "outputs": [
    {
     "data": {
      "text/plain": [
       "{'statuses': [{'created_at': 'Tue Aug 16 20:30:03 +0000 2022',\n",
       "   'id': 1559638641361801216,\n",
       "   'id_str': '1559638641361801216',\n",
       "   'text': \"What is Justin Timberlake's favourite Ukrainian river? The Crimea River. #Steep #Southwest #Colorado #River #Lake… https://t.co/SQgDsr6PUF\",\n",
       "   'truncated': True,\n",
       "   'entities': {'hashtags': [{'text': 'Steep', 'indices': [73, 79]},\n",
       "     {'text': 'Southwest', 'indices': [80, 90]},\n",
       "     {'text': 'Colorado', 'indices': [91, 100]},\n",
       "     {'text': 'River', 'indices': [101, 107]},\n",
       "     {'text': 'Lake', 'indices': [108, 113]}],\n",
       "    'symbols': [],\n",
       "    'user_mentions': [],\n",
       "    'urls': [{'url': 'https://t.co/SQgDsr6PUF',\n",
       "      'expanded_url': 'https://twitter.com/i/web/status/1559638641361801216',\n",
       "      'display_url': 'twitter.com/i/web/status/1…',\n",
       "      'indices': [115, 138]}]},\n",
       "   'metadata': {'iso_language_code': 'en', 'result_type': 'recent'},\n",
       "   'source': '<a href=\"https://donot.com\" rel=\"nofollow\">frmwk2</a>',\n",
       "   'in_reply_to_status_id': None,\n",
       "   'in_reply_to_status_id_str': None,\n",
       "   'in_reply_to_user_id': None,\n",
       "   'in_reply_to_user_id_str': None,\n",
       "   'in_reply_to_screen_name': None,\n",
       "   'user': {'id': 1523193019876274177,\n",
       "    'id_str': '1523193019876274177',\n",
       "    'name': 'Nota Bot',\n",
       "    'screen_name': 'def_a_person',\n",
       "    'location': '',\n",
       "    'description': 'State of the art entertainment',\n",
       "    'url': None,\n",
       "    'entities': {'description': {'urls': []}},\n",
       "    'protected': False,\n",
       "    'followers_count': 2,\n",
       "    'friends_count': 2,\n",
       "    'listed_count': 0,\n",
       "    'created_at': 'Sun May 08 06:48:21 +0000 2022',\n",
       "    'favourites_count': 0,\n",
       "    'utc_offset': None,\n",
       "    'time_zone': None,\n",
       "    'geo_enabled': False,\n",
       "    'verified': False,\n",
       "    'statuses_count': 781,\n",
       "    'lang': None,\n",
       "    'contributors_enabled': False,\n",
       "    'is_translator': False,\n",
       "    'is_translation_enabled': False,\n",
       "    'profile_background_color': 'F5F8FA',\n",
       "    'profile_background_image_url': None,\n",
       "    'profile_background_image_url_https': None,\n",
       "    'profile_background_tile': False,\n",
       "    'profile_image_url': 'http://pbs.twimg.com/profile_images/1523348807110455298/vYqEyRyk_normal.jpg',\n",
       "    'profile_image_url_https': 'https://pbs.twimg.com/profile_images/1523348807110455298/vYqEyRyk_normal.jpg',\n",
       "    'profile_link_color': '1DA1F2',\n",
       "    'profile_sidebar_border_color': 'C0DEED',\n",
       "    'profile_sidebar_fill_color': 'DDEEF6',\n",
       "    'profile_text_color': '333333',\n",
       "    'profile_use_background_image': True,\n",
       "    'has_extended_profile': True,\n",
       "    'default_profile': True,\n",
       "    'default_profile_image': False,\n",
       "    'following': False,\n",
       "    'follow_request_sent': False,\n",
       "    'notifications': False,\n",
       "    'translator_type': 'none',\n",
       "    'withheld_in_countries': []},\n",
       "   'geo': None,\n",
       "   'coordinates': None,\n",
       "   'place': None,\n",
       "   'contributors': None,\n",
       "   'is_quote_status': False,\n",
       "   'retweet_count': 0,\n",
       "   'favorite_count': 0,\n",
       "   'favorited': False,\n",
       "   'retweeted': False,\n",
       "   'possibly_sensitive': False,\n",
       "   'lang': 'en'},\n",
       "  {'created_at': 'Tue Aug 16 20:11:32 +0000 2022',\n",
       "   'id': 1559633983129980929,\n",
       "   'id_str': '1559633983129980929',\n",
       "   'text': '.@ArtyLetters The answer, my friend. #southwest https://t.co/phGE79QMOF',\n",
       "   'truncated': False,\n",
       "   'entities': {'hashtags': [{'text': 'southwest', 'indices': [37, 47]}],\n",
       "    'symbols': [],\n",
       "    'user_mentions': [{'screen_name': 'ArtyLetters',\n",
       "      'name': 'Arty Letters',\n",
       "      'id': 844727354404601856,\n",
       "      'id_str': '844727354404601856',\n",
       "      'indices': [1, 13]}],\n",
       "    'urls': [],\n",
       "    'media': [{'id': 1559633981024477190,\n",
       "      'id_str': '1559633981024477190',\n",
       "      'indices': [48, 71],\n",
       "      'media_url': 'http://pbs.twimg.com/media/FaTu16qXoAYpdgZ.jpg',\n",
       "      'media_url_https': 'https://pbs.twimg.com/media/FaTu16qXoAYpdgZ.jpg',\n",
       "      'url': 'https://t.co/phGE79QMOF',\n",
       "      'display_url': 'pic.twitter.com/phGE79QMOF',\n",
       "      'expanded_url': 'https://twitter.com/ArtyWinds/status/1559633983129980929/photo/1',\n",
       "      'type': 'photo',\n",
       "      'sizes': {'thumb': {'w': 150, 'h': 150, 'resize': 'crop'},\n",
       "       'small': {'w': 480, 'h': 480, 'resize': 'fit'},\n",
       "       'medium': {'w': 480, 'h': 480, 'resize': 'fit'},\n",
       "       'large': {'w': 480, 'h': 480, 'resize': 'fit'}}}]},\n",
       "   'extended_entities': {'media': [{'id': 1559633981024477190,\n",
       "      'id_str': '1559633981024477190',\n",
       "      'indices': [48, 71],\n",
       "      'media_url': 'http://pbs.twimg.com/media/FaTu16qXoAYpdgZ.jpg',\n",
       "      'media_url_https': 'https://pbs.twimg.com/media/FaTu16qXoAYpdgZ.jpg',\n",
       "      'url': 'https://t.co/phGE79QMOF',\n",
       "      'display_url': 'pic.twitter.com/phGE79QMOF',\n",
       "      'expanded_url': 'https://twitter.com/ArtyWinds/status/1559633983129980929/photo/1',\n",
       "      'type': 'photo',\n",
       "      'sizes': {'thumb': {'w': 150, 'h': 150, 'resize': 'crop'},\n",
       "       'small': {'w': 480, 'h': 480, 'resize': 'fit'},\n",
       "       'medium': {'w': 480, 'h': 480, 'resize': 'fit'},\n",
       "       'large': {'w': 480, 'h': 480, 'resize': 'fit'}}}]},\n",
       "   'metadata': {'iso_language_code': 'en', 'result_type': 'recent'},\n",
       "   'source': '<a href=\"http://www.example.com\" rel=\"nofollow\">Arty Stripes</a>',\n",
       "   'in_reply_to_status_id': 1559633696373837826,\n",
       "   'in_reply_to_status_id_str': '1559633696373837826',\n",
       "   'in_reply_to_user_id': 844727354404601856,\n",
       "   'in_reply_to_user_id_str': '844727354404601856',\n",
       "   'in_reply_to_screen_name': 'ArtyLetters',\n",
       "   'user': {'id': 4700311280,\n",
       "    'id_str': '4700311280',\n",
       "    'name': 'Arty Winds',\n",
       "    'screen_name': 'ArtyWinds',\n",
       "    'location': '',\n",
       "    'description': \"Send me a picture, and I'll blow wind across its pixels! I also draw extraterrestrial clouds. Siblings: @ArtyOriginals, @ArtyCrush, @ArtyBots, &c. By @bjbest60.\",\n",
       "    'url': 'https://t.co/uwZafYNXdu',\n",
       "    'entities': {'url': {'urls': [{'url': 'https://t.co/uwZafYNXdu',\n",
       "        'expanded_url': 'https://bjbestpoet.wordpress.com/the-art-of-the-bot/',\n",
       "        'display_url': 'bjbestpoet.wordpress.com/the-art-of-the…',\n",
       "        'indices': [0, 23]}]},\n",
       "     'description': {'urls': []}},\n",
       "    'protected': False,\n",
       "    'followers_count': 715,\n",
       "    'friends_count': 16,\n",
       "    'listed_count': 70,\n",
       "    'created_at': 'Sun Jan 03 03:50:01 +0000 2016',\n",
       "    'favourites_count': 0,\n",
       "    'utc_offset': None,\n",
       "    'time_zone': None,\n",
       "    'geo_enabled': False,\n",
       "    'verified': False,\n",
       "    'statuses_count': 115763,\n",
       "    'lang': None,\n",
       "    'contributors_enabled': False,\n",
       "    'is_translator': False,\n",
       "    'is_translation_enabled': False,\n",
       "    'profile_background_color': 'F5F8FA',\n",
       "    'profile_background_image_url': None,\n",
       "    'profile_background_image_url_https': None,\n",
       "    'profile_background_tile': False,\n",
       "    'profile_image_url': 'http://pbs.twimg.com/profile_images/705832338928709632/-CJp3g7u_normal.jpg',\n",
       "    'profile_image_url_https': 'https://pbs.twimg.com/profile_images/705832338928709632/-CJp3g7u_normal.jpg',\n",
       "    'profile_banner_url': 'https://pbs.twimg.com/profile_banners/4700311280/1457117675',\n",
       "    'profile_link_color': '1DA1F2',\n",
       "    'profile_sidebar_border_color': 'C0DEED',\n",
       "    'profile_sidebar_fill_color': 'DDEEF6',\n",
       "    'profile_text_color': '333333',\n",
       "    'profile_use_background_image': True,\n",
       "    'has_extended_profile': False,\n",
       "    'default_profile': True,\n",
       "    'default_profile_image': False,\n",
       "    'following': False,\n",
       "    'follow_request_sent': False,\n",
       "    'notifications': False,\n",
       "    'translator_type': 'none',\n",
       "    'withheld_in_countries': []},\n",
       "   'geo': None,\n",
       "   'coordinates': None,\n",
       "   'place': None,\n",
       "   'contributors': None,\n",
       "   'is_quote_status': False,\n",
       "   'retweet_count': 0,\n",
       "   'favorite_count': 0,\n",
       "   'favorited': False,\n",
       "   'retweeted': False,\n",
       "   'possibly_sensitive': False,\n",
       "   'lang': 'en'},\n",
       "  {'created_at': 'Tue Aug 16 20:03:18 +0000 2022',\n",
       "   'id': 1559631911043080192,\n",
       "   'id_str': '1559631911043080192',\n",
       "   'text': 'It’s time for farmers in the #Southwest to stop spraying water, and deliver it directly to roots like counterparts in @israel #Drought2022',\n",
       "   'truncated': False,\n",
       "   'entities': {'hashtags': [{'text': 'Southwest', 'indices': [29, 39]},\n",
       "     {'text': 'Drought2022', 'indices': [126, 138]}],\n",
       "    'symbols': [],\n",
       "    'user_mentions': [{'screen_name': 'Israel',\n",
       "      'name': 'Israel ישראל',\n",
       "      'id': 52660746,\n",
       "      'id_str': '52660746',\n",
       "      'indices': [118, 125]}],\n",
       "    'urls': []},\n",
       "   'metadata': {'iso_language_code': 'en', 'result_type': 'recent'},\n",
       "   'source': '<a href=\"http://twitter.com/download/iphone\" rel=\"nofollow\">Twitter for iPhone</a>',\n",
       "   'in_reply_to_status_id': None,\n",
       "   'in_reply_to_status_id_str': None,\n",
       "   'in_reply_to_user_id': None,\n",
       "   'in_reply_to_user_id_str': None,\n",
       "   'in_reply_to_screen_name': None,\n",
       "   'user': {'id': 837765530,\n",
       "    'id_str': '837765530',\n",
       "    'name': 'BruceDesjardins',\n",
       "    'screen_name': 'BruceDesjardins',\n",
       "    'location': 'Windsor, ON, CA',\n",
       "    'description': 'Skier, motorcyclist, anesthesiologist, husband, dadX5 daughters and back to motorcycling! Full circle.',\n",
       "    'url': None,\n",
       "    'entities': {'description': {'urls': []}},\n",
       "    'protected': False,\n",
       "    'followers_count': 144,\n",
       "    'friends_count': 88,\n",
       "    'listed_count': 34,\n",
       "    'created_at': 'Fri Sep 21 13:11:51 +0000 2012',\n",
       "    'favourites_count': 423,\n",
       "    'utc_offset': None,\n",
       "    'time_zone': None,\n",
       "    'geo_enabled': False,\n",
       "    'verified': False,\n",
       "    'statuses_count': 5456,\n",
       "    'lang': None,\n",
       "    'contributors_enabled': False,\n",
       "    'is_translator': False,\n",
       "    'is_translation_enabled': False,\n",
       "    'profile_background_color': 'C0DEED',\n",
       "    'profile_background_image_url': 'http://abs.twimg.com/images/themes/theme1/bg.png',\n",
       "    'profile_background_image_url_https': 'https://abs.twimg.com/images/themes/theme1/bg.png',\n",
       "    'profile_background_tile': False,\n",
       "    'profile_image_url': 'http://pbs.twimg.com/profile_images/777849272779825152/lql21pTL_normal.jpg',\n",
       "    'profile_image_url_https': 'https://pbs.twimg.com/profile_images/777849272779825152/lql21pTL_normal.jpg',\n",
       "    'profile_banner_url': 'https://pbs.twimg.com/profile_banners/837765530/1434133012',\n",
       "    'profile_link_color': '1DA1F2',\n",
       "    'profile_sidebar_border_color': 'C0DEED',\n",
       "    'profile_sidebar_fill_color': 'DDEEF6',\n",
       "    'profile_text_color': '333333',\n",
       "    'profile_use_background_image': True,\n",
       "    'has_extended_profile': True,\n",
       "    'default_profile': True,\n",
       "    'default_profile_image': False,\n",
       "    'following': False,\n",
       "    'follow_request_sent': False,\n",
       "    'notifications': False,\n",
       "    'translator_type': 'none',\n",
       "    'withheld_in_countries': []},\n",
       "   'geo': None,\n",
       "   'coordinates': None,\n",
       "   'place': None,\n",
       "   'contributors': None,\n",
       "   'is_quote_status': False,\n",
       "   'retweet_count': 0,\n",
       "   'favorite_count': 0,\n",
       "   'favorited': False,\n",
       "   'retweeted': False,\n",
       "   'lang': 'en'},\n",
       "  {'created_at': 'Tue Aug 16 19:29:08 +0000 2022',\n",
       "   'id': 1559623309406310400,\n",
       "   'id_str': '1559623309406310400',\n",
       "   'text': '@united Guess #southwest 👍😉👍 https://t.co/Kgq6GLe0B0',\n",
       "   'truncated': False,\n",
       "   'entities': {'hashtags': [{'text': 'southwest', 'indices': [14, 24]}],\n",
       "    'symbols': [],\n",
       "    'user_mentions': [{'screen_name': 'united',\n",
       "      'name': 'United Airlines',\n",
       "      'id': 260907612,\n",
       "      'id_str': '260907612',\n",
       "      'indices': [0, 7]}],\n",
       "    'urls': [],\n",
       "    'media': [{'id': 1559623307124584449,\n",
       "      'id_str': '1559623307124584449',\n",
       "      'indices': [29, 52],\n",
       "      'media_url': 'http://pbs.twimg.com/media/FaTlInSUsAEYI73.jpg',\n",
       "      'media_url_https': 'https://pbs.twimg.com/media/FaTlInSUsAEYI73.jpg',\n",
       "      'url': 'https://t.co/Kgq6GLe0B0',\n",
       "      'display_url': 'pic.twitter.com/Kgq6GLe0B0',\n",
       "      'expanded_url': 'https://twitter.com/jkuban213/status/1559623309406310400/photo/1',\n",
       "      'type': 'photo',\n",
       "      'sizes': {'thumb': {'w': 150, 'h': 150, 'resize': 'crop'},\n",
       "       'medium': {'w': 893, 'h': 637, 'resize': 'fit'},\n",
       "       'small': {'w': 680, 'h': 485, 'resize': 'fit'},\n",
       "       'large': {'w': 893, 'h': 637, 'resize': 'fit'}}}]},\n",
       "   'extended_entities': {'media': [{'id': 1559623307124584449,\n",
       "      'id_str': '1559623307124584449',\n",
       "      'indices': [29, 52],\n",
       "      'media_url': 'http://pbs.twimg.com/media/FaTlInSUsAEYI73.jpg',\n",
       "      'media_url_https': 'https://pbs.twimg.com/media/FaTlInSUsAEYI73.jpg',\n",
       "      'url': 'https://t.co/Kgq6GLe0B0',\n",
       "      'display_url': 'pic.twitter.com/Kgq6GLe0B0',\n",
       "      'expanded_url': 'https://twitter.com/jkuban213/status/1559623309406310400/photo/1',\n",
       "      'type': 'photo',\n",
       "      'sizes': {'thumb': {'w': 150, 'h': 150, 'resize': 'crop'},\n",
       "       'medium': {'w': 893, 'h': 637, 'resize': 'fit'},\n",
       "       'small': {'w': 680, 'h': 485, 'resize': 'fit'},\n",
       "       'large': {'w': 893, 'h': 637, 'resize': 'fit'}}}]},\n",
       "   'metadata': {'iso_language_code': 'en', 'result_type': 'recent'},\n",
       "   'source': '<a href=\"http://twitter.com/download/android\" rel=\"nofollow\">Twitter for Android</a>',\n",
       "   'in_reply_to_status_id': None,\n",
       "   'in_reply_to_status_id_str': None,\n",
       "   'in_reply_to_user_id': 260907612,\n",
       "   'in_reply_to_user_id_str': '260907612',\n",
       "   'in_reply_to_screen_name': 'united',\n",
       "   'user': {'id': 1507170546299011072,\n",
       "    'id_str': '1507170546299011072',\n",
       "    'name': 'JK',\n",
       "    'screen_name': 'jkuban213',\n",
       "    'location': 'Los Angeles County',\n",
       "    'description': '',\n",
       "    'url': None,\n",
       "    'entities': {'description': {'urls': []}},\n",
       "    'protected': False,\n",
       "    'followers_count': 32,\n",
       "    'friends_count': 374,\n",
       "    'listed_count': 0,\n",
       "    'created_at': 'Fri Mar 25 01:41:14 +0000 2022',\n",
       "    'favourites_count': 2102,\n",
       "    'utc_offset': None,\n",
       "    'time_zone': None,\n",
       "    'geo_enabled': True,\n",
       "    'verified': False,\n",
       "    'statuses_count': 627,\n",
       "    'lang': None,\n",
       "    'contributors_enabled': False,\n",
       "    'is_translator': False,\n",
       "    'is_translation_enabled': False,\n",
       "    'profile_background_color': 'F5F8FA',\n",
       "    'profile_background_image_url': None,\n",
       "    'profile_background_image_url_https': None,\n",
       "    'profile_background_tile': False,\n",
       "    'profile_image_url': 'http://pbs.twimg.com/profile_images/1535370426146205696/uk0WMeyk_normal.jpg',\n",
       "    'profile_image_url_https': 'https://pbs.twimg.com/profile_images/1535370426146205696/uk0WMeyk_normal.jpg',\n",
       "    'profile_link_color': '1DA1F2',\n",
       "    'profile_sidebar_border_color': 'C0DEED',\n",
       "    'profile_sidebar_fill_color': 'DDEEF6',\n",
       "    'profile_text_color': '333333',\n",
       "    'profile_use_background_image': True,\n",
       "    'has_extended_profile': False,\n",
       "    'default_profile': True,\n",
       "    'default_profile_image': False,\n",
       "    'following': False,\n",
       "    'follow_request_sent': False,\n",
       "    'notifications': False,\n",
       "    'translator_type': 'none',\n",
       "    'withheld_in_countries': []},\n",
       "   'geo': None,\n",
       "   'coordinates': None,\n",
       "   'place': {'id': 'fbd6d2f5a4e4a15e',\n",
       "    'url': 'https://api.twitter.com/1.1/geo/id/fbd6d2f5a4e4a15e.json',\n",
       "    'place_type': 'admin',\n",
       "    'name': 'California',\n",
       "    'full_name': 'California, USA',\n",
       "    'country_code': 'US',\n",
       "    'country': 'United States',\n",
       "    'contained_within': [],\n",
       "    'bounding_box': {'type': 'Polygon',\n",
       "     'coordinates': [[[-124.482003, 32.528832],\n",
       "       [-114.131212, 32.528832],\n",
       "       [-114.131212, 42.009519],\n",
       "       [-124.482003, 42.009519]]]},\n",
       "    'attributes': {}},\n",
       "   'contributors': None,\n",
       "   'is_quote_status': False,\n",
       "   'retweet_count': 0,\n",
       "   'favorite_count': 0,\n",
       "   'favorited': False,\n",
       "   'retweeted': False,\n",
       "   'possibly_sensitive': False,\n",
       "   'lang': 'en'},\n",
       "  {'created_at': 'Tue Aug 16 19:13:15 +0000 2022',\n",
       "   'id': 1559619313924972544,\n",
       "   'id_str': '1559619313924972544',\n",
       "   'text': 'RT @HousingITguy: Community growing schemes and mapping empty housing identified as key sustainability goals for Cornwall https://t.co/R0Kn…',\n",
       "   'truncated': False,\n",
       "   'entities': {'hashtags': [],\n",
       "    'symbols': [],\n",
       "    'user_mentions': [{'screen_name': 'HousingITguy',\n",
       "      'name': 'Ｔｏｎｙ Ｓｍｉｔｈ ＡＣＩＨ                     #SocialHousing',\n",
       "      'id': 375854213,\n",
       "      'id_str': '375854213',\n",
       "      'indices': [3, 16]}],\n",
       "    'urls': []},\n",
       "   'metadata': {'iso_language_code': 'en', 'result_type': 'recent'},\n",
       "   'source': '<a href=\"http://twitter.com/#!/download/ipad\" rel=\"nofollow\">Twitter for iPad</a>',\n",
       "   'in_reply_to_status_id': None,\n",
       "   'in_reply_to_status_id_str': None,\n",
       "   'in_reply_to_user_id': None,\n",
       "   'in_reply_to_user_id_str': None,\n",
       "   'in_reply_to_screen_name': None,\n",
       "   'user': {'id': 375854213,\n",
       "    'id_str': '375854213',\n",
       "    'name': 'Ｔｏｎｙ Ｓｍｉｔｈ ＡＣＩＨ                     #SocialHousing',\n",
       "    'screen_name': 'HousingITguy',\n",
       "    'location': 'North West UK',\n",
       "    'description': '#UKhousing ICT chap https://t.co/77hILW92X9 ,Canon 5D LRPS 📸 https://t.co/9WxqUlJBe5  🚴CommLibrary bod https://t.co/th6wQ4PcmR #SocialHousing',\n",
       "    'url': None,\n",
       "    'entities': {'description': {'urls': [{'url': 'https://t.co/77hILW92X9',\n",
       "        'expanded_url': 'https://bit.ly/3FjZTHN',\n",
       "        'display_url': 'bit.ly/3FjZTHN',\n",
       "        'indices': [20, 43]},\n",
       "       {'url': 'https://t.co/9WxqUlJBe5',\n",
       "        'expanded_url': 'https://twitter.com/HotpixUK',\n",
       "        'display_url': 'twitter.com/HotpixUK',\n",
       "        'indices': [61, 84]},\n",
       "       {'url': 'https://t.co/th6wQ4PcmR',\n",
       "        'expanded_url': 'https://goo.gl/yYJKCj',\n",
       "        'display_url': 'goo.gl/yYJKCj',\n",
       "        'indices': [103, 126]}]}},\n",
       "    'protected': False,\n",
       "    'followers_count': 16910,\n",
       "    'friends_count': 15480,\n",
       "    'listed_count': 539,\n",
       "    'created_at': 'Sun Sep 18 21:12:22 +0000 2011',\n",
       "    'favourites_count': 38696,\n",
       "    'utc_offset': None,\n",
       "    'time_zone': None,\n",
       "    'geo_enabled': True,\n",
       "    'verified': False,\n",
       "    'statuses_count': 148190,\n",
       "    'lang': None,\n",
       "    'contributors_enabled': False,\n",
       "    'is_translator': False,\n",
       "    'is_translation_enabled': False,\n",
       "    'profile_background_color': 'C0DEED',\n",
       "    'profile_background_image_url': 'http://abs.twimg.com/images/themes/theme1/bg.png',\n",
       "    'profile_background_image_url_https': 'https://abs.twimg.com/images/themes/theme1/bg.png',\n",
       "    'profile_background_tile': False,\n",
       "    'profile_image_url': 'http://pbs.twimg.com/profile_images/1186006041517084672/-3gQwEzB_normal.jpg',\n",
       "    'profile_image_url_https': 'https://pbs.twimg.com/profile_images/1186006041517084672/-3gQwEzB_normal.jpg',\n",
       "    'profile_banner_url': 'https://pbs.twimg.com/profile_banners/375854213/1636931663',\n",
       "    'profile_link_color': '0084B4',\n",
       "    'profile_sidebar_border_color': 'C0DEED',\n",
       "    'profile_sidebar_fill_color': 'DDEEF6',\n",
       "    'profile_text_color': '333333',\n",
       "    'profile_use_background_image': True,\n",
       "    'has_extended_profile': False,\n",
       "    'default_profile': False,\n",
       "    'default_profile_image': False,\n",
       "    'following': False,\n",
       "    'follow_request_sent': False,\n",
       "    'notifications': False,\n",
       "    'translator_type': 'none',\n",
       "    'withheld_in_countries': []},\n",
       "   'geo': None,\n",
       "   'coordinates': None,\n",
       "   'place': None,\n",
       "   'contributors': None,\n",
       "   'retweeted_status': {'created_at': 'Tue Aug 16 12:01:00 +0000 2022',\n",
       "    'id': 1559510534524772358,\n",
       "    'id_str': '1559510534524772358',\n",
       "    'text': 'Community growing schemes and mapping empty housing identified as key sustainability goals for Cornwall… https://t.co/fgeMTyTzf1',\n",
       "    'truncated': True,\n",
       "    'entities': {'hashtags': [],\n",
       "     'symbols': [],\n",
       "     'user_mentions': [],\n",
       "     'urls': [{'url': 'https://t.co/fgeMTyTzf1',\n",
       "       'expanded_url': 'https://twitter.com/i/web/status/1559510534524772358',\n",
       "       'display_url': 'twitter.com/i/web/status/1…',\n",
       "       'indices': [105, 128]}]},\n",
       "    'metadata': {'iso_language_code': 'en', 'result_type': 'recent'},\n",
       "    'source': '<a href=\"https://about.twitter.com/products/tweetdeck\" rel=\"nofollow\">TweetDeck</a>',\n",
       "    'in_reply_to_status_id': None,\n",
       "    'in_reply_to_status_id_str': None,\n",
       "    'in_reply_to_user_id': None,\n",
       "    'in_reply_to_user_id_str': None,\n",
       "    'in_reply_to_screen_name': None,\n",
       "    'user': {'id': 375854213,\n",
       "     'id_str': '375854213',\n",
       "     'name': 'Ｔｏｎｙ Ｓｍｉｔｈ ＡＣＩＨ                     #SocialHousing',\n",
       "     'screen_name': 'HousingITguy',\n",
       "     'location': 'North West UK',\n",
       "     'description': '#UKhousing ICT chap https://t.co/77hILW92X9 ,Canon 5D LRPS 📸 https://t.co/9WxqUlJBe5  🚴CommLibrary bod https://t.co/th6wQ4PcmR #SocialHousing',\n",
       "     'url': None,\n",
       "     'entities': {'description': {'urls': [{'url': 'https://t.co/77hILW92X9',\n",
       "         'expanded_url': 'https://bit.ly/3FjZTHN',\n",
       "         'display_url': 'bit.ly/3FjZTHN',\n",
       "         'indices': [20, 43]},\n",
       "        {'url': 'https://t.co/9WxqUlJBe5',\n",
       "         'expanded_url': 'https://twitter.com/HotpixUK',\n",
       "         'display_url': 'twitter.com/HotpixUK',\n",
       "         'indices': [61, 84]},\n",
       "        {'url': 'https://t.co/th6wQ4PcmR',\n",
       "         'expanded_url': 'https://goo.gl/yYJKCj',\n",
       "         'display_url': 'goo.gl/yYJKCj',\n",
       "         'indices': [103, 126]}]}},\n",
       "     'protected': False,\n",
       "     'followers_count': 16910,\n",
       "     'friends_count': 15480,\n",
       "     'listed_count': 539,\n",
       "     'created_at': 'Sun Sep 18 21:12:22 +0000 2011',\n",
       "     'favourites_count': 38696,\n",
       "     'utc_offset': None,\n",
       "     'time_zone': None,\n",
       "     'geo_enabled': True,\n",
       "     'verified': False,\n",
       "     'statuses_count': 148190,\n",
       "     'lang': None,\n",
       "     'contributors_enabled': False,\n",
       "     'is_translator': False,\n",
       "     'is_translation_enabled': False,\n",
       "     'profile_background_color': 'C0DEED',\n",
       "     'profile_background_image_url': 'http://abs.twimg.com/images/themes/theme1/bg.png',\n",
       "     'profile_background_image_url_https': 'https://abs.twimg.com/images/themes/theme1/bg.png',\n",
       "     'profile_background_tile': False,\n",
       "     'profile_image_url': 'http://pbs.twimg.com/profile_images/1186006041517084672/-3gQwEzB_normal.jpg',\n",
       "     'profile_image_url_https': 'https://pbs.twimg.com/profile_images/1186006041517084672/-3gQwEzB_normal.jpg',\n",
       "     'profile_banner_url': 'https://pbs.twimg.com/profile_banners/375854213/1636931663',\n",
       "     'profile_link_color': '0084B4',\n",
       "     'profile_sidebar_border_color': 'C0DEED',\n",
       "     'profile_sidebar_fill_color': 'DDEEF6',\n",
       "     'profile_text_color': '333333',\n",
       "     'profile_use_background_image': True,\n",
       "     'has_extended_profile': False,\n",
       "     'default_profile': False,\n",
       "     'default_profile_image': False,\n",
       "     'following': False,\n",
       "     'follow_request_sent': False,\n",
       "     'notifications': False,\n",
       "     'translator_type': 'none',\n",
       "     'withheld_in_countries': []},\n",
       "    'geo': None,\n",
       "    'coordinates': None,\n",
       "    'place': None,\n",
       "    'contributors': None,\n",
       "    'is_quote_status': False,\n",
       "    'retweet_count': 1,\n",
       "    'favorite_count': 0,\n",
       "    'favorited': False,\n",
       "    'retweeted': False,\n",
       "    'possibly_sensitive': False,\n",
       "    'lang': 'en'},\n",
       "   'is_quote_status': False,\n",
       "   'retweet_count': 1,\n",
       "   'favorite_count': 0,\n",
       "   'favorited': False,\n",
       "   'retweeted': False,\n",
       "   'lang': 'en'},\n",
       "  {'created_at': 'Tue Aug 16 19:00:31 +0000 2022',\n",
       "   'id': 1559616111246704643,\n",
       "   'id_str': '1559616111246704643',\n",
       "   'text': 'RT @SMTToday: Nordson #Electronics Solutions Hires Parker Abdo as Key Account Sales Manager for the Southwestern #USA. Strengthens support…',\n",
       "   'truncated': False,\n",
       "   'entities': {'hashtags': [{'text': 'Electronics', 'indices': [22, 34]},\n",
       "     {'text': 'USA', 'indices': [113, 117]}],\n",
       "    'symbols': [],\n",
       "    'user_mentions': [{'screen_name': 'SMTToday',\n",
       "      'name': 'SMT Today',\n",
       "      'id': 2149267646,\n",
       "      'id_str': '2149267646',\n",
       "      'indices': [3, 12]}],\n",
       "    'urls': []},\n",
       "   'metadata': {'iso_language_code': 'en', 'result_type': 'recent'},\n",
       "   'source': '<a href=\"https://help.twitter.com/en/using-twitter/how-to-tweet#source-labels\" rel=\"nofollow\">education-bot</a>',\n",
       "   'in_reply_to_status_id': None,\n",
       "   'in_reply_to_status_id_str': None,\n",
       "   'in_reply_to_user_id': None,\n",
       "   'in_reply_to_user_id_str': None,\n",
       "   'in_reply_to_screen_name': None,\n",
       "   'user': {'id': 1295715136141963267,\n",
       "    'id_str': '1295715136141963267',\n",
       "    'name': 'Education World',\n",
       "    'screen_name': 'education_24x7',\n",
       "    'location': 'Delhi',\n",
       "    'description': 'All education content. Education changes the life.\\nSoftware Developer| ML | DS | Technical Blogging at https://t.co/WNErKjwYtH |',\n",
       "    'url': 'https://t.co/e6rkb3X12F',\n",
       "    'entities': {'url': {'urls': [{'url': 'https://t.co/e6rkb3X12F',\n",
       "        'expanded_url': 'http://collegebricks.com',\n",
       "        'display_url': 'collegebricks.com',\n",
       "        'indices': [0, 23]}]},\n",
       "     'description': {'urls': [{'url': 'https://t.co/WNErKjwYtH',\n",
       "        'expanded_url': 'http://techmorf.com',\n",
       "        'display_url': 'techmorf.com',\n",
       "        'indices': [103, 126]}]}},\n",
       "    'protected': False,\n",
       "    'followers_count': 8185,\n",
       "    'friends_count': 7,\n",
       "    'listed_count': 105,\n",
       "    'created_at': 'Tue Aug 18 13:32:42 +0000 2020',\n",
       "    'favourites_count': 18,\n",
       "    'utc_offset': None,\n",
       "    'time_zone': None,\n",
       "    'geo_enabled': False,\n",
       "    'verified': False,\n",
       "    'statuses_count': 702709,\n",
       "    'lang': None,\n",
       "    'contributors_enabled': False,\n",
       "    'is_translator': False,\n",
       "    'is_translation_enabled': False,\n",
       "    'profile_background_color': 'F5F8FA',\n",
       "    'profile_background_image_url': None,\n",
       "    'profile_background_image_url_https': None,\n",
       "    'profile_background_tile': False,\n",
       "    'profile_image_url': 'http://pbs.twimg.com/profile_images/1387823590649724931/aQPAm5FU_normal.jpg',\n",
       "    'profile_image_url_https': 'https://pbs.twimg.com/profile_images/1387823590649724931/aQPAm5FU_normal.jpg',\n",
       "    'profile_link_color': '1DA1F2',\n",
       "    'profile_sidebar_border_color': 'C0DEED',\n",
       "    'profile_sidebar_fill_color': 'DDEEF6',\n",
       "    'profile_text_color': '333333',\n",
       "    'profile_use_background_image': True,\n",
       "    'has_extended_profile': True,\n",
       "    'default_profile': True,\n",
       "    'default_profile_image': False,\n",
       "    'following': False,\n",
       "    'follow_request_sent': False,\n",
       "    'notifications': False,\n",
       "    'translator_type': 'none',\n",
       "    'withheld_in_countries': []},\n",
       "   'geo': None,\n",
       "   'coordinates': None,\n",
       "   'place': None,\n",
       "   'contributors': None,\n",
       "   'retweeted_status': {'created_at': 'Tue Aug 16 09:34:28 +0000 2022',\n",
       "    'id': 1559473660070592512,\n",
       "    'id_str': '1559473660070592512',\n",
       "    'text': 'Nordson #Electronics Solutions Hires Parker Abdo as Key Account Sales Manager for the Southwestern #USA. Strengthen… https://t.co/7yVHtakBHw',\n",
       "    'truncated': True,\n",
       "    'entities': {'hashtags': [{'text': 'Electronics', 'indices': [8, 20]},\n",
       "      {'text': 'USA', 'indices': [99, 103]}],\n",
       "     'symbols': [],\n",
       "     'user_mentions': [],\n",
       "     'urls': [{'url': 'https://t.co/7yVHtakBHw',\n",
       "       'expanded_url': 'https://twitter.com/i/web/status/1559473660070592512',\n",
       "       'display_url': 'twitter.com/i/web/status/1…',\n",
       "       'indices': [117, 140]}]},\n",
       "    'metadata': {'iso_language_code': 'en', 'result_type': 'recent'},\n",
       "    'source': '<a href=\"https://mobile.twitter.com\" rel=\"nofollow\">Twitter Web App</a>',\n",
       "    'in_reply_to_status_id': None,\n",
       "    'in_reply_to_status_id_str': None,\n",
       "    'in_reply_to_user_id': None,\n",
       "    'in_reply_to_user_id_str': None,\n",
       "    'in_reply_to_screen_name': None,\n",
       "    'user': {'id': 2149267646,\n",
       "     'id_str': '2149267646',\n",
       "     'name': 'SMT Today',\n",
       "     'screen_name': 'SMTToday',\n",
       "     'location': 'Europe',\n",
       "     'description': 'A high quality publication dedicated to the SMT and Electronics Industry.\\n\\nhttps://t.co/noJgbLffLZ',\n",
       "     'url': 'https://t.co/dRb14yx3zd',\n",
       "     'entities': {'url': {'urls': [{'url': 'https://t.co/dRb14yx3zd',\n",
       "         'expanded_url': 'http://smttoday.com',\n",
       "         'display_url': 'smttoday.com',\n",
       "         'indices': [0, 23]}]},\n",
       "      'description': {'urls': [{'url': 'https://t.co/noJgbLffLZ',\n",
       "         'expanded_url': 'http://smt.digital/Issue44',\n",
       "         'display_url': 'smt.digital/Issue44',\n",
       "         'indices': [75, 98]}]}},\n",
       "     'protected': False,\n",
       "     'followers_count': 3231,\n",
       "     'friends_count': 2392,\n",
       "     'listed_count': 83,\n",
       "     'created_at': 'Tue Oct 22 15:45:31 +0000 2013',\n",
       "     'favourites_count': 1990,\n",
       "     'utc_offset': None,\n",
       "     'time_zone': None,\n",
       "     'geo_enabled': True,\n",
       "     'verified': False,\n",
       "     'statuses_count': 3500,\n",
       "     'lang': None,\n",
       "     'contributors_enabled': False,\n",
       "     'is_translator': False,\n",
       "     'is_translation_enabled': False,\n",
       "     'profile_background_color': 'F78F1E',\n",
       "     'profile_background_image_url': 'http://abs.twimg.com/images/themes/theme1/bg.png',\n",
       "     'profile_background_image_url_https': 'https://abs.twimg.com/images/themes/theme1/bg.png',\n",
       "     'profile_background_tile': False,\n",
       "     'profile_image_url': 'http://pbs.twimg.com/profile_images/847017890159230977/Lb40ju4p_normal.jpg',\n",
       "     'profile_image_url_https': 'https://pbs.twimg.com/profile_images/847017890159230977/Lb40ju4p_normal.jpg',\n",
       "     'profile_banner_url': 'https://pbs.twimg.com/profile_banners/2149267646/1556797026',\n",
       "     'profile_link_color': 'F78F1E',\n",
       "     'profile_sidebar_border_color': 'FFFFFF',\n",
       "     'profile_sidebar_fill_color': 'DDEEF6',\n",
       "     'profile_text_color': '333333',\n",
       "     'profile_use_background_image': True,\n",
       "     'has_extended_profile': False,\n",
       "     'default_profile': False,\n",
       "     'default_profile_image': False,\n",
       "     'following': False,\n",
       "     'follow_request_sent': False,\n",
       "     'notifications': False,\n",
       "     'translator_type': 'none',\n",
       "     'withheld_in_countries': []},\n",
       "    'geo': None,\n",
       "    'coordinates': None,\n",
       "    'place': None,\n",
       "    'contributors': None,\n",
       "    'is_quote_status': False,\n",
       "    'retweet_count': 1,\n",
       "    'favorite_count': 0,\n",
       "    'favorited': False,\n",
       "    'retweeted': False,\n",
       "    'possibly_sensitive': False,\n",
       "    'lang': 'en'},\n",
       "   'is_quote_status': False,\n",
       "   'retweet_count': 1,\n",
       "   'favorite_count': 0,\n",
       "   'favorited': False,\n",
       "   'retweeted': False,\n",
       "   'lang': 'en'},\n",
       "  {'created_at': 'Tue Aug 16 18:25:06 +0000 2022',\n",
       "   'id': 1559607197776187393,\n",
       "   'id_str': '1559607197776187393',\n",
       "   'text': 'Trail runs to arch nearly a football field long\\n#archesnationalpark #moab #Southwest https://t.co/wHMB71phdb https://t.co/c0Xd9f4jag',\n",
       "   'truncated': False,\n",
       "   'entities': {'hashtags': [{'text': 'archesnationalpark',\n",
       "      'indices': [48, 67]},\n",
       "     {'text': 'moab', 'indices': [68, 73]},\n",
       "     {'text': 'Southwest', 'indices': [74, 84]}],\n",
       "    'symbols': [],\n",
       "    'user_mentions': [],\n",
       "    'urls': [{'url': 'https://t.co/wHMB71phdb',\n",
       "      'expanded_url': 'https://hikeswithtykes.blogspot.com/2016/09/trail-runs-to-arch-nearly-football.html',\n",
       "      'display_url': 'hikeswithtykes.blogspot.com/2016/09/trail-…',\n",
       "      'indices': [85, 108]}],\n",
       "    'media': [{'id': 1559607194273943558,\n",
       "      'id_str': '1559607194273943558',\n",
       "      'indices': [109, 132],\n",
       "      'media_url': 'http://pbs.twimg.com/media/FaTWeuPXkAYs531.jpg',\n",
       "      'media_url_https': 'https://pbs.twimg.com/media/FaTWeuPXkAYs531.jpg',\n",
       "      'url': 'https://t.co/c0Xd9f4jag',\n",
       "      'display_url': 'pic.twitter.com/c0Xd9f4jag',\n",
       "      'expanded_url': 'https://twitter.com/dayhikingtrails/status/1559607197776187393/photo/1',\n",
       "      'type': 'photo',\n",
       "      'sizes': {'thumb': {'w': 150, 'h': 150, 'resize': 'crop'},\n",
       "       'large': {'w': 1200, 'h': 630, 'resize': 'fit'},\n",
       "       'small': {'w': 680, 'h': 357, 'resize': 'fit'},\n",
       "       'medium': {'w': 1200, 'h': 630, 'resize': 'fit'}}}]},\n",
       "   'extended_entities': {'media': [{'id': 1559607194273943558,\n",
       "      'id_str': '1559607194273943558',\n",
       "      'indices': [109, 132],\n",
       "      'media_url': 'http://pbs.twimg.com/media/FaTWeuPXkAYs531.jpg',\n",
       "      'media_url_https': 'https://pbs.twimg.com/media/FaTWeuPXkAYs531.jpg',\n",
       "      'url': 'https://t.co/c0Xd9f4jag',\n",
       "      'display_url': 'pic.twitter.com/c0Xd9f4jag',\n",
       "      'expanded_url': 'https://twitter.com/dayhikingtrails/status/1559607197776187393/photo/1',\n",
       "      'type': 'photo',\n",
       "      'sizes': {'thumb': {'w': 150, 'h': 150, 'resize': 'crop'},\n",
       "       'large': {'w': 1200, 'h': 630, 'resize': 'fit'},\n",
       "       'small': {'w': 680, 'h': 357, 'resize': 'fit'},\n",
       "       'medium': {'w': 1200, 'h': 630, 'resize': 'fit'}}}]},\n",
       "   'metadata': {'iso_language_code': 'en', 'result_type': 'recent'},\n",
       "   'source': '<a href=\"https://app.agorapulse.com\" rel=\"nofollow\">Agorapulse app</a>',\n",
       "   'in_reply_to_status_id': None,\n",
       "   'in_reply_to_status_id_str': None,\n",
       "   'in_reply_to_user_id': None,\n",
       "   'in_reply_to_user_id_str': None,\n",
       "   'in_reply_to_screen_name': None,\n",
       "   'user': {'id': 360930955,\n",
       "    'id_str': '360930955',\n",
       "    'name': 'Day Hiking Trails',\n",
       "    'screen_name': 'dayhikingtrails',\n",
       "    'location': '',\n",
       "    'description': 'The only complete guide to great day hiking trails at popular state and national parks, as well as family-friendly hiking tips. #dayhikingtrails',\n",
       "    'url': 'http://t.co/JwQHjnkR6i',\n",
       "    'entities': {'url': {'urls': [{'url': 'http://t.co/JwQHjnkR6i',\n",
       "        'expanded_url': 'http://hikeswithtykes.blogspot.com/',\n",
       "        'display_url': 'hikeswithtykes.blogspot.com',\n",
       "        'indices': [0, 22]}]},\n",
       "     'description': {'urls': []}},\n",
       "    'protected': False,\n",
       "    'followers_count': 32229,\n",
       "    'friends_count': 5602,\n",
       "    'listed_count': 826,\n",
       "    'created_at': 'Wed Aug 24 00:10:15 +0000 2011',\n",
       "    'favourites_count': 25264,\n",
       "    'utc_offset': None,\n",
       "    'time_zone': None,\n",
       "    'geo_enabled': False,\n",
       "    'verified': False,\n",
       "    'statuses_count': 573261,\n",
       "    'lang': None,\n",
       "    'contributors_enabled': False,\n",
       "    'is_translator': False,\n",
       "    'is_translation_enabled': False,\n",
       "    'profile_background_color': '352726',\n",
       "    'profile_background_image_url': 'http://abs.twimg.com/images/themes/theme5/bg.gif',\n",
       "    'profile_background_image_url_https': 'https://abs.twimg.com/images/themes/theme5/bg.gif',\n",
       "    'profile_background_tile': False,\n",
       "    'profile_image_url': 'http://pbs.twimg.com/profile_images/508964222072410112/A_JVVmSe_normal.jpeg',\n",
       "    'profile_image_url_https': 'https://pbs.twimg.com/profile_images/508964222072410112/A_JVVmSe_normal.jpeg',\n",
       "    'profile_banner_url': 'https://pbs.twimg.com/profile_banners/360930955/1353422240',\n",
       "    'profile_link_color': 'E33F16',\n",
       "    'profile_sidebar_border_color': 'FFFFFF',\n",
       "    'profile_sidebar_fill_color': 'DDEEF6',\n",
       "    'profile_text_color': '333333',\n",
       "    'profile_use_background_image': True,\n",
       "    'has_extended_profile': False,\n",
       "    'default_profile': False,\n",
       "    'default_profile_image': False,\n",
       "    'following': False,\n",
       "    'follow_request_sent': False,\n",
       "    'notifications': False,\n",
       "    'translator_type': 'none',\n",
       "    'withheld_in_countries': []},\n",
       "   'geo': None,\n",
       "   'coordinates': None,\n",
       "   'place': None,\n",
       "   'contributors': None,\n",
       "   'is_quote_status': False,\n",
       "   'retweet_count': 0,\n",
       "   'favorite_count': 1,\n",
       "   'favorited': False,\n",
       "   'retweeted': False,\n",
       "   'possibly_sensitive': False,\n",
       "   'lang': 'en'},\n",
       "  {'created_at': 'Tue Aug 16 18:16:04 +0000 2022',\n",
       "   'id': 1559604923167174657,\n",
       "   'id_str': '1559604923167174657',\n",
       "   'text': 'RT @RetroCEO: Unique #necklace with part #tribal, part #southwest, and part #Egyptian vibe by #designer You and I. This flashy number would…',\n",
       "   'truncated': False,\n",
       "   'entities': {'hashtags': [{'text': 'necklace', 'indices': [21, 30]},\n",
       "     {'text': 'tribal', 'indices': [41, 48]},\n",
       "     {'text': 'southwest', 'indices': [55, 65]},\n",
       "     {'text': 'Egyptian', 'indices': [76, 85]},\n",
       "     {'text': 'designer', 'indices': [94, 103]}],\n",
       "    'symbols': [],\n",
       "    'user_mentions': [{'screen_name': 'RetroCEO',\n",
       "      'name': 'Bitchin Retro',\n",
       "      'id': 777602464706994176,\n",
       "      'id_str': '777602464706994176',\n",
       "      'indices': [3, 12]}],\n",
       "    'urls': []},\n",
       "   'metadata': {'iso_language_code': 'en', 'result_type': 'recent'},\n",
       "   'source': '<a href=\"https://mobile.twitter.com\" rel=\"nofollow\">Twitter Web App</a>',\n",
       "   'in_reply_to_status_id': None,\n",
       "   'in_reply_to_status_id_str': None,\n",
       "   'in_reply_to_user_id': None,\n",
       "   'in_reply_to_user_id_str': None,\n",
       "   'in_reply_to_screen_name': None,\n",
       "   'user': {'id': 1157569994,\n",
       "    'id_str': '1157569994',\n",
       "    'name': 'Glowblock Lamps',\n",
       "    'screen_name': 'RubyPerry11',\n",
       "    'location': 'Kansas, USA',\n",
       "    'description': 'Welcome to Glowblock Lamps, glass block lamps for home and office.  FREE SHIPPING!  Find them on Etsy at:\\nhttps://t.co/ByPthW2e90\\nhttps://t.co/Eb9WeydaLT',\n",
       "    'url': 'https://t.co/l7kpDyiC7E',\n",
       "    'entities': {'url': {'urls': [{'url': 'https://t.co/l7kpDyiC7E',\n",
       "        'expanded_url': 'http://www.glowblocks.biz',\n",
       "        'display_url': 'glowblocks.biz',\n",
       "        'indices': [0, 23]}]},\n",
       "     'description': {'urls': [{'url': 'https://t.co/ByPthW2e90',\n",
       "        'expanded_url': 'http://etsy.com/shop/Glowblocks',\n",
       "        'display_url': 'etsy.com/shop/Glowblocks',\n",
       "        'indices': [106, 129]},\n",
       "       {'url': 'https://t.co/Eb9WeydaLT',\n",
       "        'expanded_url': 'http://facebook.com/glowblocks',\n",
       "        'display_url': 'facebook.com/glowblocks',\n",
       "        'indices': [130, 153]}]}},\n",
       "    'protected': False,\n",
       "    'followers_count': 5484,\n",
       "    'friends_count': 3878,\n",
       "    'listed_count': 64,\n",
       "    'created_at': 'Thu Feb 07 16:16:00 +0000 2013',\n",
       "    'favourites_count': 42661,\n",
       "    'utc_offset': None,\n",
       "    'time_zone': None,\n",
       "    'geo_enabled': False,\n",
       "    'verified': False,\n",
       "    'statuses_count': 171890,\n",
       "    'lang': None,\n",
       "    'contributors_enabled': False,\n",
       "    'is_translator': False,\n",
       "    'is_translation_enabled': False,\n",
       "    'profile_background_color': '000000',\n",
       "    'profile_background_image_url': 'http://abs.twimg.com/images/themes/theme1/bg.png',\n",
       "    'profile_background_image_url_https': 'https://abs.twimg.com/images/themes/theme1/bg.png',\n",
       "    'profile_background_tile': False,\n",
       "    'profile_image_url': 'http://pbs.twimg.com/profile_images/1354830171216470024/hD0nCGRL_normal.jpg',\n",
       "    'profile_image_url_https': 'https://pbs.twimg.com/profile_images/1354830171216470024/hD0nCGRL_normal.jpg',\n",
       "    'profile_banner_url': 'https://pbs.twimg.com/profile_banners/1157569994/1608160137',\n",
       "    'profile_link_color': 'E81C4F',\n",
       "    'profile_sidebar_border_color': '000000',\n",
       "    'profile_sidebar_fill_color': '000000',\n",
       "    'profile_text_color': '000000',\n",
       "    'profile_use_background_image': False,\n",
       "    'has_extended_profile': False,\n",
       "    'default_profile': False,\n",
       "    'default_profile_image': False,\n",
       "    'following': False,\n",
       "    'follow_request_sent': False,\n",
       "    'notifications': False,\n",
       "    'translator_type': 'none',\n",
       "    'withheld_in_countries': []},\n",
       "   'geo': None,\n",
       "   'coordinates': None,\n",
       "   'place': None,\n",
       "   'contributors': None,\n",
       "   'retweeted_status': {'created_at': 'Sun Aug 14 20:37:37 +0000 2022',\n",
       "    'id': 1558915768087203841,\n",
       "    'id_str': '1558915768087203841',\n",
       "    'text': 'Unique #necklace with part #tribal, part #southwest, and part #Egyptian vibe by #designer You and I. This flashy nu… https://t.co/KTsKjvJORf',\n",
       "    'truncated': True,\n",
       "    'entities': {'hashtags': [{'text': 'necklace', 'indices': [7, 16]},\n",
       "      {'text': 'tribal', 'indices': [27, 34]},\n",
       "      {'text': 'southwest', 'indices': [41, 51]},\n",
       "      {'text': 'Egyptian', 'indices': [62, 71]},\n",
       "      {'text': 'designer', 'indices': [80, 89]}],\n",
       "     'symbols': [],\n",
       "     'user_mentions': [],\n",
       "     'urls': [{'url': 'https://t.co/KTsKjvJORf',\n",
       "       'expanded_url': 'https://twitter.com/i/web/status/1558915768087203841',\n",
       "       'display_url': 'twitter.com/i/web/status/1…',\n",
       "       'indices': [117, 140]}]},\n",
       "    'metadata': {'iso_language_code': 'en', 'result_type': 'recent'},\n",
       "    'source': '<a href=\"https://mobile.twitter.com\" rel=\"nofollow\">Twitter Web App</a>',\n",
       "    'in_reply_to_status_id': None,\n",
       "    'in_reply_to_status_id_str': None,\n",
       "    'in_reply_to_user_id': None,\n",
       "    'in_reply_to_user_id_str': None,\n",
       "    'in_reply_to_screen_name': None,\n",
       "    'user': {'id': 777602464706994176,\n",
       "     'id_str': '777602464706994176',\n",
       "     'name': 'Bitchin Retro',\n",
       "     'screen_name': 'RetroCEO',\n",
       "     'location': 'Bitchintown, USA',\n",
       "     'description': 'We love kitschy vintage & all things jewelry. Find us on Instagram Pinterest or Reddit page \"VintageCostumeJewelry\" #Vintage #Jewelry #Designer #VintageJewelry',\n",
       "     'url': 'https://t.co/tDZtomBVKm',\n",
       "     'entities': {'url': {'urls': [{'url': 'https://t.co/tDZtomBVKm',\n",
       "         'expanded_url': 'http://www.bitchinretro.com',\n",
       "         'display_url': 'bitchinretro.com',\n",
       "         'indices': [0, 23]}]},\n",
       "      'description': {'urls': []}},\n",
       "     'protected': False,\n",
       "     'followers_count': 9234,\n",
       "     'friends_count': 6960,\n",
       "     'listed_count': 92,\n",
       "     'created_at': 'Sun Sep 18 20:17:29 +0000 2016',\n",
       "     'favourites_count': 2546,\n",
       "     'utc_offset': None,\n",
       "     'time_zone': None,\n",
       "     'geo_enabled': False,\n",
       "     'verified': False,\n",
       "     'statuses_count': 78559,\n",
       "     'lang': None,\n",
       "     'contributors_enabled': False,\n",
       "     'is_translator': False,\n",
       "     'is_translation_enabled': False,\n",
       "     'profile_background_color': '000000',\n",
       "     'profile_background_image_url': 'http://abs.twimg.com/images/themes/theme1/bg.png',\n",
       "     'profile_background_image_url_https': 'https://abs.twimg.com/images/themes/theme1/bg.png',\n",
       "     'profile_background_tile': False,\n",
       "     'profile_image_url': 'http://pbs.twimg.com/profile_images/1198345437318660098/I2t316Oi_normal.jpg',\n",
       "     'profile_image_url_https': 'https://pbs.twimg.com/profile_images/1198345437318660098/I2t316Oi_normal.jpg',\n",
       "     'profile_banner_url': 'https://pbs.twimg.com/profile_banners/777602464706994176/1545836024',\n",
       "     'profile_link_color': '1B95E0',\n",
       "     'profile_sidebar_border_color': '000000',\n",
       "     'profile_sidebar_fill_color': '000000',\n",
       "     'profile_text_color': '000000',\n",
       "     'profile_use_background_image': False,\n",
       "     'has_extended_profile': False,\n",
       "     'default_profile': False,\n",
       "     'default_profile_image': False,\n",
       "     'following': False,\n",
       "     'follow_request_sent': False,\n",
       "     'notifications': False,\n",
       "     'translator_type': 'none',\n",
       "     'withheld_in_countries': []},\n",
       "    'geo': None,\n",
       "    'coordinates': None,\n",
       "    'place': None,\n",
       "    'contributors': None,\n",
       "    'is_quote_status': False,\n",
       "    'retweet_count': 25,\n",
       "    'favorite_count': 10,\n",
       "    'favorited': False,\n",
       "    'retweeted': False,\n",
       "    'possibly_sensitive': False,\n",
       "    'lang': 'en'},\n",
       "   'is_quote_status': False,\n",
       "   'retweet_count': 25,\n",
       "   'favorite_count': 0,\n",
       "   'favorited': False,\n",
       "   'retweeted': False,\n",
       "   'lang': 'en'},\n",
       "  {'created_at': 'Tue Aug 16 18:13:20 +0000 2022',\n",
       "   'id': 1559604235490189317,\n",
       "   'id_str': '1559604235490189317',\n",
       "   'text': '#M5 southbound within J25 | Southbound | Road Works | Somerset #uktrafficdelays #uktravelnews https://t.co/opmv5tyhRn #southwest',\n",
       "   'truncated': False,\n",
       "   'entities': {'hashtags': [{'text': 'M5', 'indices': [0, 3]},\n",
       "     {'text': 'uktrafficdelays', 'indices': [63, 79]},\n",
       "     {'text': 'uktravelnews', 'indices': [80, 93]},\n",
       "     {'text': 'southwest', 'indices': [118, 128]}],\n",
       "    'symbols': [],\n",
       "    'user_mentions': [],\n",
       "    'urls': [{'url': 'https://t.co/opmv5tyhRn',\n",
       "      'expanded_url': 'https://www.trafficdelays.co.uk/m5-southbound-within-j25-southbound-road-works-somerset-2/',\n",
       "      'display_url': 'trafficdelays.co.uk/m5-southbound-…',\n",
       "      'indices': [94, 117]}]},\n",
       "   'metadata': {'iso_language_code': 'en', 'result_type': 'recent'},\n",
       "   'source': '<a href=\"https://www.trafficdelays.co.uk\" rel=\"nofollow\">UK Traffic Delays</a>',\n",
       "   'in_reply_to_status_id': None,\n",
       "   'in_reply_to_status_id_str': None,\n",
       "   'in_reply_to_user_id': None,\n",
       "   'in_reply_to_user_id_str': None,\n",
       "   'in_reply_to_screen_name': None,\n",
       "   'user': {'id': 2859372700,\n",
       "    'id_str': '2859372700',\n",
       "    'name': 'UK Traffic Delays',\n",
       "    'screen_name': 'UKTrafficDelays',\n",
       "    'location': 'UK',\n",
       "    'description': \"Traffic and #travel reports for the UK's major roads. London jam cams, UK motorway roadworks. London bicycle hire. Tweets by Malcolm #uktraffic #trafficdelays\",\n",
       "    'url': 'https://t.co/9vWconk38Z',\n",
       "    'entities': {'url': {'urls': [{'url': 'https://t.co/9vWconk38Z',\n",
       "        'expanded_url': 'https://www.trafficdelays.co.uk',\n",
       "        'display_url': 'trafficdelays.co.uk',\n",
       "        'indices': [0, 23]}]},\n",
       "     'description': {'urls': []}},\n",
       "    'protected': False,\n",
       "    'followers_count': 4065,\n",
       "    'friends_count': 139,\n",
       "    'listed_count': 95,\n",
       "    'created_at': 'Mon Nov 03 19:10:55 +0000 2014',\n",
       "    'favourites_count': 2277,\n",
       "    'utc_offset': None,\n",
       "    'time_zone': None,\n",
       "    'geo_enabled': True,\n",
       "    'verified': False,\n",
       "    'statuses_count': 663669,\n",
       "    'lang': None,\n",
       "    'contributors_enabled': False,\n",
       "    'is_translator': False,\n",
       "    'is_translation_enabled': False,\n",
       "    'profile_background_color': 'C0DEED',\n",
       "    'profile_background_image_url': 'http://abs.twimg.com/images/themes/theme1/bg.png',\n",
       "    'profile_background_image_url_https': 'https://abs.twimg.com/images/themes/theme1/bg.png',\n",
       "    'profile_background_tile': False,\n",
       "    'profile_image_url': 'http://pbs.twimg.com/profile_images/534681898744676352/3DNftWia_normal.jpeg',\n",
       "    'profile_image_url_https': 'https://pbs.twimg.com/profile_images/534681898744676352/3DNftWia_normal.jpeg',\n",
       "    'profile_banner_url': 'https://pbs.twimg.com/profile_banners/2859372700/1415042158',\n",
       "    'profile_link_color': '1DA1F2',\n",
       "    'profile_sidebar_border_color': 'C0DEED',\n",
       "    'profile_sidebar_fill_color': 'DDEEF6',\n",
       "    'profile_text_color': '333333',\n",
       "    'profile_use_background_image': True,\n",
       "    'has_extended_profile': False,\n",
       "    'default_profile': True,\n",
       "    'default_profile_image': False,\n",
       "    'following': False,\n",
       "    'follow_request_sent': False,\n",
       "    'notifications': False,\n",
       "    'translator_type': 'none',\n",
       "    'withheld_in_countries': []},\n",
       "   'geo': None,\n",
       "   'coordinates': None,\n",
       "   'place': None,\n",
       "   'contributors': None,\n",
       "   'is_quote_status': False,\n",
       "   'retweet_count': 0,\n",
       "   'favorite_count': 0,\n",
       "   'favorited': False,\n",
       "   'retweeted': False,\n",
       "   'possibly_sensitive': False,\n",
       "   'lang': 'en'},\n",
       "  {'created_at': 'Tue Aug 16 18:08:17 +0000 2022',\n",
       "   'id': 1559602966700630016,\n",
       "   'id_str': '1559602966700630016',\n",
       "   'text': 'RT @RetroCEO: Unique #necklace with part #tribal, part #southwest, and part #Egyptian vibe by #designer You and I. This flashy number would…',\n",
       "   'truncated': False,\n",
       "   'entities': {'hashtags': [{'text': 'necklace', 'indices': [21, 30]},\n",
       "     {'text': 'tribal', 'indices': [41, 48]},\n",
       "     {'text': 'southwest', 'indices': [55, 65]},\n",
       "     {'text': 'Egyptian', 'indices': [76, 85]},\n",
       "     {'text': 'designer', 'indices': [94, 103]}],\n",
       "    'symbols': [],\n",
       "    'user_mentions': [{'screen_name': 'RetroCEO',\n",
       "      'name': 'Bitchin Retro',\n",
       "      'id': 777602464706994176,\n",
       "      'id_str': '777602464706994176',\n",
       "      'indices': [3, 12]}],\n",
       "    'urls': []},\n",
       "   'metadata': {'iso_language_code': 'en', 'result_type': 'recent'},\n",
       "   'source': '<a href=\"https://mobile.twitter.com\" rel=\"nofollow\">Twitter Web App</a>',\n",
       "   'in_reply_to_status_id': None,\n",
       "   'in_reply_to_status_id_str': None,\n",
       "   'in_reply_to_user_id': None,\n",
       "   'in_reply_to_user_id_str': None,\n",
       "   'in_reply_to_screen_name': None,\n",
       "   'user': {'id': 1263790145515524098,\n",
       "    'id_str': '1263790145515524098',\n",
       "    'name': 'Moores Discount Home Decor',\n",
       "    'screen_name': 'DecorMoores',\n",
       "    'location': 'Florida, USA',\n",
       "    'description': 'Moores discount home decor home decor at the lowest cost nationwide free shipping  2 dollar discounts with PayPal link https://t.co/Dphvp0rCpI',\n",
       "    'url': None,\n",
       "    'entities': {'description': {'urls': [{'url': 'https://t.co/Dphvp0rCpI',\n",
       "        'expanded_url': 'http://PayPal.me/rome357426',\n",
       "        'display_url': 'PayPal.me/rome357426',\n",
       "        'indices': [119, 142]}]}},\n",
       "    'protected': False,\n",
       "    'followers_count': 2569,\n",
       "    'friends_count': 2097,\n",
       "    'listed_count': 17,\n",
       "    'created_at': 'Fri May 22 11:14:09 +0000 2020',\n",
       "    'favourites_count': 13847,\n",
       "    'utc_offset': None,\n",
       "    'time_zone': None,\n",
       "    'geo_enabled': False,\n",
       "    'verified': False,\n",
       "    'statuses_count': 128520,\n",
       "    'lang': None,\n",
       "    'contributors_enabled': False,\n",
       "    'is_translator': False,\n",
       "    'is_translation_enabled': False,\n",
       "    'profile_background_color': 'F5F8FA',\n",
       "    'profile_background_image_url': None,\n",
       "    'profile_background_image_url_https': None,\n",
       "    'profile_background_tile': False,\n",
       "    'profile_image_url': 'http://pbs.twimg.com/profile_images/1263790486415867904/5eXrHdzj_normal.jpg',\n",
       "    'profile_image_url_https': 'https://pbs.twimg.com/profile_images/1263790486415867904/5eXrHdzj_normal.jpg',\n",
       "    'profile_link_color': '1DA1F2',\n",
       "    'profile_sidebar_border_color': 'C0DEED',\n",
       "    'profile_sidebar_fill_color': 'DDEEF6',\n",
       "    'profile_text_color': '333333',\n",
       "    'profile_use_background_image': True,\n",
       "    'has_extended_profile': True,\n",
       "    'default_profile': True,\n",
       "    'default_profile_image': False,\n",
       "    'following': False,\n",
       "    'follow_request_sent': False,\n",
       "    'notifications': False,\n",
       "    'translator_type': 'none',\n",
       "    'withheld_in_countries': []},\n",
       "   'geo': None,\n",
       "   'coordinates': None,\n",
       "   'place': None,\n",
       "   'contributors': None,\n",
       "   'retweeted_status': {'created_at': 'Sun Aug 14 20:37:37 +0000 2022',\n",
       "    'id': 1558915768087203841,\n",
       "    'id_str': '1558915768087203841',\n",
       "    'text': 'Unique #necklace with part #tribal, part #southwest, and part #Egyptian vibe by #designer You and I. This flashy nu… https://t.co/KTsKjvJORf',\n",
       "    'truncated': True,\n",
       "    'entities': {'hashtags': [{'text': 'necklace', 'indices': [7, 16]},\n",
       "      {'text': 'tribal', 'indices': [27, 34]},\n",
       "      {'text': 'southwest', 'indices': [41, 51]},\n",
       "      {'text': 'Egyptian', 'indices': [62, 71]},\n",
       "      {'text': 'designer', 'indices': [80, 89]}],\n",
       "     'symbols': [],\n",
       "     'user_mentions': [],\n",
       "     'urls': [{'url': 'https://t.co/KTsKjvJORf',\n",
       "       'expanded_url': 'https://twitter.com/i/web/status/1558915768087203841',\n",
       "       'display_url': 'twitter.com/i/web/status/1…',\n",
       "       'indices': [117, 140]}]},\n",
       "    'metadata': {'iso_language_code': 'en', 'result_type': 'recent'},\n",
       "    'source': '<a href=\"https://mobile.twitter.com\" rel=\"nofollow\">Twitter Web App</a>',\n",
       "    'in_reply_to_status_id': None,\n",
       "    'in_reply_to_status_id_str': None,\n",
       "    'in_reply_to_user_id': None,\n",
       "    'in_reply_to_user_id_str': None,\n",
       "    'in_reply_to_screen_name': None,\n",
       "    'user': {'id': 777602464706994176,\n",
       "     'id_str': '777602464706994176',\n",
       "     'name': 'Bitchin Retro',\n",
       "     'screen_name': 'RetroCEO',\n",
       "     'location': 'Bitchintown, USA',\n",
       "     'description': 'We love kitschy vintage & all things jewelry. Find us on Instagram Pinterest or Reddit page \"VintageCostumeJewelry\" #Vintage #Jewelry #Designer #VintageJewelry',\n",
       "     'url': 'https://t.co/tDZtomBVKm',\n",
       "     'entities': {'url': {'urls': [{'url': 'https://t.co/tDZtomBVKm',\n",
       "         'expanded_url': 'http://www.bitchinretro.com',\n",
       "         'display_url': 'bitchinretro.com',\n",
       "         'indices': [0, 23]}]},\n",
       "      'description': {'urls': []}},\n",
       "     'protected': False,\n",
       "     'followers_count': 9234,\n",
       "     'friends_count': 6960,\n",
       "     'listed_count': 92,\n",
       "     'created_at': 'Sun Sep 18 20:17:29 +0000 2016',\n",
       "     'favourites_count': 2546,\n",
       "     'utc_offset': None,\n",
       "     'time_zone': None,\n",
       "     'geo_enabled': False,\n",
       "     'verified': False,\n",
       "     'statuses_count': 78559,\n",
       "     'lang': None,\n",
       "     'contributors_enabled': False,\n",
       "     'is_translator': False,\n",
       "     'is_translation_enabled': False,\n",
       "     'profile_background_color': '000000',\n",
       "     'profile_background_image_url': 'http://abs.twimg.com/images/themes/theme1/bg.png',\n",
       "     'profile_background_image_url_https': 'https://abs.twimg.com/images/themes/theme1/bg.png',\n",
       "     'profile_background_tile': False,\n",
       "     'profile_image_url': 'http://pbs.twimg.com/profile_images/1198345437318660098/I2t316Oi_normal.jpg',\n",
       "     'profile_image_url_https': 'https://pbs.twimg.com/profile_images/1198345437318660098/I2t316Oi_normal.jpg',\n",
       "     'profile_banner_url': 'https://pbs.twimg.com/profile_banners/777602464706994176/1545836024',\n",
       "     'profile_link_color': '1B95E0',\n",
       "     'profile_sidebar_border_color': '000000',\n",
       "     'profile_sidebar_fill_color': '000000',\n",
       "     'profile_text_color': '000000',\n",
       "     'profile_use_background_image': False,\n",
       "     'has_extended_profile': False,\n",
       "     'default_profile': False,\n",
       "     'default_profile_image': False,\n",
       "     'following': False,\n",
       "     'follow_request_sent': False,\n",
       "     'notifications': False,\n",
       "     'translator_type': 'none',\n",
       "     'withheld_in_countries': []},\n",
       "    'geo': None,\n",
       "    'coordinates': None,\n",
       "    'place': None,\n",
       "    'contributors': None,\n",
       "    'is_quote_status': False,\n",
       "    'retweet_count': 25,\n",
       "    'favorite_count': 10,\n",
       "    'favorited': False,\n",
       "    'retweeted': False,\n",
       "    'possibly_sensitive': False,\n",
       "    'lang': 'en'},\n",
       "   'is_quote_status': False,\n",
       "   'retweet_count': 25,\n",
       "   'favorite_count': 0,\n",
       "   'favorited': False,\n",
       "   'retweeted': False,\n",
       "   'lang': 'en'}],\n",
       " 'search_metadata': {'completed_in': 0.052,\n",
       "  'max_id': 1559638641361801216,\n",
       "  'max_id_str': '1559638641361801216',\n",
       "  'next_results': '?max_id=1559602966700630015&q=%23Southwest&count=10&include_entities=1',\n",
       "  'query': '%23Southwest',\n",
       "  'refresh_url': '?since_id=1559638641361801216&q=%23Southwest&include_entities=1',\n",
       "  'count': 10,\n",
       "  'since_id': 0,\n",
       "  'since_id_str': '0'}}"
      ]
     },
     "execution_count": 58,
     "metadata": {},
     "output_type": "execute_result"
    }
   ],
   "source": [
    "search_results"
   ]
  },
  {
   "cell_type": "code",
   "execution_count": 59,
   "metadata": {},
   "outputs": [
    {
     "ename": "IndexError",
     "evalue": "list index out of range",
     "output_type": "error",
     "traceback": [
      "\u001b[1;31m---------------------------------------------------------------------------\u001b[0m",
      "\u001b[1;31mIndexError\u001b[0m                                Traceback (most recent call last)",
      "\u001b[1;32m<ipython-input-59-003575880a9f>\u001b[0m in \u001b[0;36m<module>\u001b[1;34m\u001b[0m\n\u001b[1;32m----> 1\u001b[1;33m \u001b[0mprocess_text\u001b[0m\u001b[1;33m(\u001b[0m\u001b[0msearch_results\u001b[0m\u001b[1;33m[\u001b[0m\u001b[1;34m'statuses'\u001b[0m\u001b[1;33m]\u001b[0m\u001b[1;33m[\u001b[0m\u001b[1;36m10\u001b[0m\u001b[1;33m]\u001b[0m\u001b[1;33m[\u001b[0m\u001b[1;34m'text'\u001b[0m\u001b[1;33m]\u001b[0m\u001b[1;33m)\u001b[0m\u001b[1;33m\u001b[0m\u001b[1;33m\u001b[0m\u001b[0m\n\u001b[0m",
      "\u001b[1;31mIndexError\u001b[0m: list index out of range"
     ]
    }
   ],
   "source": [
    "process_text(search_results['statuses'][10]['text'])"
   ]
  },
  {
   "cell_type": "code",
   "execution_count": null,
   "metadata": {},
   "outputs": [],
   "source": []
  }
 ],
 "metadata": {
  "kernelspec": {
   "display_name": "Python (learn-env)",
   "language": "python",
   "name": "learn-env"
  },
  "language_info": {
   "codemirror_mode": {
    "name": "ipython",
    "version": 3
   },
   "file_extension": ".py",
   "mimetype": "text/x-python",
   "name": "python",
   "nbconvert_exporter": "python",
   "pygments_lexer": "ipython3",
   "version": "3.8.5"
  }
 },
 "nbformat": 4,
 "nbformat_minor": 4
}
